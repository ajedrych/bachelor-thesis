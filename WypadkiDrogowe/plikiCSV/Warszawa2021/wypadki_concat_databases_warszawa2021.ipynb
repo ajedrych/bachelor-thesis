{
 "cells": [
  {
   "cell_type": "code",
   "execution_count": 3,
   "metadata": {},
   "outputs": [],
   "source": [
    "import matplotlib.pyplot as plt\n",
    "import pandas as pd\n",
    "import numpy as np"
   ]
  },
  {
   "cell_type": "markdown",
   "metadata": {},
   "source": [
    "### Zdarzenia drogowe - Warszawa 01.2021-10.2021\n"
   ]
  },
  {
   "cell_type": "code",
   "execution_count": 4,
   "metadata": {},
   "outputs": [],
   "source": [
    "warszawa012021 = pd.read_excel(\"warszawa012021.xlsx\")\n",
    "warszawa022021 = pd.read_excel(\"warszawa022021.xlsx\")\n",
    "warszawa032021 = pd.read_excel(\"warszawa032021.xlsx\")\n",
    "warszawa042021 = pd.read_excel(\"warszawa042021.xlsx\")\n",
    "warszawa052021 = pd.read_excel(\"warszawa052021.xlsx\")\n",
    "warszawa062021 = pd.read_excel(\"warszawa062021.xlsx\")\n",
    "warszawa072021 = pd.read_excel(\"warszawa072021.xlsx\")\n",
    "warszawa082021 = pd.read_excel(\"warszawa082021.xlsx\")\n",
    "warszawa092021 = pd.read_excel(\"warszawa092021.xlsx\")\n",
    "warszawa102021 = pd.read_excel(\"warszawa102021.xlsx\")\n",
    "warszawa112021 = pd.read_excel(\"warszawa112021.xlsx\")"
   ]
  },
  {
   "cell_type": "code",
   "execution_count": 5,
   "metadata": {},
   "outputs": [
    {
     "name": "stdout",
     "output_type": "stream",
     "text": [
      "(13687, 137)\n",
      "(13794, 136)\n",
      "(12858, 137)\n",
      "(13325, 137)\n",
      "(15507, 137)\n",
      "(15724, 137)\n",
      "(15427, 137)\n",
      "(15205, 137)\n",
      "(16755, 137)\n",
      "(18015, 137)\n",
      "(4394, 137)\n"
     ]
    }
   ],
   "source": [
    "print(warszawa012021.shape)\n",
    "print(warszawa022021.shape)\n",
    "print(warszawa032021.shape)\n",
    "print(warszawa042021.shape)\n",
    "print(warszawa052021.shape)\n",
    "print(warszawa062021.shape)\n",
    "print(warszawa072021.shape)\n",
    "print(warszawa082021.shape)\n",
    "print(warszawa092021.shape)\n",
    "print(warszawa102021.shape)\n",
    "print(warszawa112021.shape) # niepełne dane z listopada -> analizujemy tylko do października 2021"
   ]
  },
  {
   "cell_type": "code",
   "execution_count": 6,
   "metadata": {},
   "outputs": [],
   "source": [
    "w012021_col =  set(list(warszawa012021.columns.values.tolist()))\n",
    "w022021_col =  set(list(warszawa022021.columns.values.tolist()))\n",
    "w032021_col =  set(list(warszawa032021.columns.values.tolist()))"
   ]
  },
  {
   "cell_type": "code",
   "execution_count": 7,
   "metadata": {},
   "outputs": [
    {
     "name": "stdout",
     "output_type": "stream",
     "text": [
      "missing: ['DZIELNICA']\n"
     ]
    }
   ],
   "source": [
    "missing = list(sorted(w032021_col - w022021_col))\n",
    "\n",
    "print('missing:', missing) # braki w danych -> usuwam kolumnę dzielnica z plików warszawaXX2021"
   ]
  },
  {
   "cell_type": "code",
   "execution_count": 8,
   "metadata": {},
   "outputs": [],
   "source": [
    "warszawa012021 = warszawa012021.drop(['DZIELNICA'], axis=1)\n",
    "warszawa032021 = warszawa032021.drop(['DZIELNICA'], axis=1)\n",
    "warszawa042021 = warszawa042021.drop(['DZIELNICA'], axis=1)\n",
    "warszawa052021 = warszawa052021.drop(['DZIELNICA'], axis=1)\n",
    "warszawa062021 = warszawa062021.drop(['DZIELNICA'], axis=1)\n",
    "warszawa072021 = warszawa072021.drop(['DZIELNICA'], axis=1)\n",
    "warszawa082021 = warszawa082021.drop(['DZIELNICA'], axis=1)\n",
    "warszawa092021 = warszawa092021.drop(['DZIELNICA'], axis=1)\n",
    "warszawa102021 = warszawa102021.drop(['DZIELNICA'], axis=1)"
   ]
  },
  {
   "cell_type": "code",
   "execution_count": 10,
   "metadata": {},
   "outputs": [],
   "source": [
    "# tworze zmienna dla zdarzen drogowych w Warszawie 01-10.2021\n",
    "warszawa2021 = pd.concat([warszawa012021, warszawa022021, warszawa032021, warszawa042021, warszawa052021, warszawa062021, warszawa072021, warszawa082021, warszawa092021, warszawa102021], ignore_index=True)"
   ]
  },
  {
   "cell_type": "code",
   "execution_count": 11,
   "metadata": {},
   "outputs": [],
   "source": [
    "warszawa2021.to_csv('warszawa2021.csv', index=True) # Baza SEWiK 2021 dla Warszawy\n",
    "warszawa2021.to_excel('warszawa2021.xlsx', index=True) # Baza SEWiK 2021 dla Warszawy"
   ]
  }
 ],
 "metadata": {
  "interpreter": {
   "hash": "e7c9f80f3618f45ecfef668bfa3a583f5bb597334d77308f2cc3491cc6d9e9d8"
  },
  "kernelspec": {
   "display_name": "Python 3.9.7 64-bit ('base': conda)",
   "language": "python",
   "name": "python3"
  },
  "language_info": {
   "codemirror_mode": {
    "name": "ipython",
    "version": 3
   },
   "file_extension": ".py",
   "mimetype": "text/x-python",
   "name": "python",
   "nbconvert_exporter": "python",
   "pygments_lexer": "ipython3",
   "version": "3.9.7"
  },
  "orig_nbformat": 4
 },
 "nbformat": 4,
 "nbformat_minor": 2
}
