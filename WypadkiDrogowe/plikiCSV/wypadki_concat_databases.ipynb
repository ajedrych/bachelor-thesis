{
 "cells": [
  {
   "cell_type": "code",
   "execution_count": 3,
   "metadata": {},
   "outputs": [],
   "source": [
    "import matplotlib.pyplot as plt\n",
    "import pandas as pd\n",
    "import numpy as np"
   ]
  },
  {
   "cell_type": "code",
   "execution_count": 13,
   "metadata": {},
   "outputs": [],
   "source": [
    "warszawa2018 = pd.read_excel('warszawa2018.xlsx') #WYPADKI NA TERENIE WARSZAWY - BAZA SEWiK 2018\n",
    "warszawa2019 = pd.read_excel(\"warszawa2019.xlsx\") #WYPADKI NA TERENIE WARSZAWY - BAZA SEWiK 2019\n",
    "warszawa2020 = pd.read_excel(\"warszawa2020.xlsx\") #WYPADKI NA TERENIE WARSZAWY - BAZA SEWiK 2020\n",
    "warszawa2021 = pd.read_excel(\"warszawa2021.xlsx\") #WYPADKI NA TERENIE WARSZAWY - BAZA SEWiK 2020"
   ]
  },
  {
   "cell_type": "code",
   "execution_count": 14,
   "metadata": {},
   "outputs": [
    {
     "name": "stdout",
     "output_type": "stream",
     "text": [
      "(214964, 136)\n",
      "(220679, 136)\n",
      "(173402, 136)\n",
      "(150297, 137)\n"
     ]
    }
   ],
   "source": [
    "print(warszawa2018.shape)\n",
    "print(warszawa2019.shape)\n",
    "print(warszawa2020.shape)\n",
    "print(warszawa2021.shape) # za dużo kolumn w porównaniu z innymi latami"
   ]
  },
  {
   "cell_type": "code",
   "execution_count": 26,
   "metadata": {},
   "outputs": [],
   "source": [
    "# Sprawdzenie czy wszystkie lata mają te same kolumny\n",
    "w2018_col =  set(list(warszawa2018.columns.values.tolist()))\n",
    "w2019_col =  set(list(warszawa2019.columns.values.tolist()))\n",
    "w2020_col =  set(list(warszawa2020.columns.values.tolist()))\n",
    "w2021_col =  set(list(warszawa2021.columns.values.tolist()))"
   ]
  },
  {
   "cell_type": "code",
   "execution_count": 27,
   "metadata": {},
   "outputs": [
    {
     "name": "stdout",
     "output_type": "stream",
     "text": [
      "[]\n",
      "[]\n",
      "[]\n"
     ]
    }
   ],
   "source": [
    "print(list(sorted(w2018_col - w2019_col)))\n",
    "print(list(sorted(w2018_col - w2020_col)))\n",
    "print(list(sorted(w2018_col - w2021_col)))\n",
    "\n",
    " # braki w danych -> usuwam kolumnę dzielnica z plików warszawaXX2021"
   ]
  },
  {
   "cell_type": "code",
   "execution_count": 20,
   "metadata": {},
   "outputs": [],
   "source": [
    "warszawa2018 = warszawa2018.drop(['DataMod13', 'DataMod18', 'DataUtworzenia12', 'DataUtworzenia17', 'ID14', 'ID19', 'ZSPO_ID16', 'ZSPO_ID21', 'ZSUC_ID24', 'ZSZD_ID11', 'ZSZD_ID15', 'ZSZD_ID20'], axis=1)"
   ]
  },
  {
   "cell_type": "code",
   "execution_count": 28,
   "metadata": {},
   "outputs": [
    {
     "name": "stdout",
     "output_type": "stream",
     "text": [
      "(214964, 124)\n",
      "(220679, 136)\n",
      "(173402, 136)\n",
      "(150297, 137)\n"
     ]
    }
   ],
   "source": [
    "print(warszawa2018.shape)\n",
    "print(warszawa2019.shape)\n",
    "print(warszawa2020.shape)\n",
    "print(warszawa2021.shape)"
   ]
  },
  {
   "cell_type": "code",
   "execution_count": 29,
   "metadata": {},
   "outputs": [],
   "source": [
    "w2018_col =  set(list(warszawa2018.columns.values.tolist()))\n",
    "w2019_col =  set(list(warszawa2019.columns.values.tolist()))\n",
    "w2020_col =  set(list(warszawa2020.columns.values.tolist()))\n",
    "w2021_col =  set(list(warszawa2021.columns.values.tolist()))"
   ]
  },
  {
   "cell_type": "code",
   "execution_count": 30,
   "metadata": {},
   "outputs": [
    {
     "name": "stdout",
     "output_type": "stream",
     "text": [
      "['DataMod12', 'DataMod17', 'DataUtworzenia11', 'DataUtworzenia16', 'ID13', 'ID18', 'ZSPO_ID15', 'ZSPO_ID20', 'ZSUC_ID21', 'ZSZD_ID14', 'ZSZD_ID19', 'ZSZD_ID24']\n",
      "['DataMod12', 'DataMod17', 'DataUtworzenia11', 'DataUtworzenia16', 'ID13', 'ID18', 'ZSPO_ID15', 'ZSPO_ID20', 'ZSUC_ID21', 'ZSZD_ID14', 'ZSZD_ID19', 'ZSZD_ID24']\n",
      "[]\n"
     ]
    }
   ],
   "source": [
    "print(list(sorted(w2019_col - w2018_col)))\n",
    "print(list(sorted(w2019_col - w2020_col)))\n",
    "print(list(sorted(w2019_col - w2021_col)))\n",
    "\n",
    " # braki w danych -> usuwam kolumnę dzielnica z plików warszawaXX2021"
   ]
  },
  {
   "cell_type": "code",
   "execution_count": 31,
   "metadata": {},
   "outputs": [],
   "source": [
    "warszawa2019 = warszawa2019.drop(['DataMod12', 'DataMod17', 'DataUtworzenia11', 'DataUtworzenia16', 'ID13', 'ID18', 'ZSPO_ID15', 'ZSPO_ID20', 'ZSUC_ID21', 'ZSZD_ID14', 'ZSZD_ID19', 'ZSZD_ID24'], axis=1)"
   ]
  },
  {
   "cell_type": "code",
   "execution_count": 32,
   "metadata": {},
   "outputs": [],
   "source": [
    "w2019_col =  set(list(warszawa2019.columns.values.tolist()))"
   ]
  },
  {
   "cell_type": "code",
   "execution_count": 33,
   "metadata": {},
   "outputs": [
    {
     "name": "stdout",
     "output_type": "stream",
     "text": [
      "['DataMod13', 'DataMod18', 'DataUtworzenia12', 'DataUtworzenia17', 'ID14', 'ID19', 'ZSPO_ID16', 'ZSPO_ID21', 'ZSUC_ID24', 'ZSZD_ID11', 'ZSZD_ID15', 'ZSZD_ID20']\n",
      "['DataMod13', 'DataMod18', 'DataUtworzenia12', 'DataUtworzenia17', 'ID14', 'ID19', 'ZSPO_ID16', 'ZSPO_ID21', 'ZSUC_ID24', 'ZSZD_ID11', 'ZSZD_ID15', 'ZSZD_ID20']\n",
      "['DataMod13', 'DataMod18', 'DataUtworzenia12', 'DataUtworzenia17', 'ID14', 'ID19', 'ZSPO_ID16', 'ZSPO_ID21', 'ZSUC_ID24', 'ZSZD_ID11', 'ZSZD_ID15', 'ZSZD_ID20']\n"
     ]
    }
   ],
   "source": [
    "print(list(sorted(w2020_col - w2018_col)))\n",
    "print(list(sorted(w2020_col - w2019_col)))\n",
    "print(list(sorted(w2020_col - w2021_col)))\n",
    "\n",
    " # braki w danych -> usuwam kolumnę dzielnica z plików warszawaXX2021"
   ]
  },
  {
   "cell_type": "code",
   "execution_count": 34,
   "metadata": {},
   "outputs": [],
   "source": [
    "warszawa2020 = warszawa2020.drop(['DataMod13', 'DataMod18', 'DataUtworzenia12', 'DataUtworzenia17', 'ID14', 'ID19', 'ZSPO_ID16', 'ZSPO_ID21', 'ZSUC_ID24', 'ZSZD_ID11', 'ZSZD_ID15', 'ZSZD_ID20'], axis=1)"
   ]
  },
  {
   "cell_type": "code",
   "execution_count": 35,
   "metadata": {},
   "outputs": [],
   "source": [
    "w2020_col =  set(list(warszawa2020.columns.values.tolist()))"
   ]
  },
  {
   "cell_type": "code",
   "execution_count": 36,
   "metadata": {},
   "outputs": [
    {
     "name": "stdout",
     "output_type": "stream",
     "text": [
      "['DataMod12', 'DataMod17', 'DataUtworzenia11', 'DataUtworzenia16', 'ID13', 'ID18', 'Unnamed: 0', 'ZSPO_ID15', 'ZSPO_ID20', 'ZSUC_ID21', 'ZSZD_ID14', 'ZSZD_ID19', 'ZSZD_ID24']\n",
      "['DataMod12', 'DataMod17', 'DataUtworzenia11', 'DataUtworzenia16', 'ID13', 'ID18', 'Unnamed: 0', 'ZSPO_ID15', 'ZSPO_ID20', 'ZSUC_ID21', 'ZSZD_ID14', 'ZSZD_ID19', 'ZSZD_ID24']\n",
      "['DataMod12', 'DataMod17', 'DataUtworzenia11', 'DataUtworzenia16', 'ID13', 'ID18', 'Unnamed: 0', 'ZSPO_ID15', 'ZSPO_ID20', 'ZSUC_ID21', 'ZSZD_ID14', 'ZSZD_ID19', 'ZSZD_ID24']\n"
     ]
    }
   ],
   "source": [
    "print(list(sorted(w2021_col - w2018_col)))\n",
    "print(list(sorted(w2021_col - w2019_col)))\n",
    "print(list(sorted(w2021_col - w2020_col)))"
   ]
  },
  {
   "cell_type": "code",
   "execution_count": 37,
   "metadata": {},
   "outputs": [],
   "source": [
    "warszawa2021 = warszawa2021.drop(['DataMod12', 'DataMod17', 'DataUtworzenia11', 'DataUtworzenia16', 'ID13', 'ID18', 'ZSPO_ID15', 'ZSPO_ID20', 'ZSUC_ID21', 'ZSZD_ID14', 'ZSZD_ID19', 'ZSZD_ID24'], axis=1)"
   ]
  },
  {
   "cell_type": "code",
   "execution_count": 38,
   "metadata": {},
   "outputs": [],
   "source": [
    "w2021_col =  set(list(warszawa2021.columns.values.tolist()))"
   ]
  },
  {
   "cell_type": "code",
   "execution_count": 39,
   "metadata": {},
   "outputs": [
    {
     "name": "stdout",
     "output_type": "stream",
     "text": [
      "(214964, 124)\n",
      "(220679, 124)\n",
      "(173402, 124)\n",
      "(150297, 125)\n"
     ]
    }
   ],
   "source": [
    "print(warszawa2018.shape)\n",
    "print(warszawa2019.shape)\n",
    "print(warszawa2020.shape)\n",
    "print(warszawa2021.shape)"
   ]
  },
  {
   "cell_type": "code",
   "execution_count": 40,
   "metadata": {},
   "outputs": [
    {
     "name": "stdout",
     "output_type": "stream",
     "text": [
      "['Unnamed: 0']\n",
      "['Unnamed: 0']\n",
      "['Unnamed: 0']\n"
     ]
    }
   ],
   "source": [
    "print(list(sorted(w2021_col - w2018_col)))\n",
    "print(list(sorted(w2021_col - w2019_col)))\n",
    "print(list(sorted(w2021_col - w2020_col)))"
   ]
  },
  {
   "cell_type": "code",
   "execution_count": 41,
   "metadata": {},
   "outputs": [],
   "source": [
    "warszawa2021 = warszawa2021.drop(['Unnamed: 0'], axis=1)"
   ]
  },
  {
   "cell_type": "code",
   "execution_count": 42,
   "metadata": {},
   "outputs": [
    {
     "name": "stdout",
     "output_type": "stream",
     "text": [
      "(214964, 124)\n",
      "(220679, 124)\n",
      "(173402, 124)\n",
      "(150297, 124)\n"
     ]
    }
   ],
   "source": [
    "print(warszawa2018.shape)\n",
    "print(warszawa2019.shape)\n",
    "print(warszawa2020.shape)\n",
    "print(warszawa2021.shape)"
   ]
  },
  {
   "cell_type": "markdown",
   "metadata": {},
   "source": [
    "### Zapisywanie plików excel ze zdarzeniami drogowymi dla poszczególnych lat"
   ]
  },
  {
   "cell_type": "code",
   "execution_count": 43,
   "metadata": {},
   "outputs": [],
   "source": [
    "# zapisanie poszczególnych lat po usunieciu zbędnych kolumn (etap 1)\n",
    "warszawa2018.to_excel('warszawa2018_v1.xlsx', index=False)\n",
    "warszawa2019.to_excel('warszawa2019_v1.xlsx', index=False)\n",
    "warszawa2020.to_excel('warszawa2020_v1.xlsx', index=False)\n",
    "warszawa2021.to_excel('warszawa2021_v1.xlsx', index=False)"
   ]
  },
  {
   "cell_type": "markdown",
   "metadata": {},
   "source": [
    "### Zdarzenia drogowe - Warszawa (01.2018-10.2021)"
   ]
  },
  {
   "cell_type": "code",
   "execution_count": null,
   "metadata": {},
   "outputs": [],
   "source": [
    "warszawa2018_21 = pd.concat([warszawa2018, warszawa2019, warszawa2020, warszawa2021], ignore_index=True) #WYPADKI W WARSZAWIE - BAZA SEWiK 2018-2021"
   ]
  },
  {
   "cell_type": "code",
   "execution_count": null,
   "metadata": {},
   "outputs": [],
   "source": [
    "warszawa2018_21.to_excel('warszawa2018_21.xlsx', index=False)"
   ]
  },
  {
   "cell_type": "markdown",
   "metadata": {},
   "source": [
    "### Zdarzenia drogowe - Warszawa (01.2018 - 12.2020)"
   ]
  },
  {
   "cell_type": "code",
   "execution_count": null,
   "metadata": {},
   "outputs": [],
   "source": [
    "warszawa2018_20 = pd.concat([warszawa2018, warszawa2019, warszawa2020], ignore_index=True) #WYPADKI W WARSZAWIE - BAZA SEWiK 2019-2020"
   ]
  },
  {
   "cell_type": "code",
   "execution_count": null,
   "metadata": {},
   "outputs": [],
   "source": [
    "warszawa2018_20.to_excel('warszawa2018_20.xlsx', index=False)"
   ]
  },
  {
   "cell_type": "markdown",
   "metadata": {},
   "source": [
    "### Zdarzenia drogowe - Warszawa (01.2019 - 12.2020)"
   ]
  },
  {
   "cell_type": "code",
   "execution_count": null,
   "metadata": {},
   "outputs": [],
   "source": [
    "warszawa2019_20 = pd.concat([warszawa2019, warszawa2020], ignore_index=True) #WYPADKI W WARSZAWIE - BAZA SEWiK 2019-2020"
   ]
  },
  {
   "cell_type": "code",
   "execution_count": null,
   "metadata": {},
   "outputs": [],
   "source": [
    "warszawa2019_20.to_excel('warszawa2019_20.xlsx', index=False)"
   ]
  }
 ],
 "metadata": {
  "interpreter": {
   "hash": "e7c9f80f3618f45ecfef668bfa3a583f5bb597334d77308f2cc3491cc6d9e9d8"
  },
  "kernelspec": {
   "display_name": "Python 3.9.7 64-bit ('base': conda)",
   "language": "python",
   "name": "python3"
  },
  "language_info": {
   "codemirror_mode": {
    "name": "ipython",
    "version": 3
   },
   "file_extension": ".py",
   "mimetype": "text/x-python",
   "name": "python",
   "nbconvert_exporter": "python",
   "pygments_lexer": "ipython3",
   "version": "3.9.7"
  },
  "orig_nbformat": 4
 },
 "nbformat": 4,
 "nbformat_minor": 2
}
