{
 "cells": [
  {
   "cell_type": "code",
   "execution_count": 3,
   "metadata": {},
   "outputs": [],
   "source": [
    "import matplotlib.pyplot as plt\n",
    "import pandas as pd\n",
    "import numpy as np"
   ]
  },
  {
   "cell_type": "markdown",
   "metadata": {},
   "source": [
    "### Zdarzenia drogowe - Warszawa 01.2021-10.2021\n"
   ]
  },
  {
   "cell_type": "code",
   "execution_count": 4,
   "metadata": {},
   "outputs": [],
   "source": [
    "warszawa012021 = pd.read_excel(\"warszawa012021.xlsx\")\n",
    "warszawa022021 = pd.read_excel(\"warszawa022021.xlsx\")\n",
    "warszawa032021 = pd.read_excel(\"warszawa032021.xlsx\")\n",
    "warszawa042021 = pd.read_excel(\"warszawa042021.xlsx\")\n",
    "warszawa052021 = pd.read_excel(\"warszawa052021.xlsx\")\n",
    "warszawa062021 = pd.read_excel(\"warszawa062021.xlsx\")\n",
    "warszawa072021 = pd.read_excel(\"warszawa072021.xlsx\")\n",
    "warszawa082021 = pd.read_excel(\"warszawa082021.xlsx\")\n",
    "warszawa092021 = pd.read_excel(\"warszawa092021.xlsx\")\n",
    "warszawa102021 = pd.read_excel(\"warszawa102021.xlsx\")\n",
    "warszawa112021 = pd.read_excel(\"warszawa112021.xlsx\")"
   ]
  },
  {
   "cell_type": "code",
   "execution_count": 5,
   "metadata": {},
   "outputs": [
    {
     "name": "stdout",
     "output_type": "stream",
     "text": [
      "(13687, 137)\n",
      "(13794, 136)\n",
      "(12858, 137)\n",
      "(13325, 137)\n",
      "(15507, 137)\n",
      "(15724, 137)\n",
      "(15427, 137)\n",
      "(15205, 137)\n",
      "(16755, 137)\n",
      "(18015, 137)\n",
      "(4394, 137)\n"
     ]
    }
   ],
   "source": [
    "print(warszawa012021.shape)\n",
    "print(warszawa022021.shape)\n",
    "print(warszawa032021.shape)\n",
    "print(warszawa042021.shape)\n",
    "print(warszawa052021.shape)\n",
    "print(warszawa062021.shape)\n",
    "print(warszawa072021.shape)\n",
    "print(warszawa082021.shape)\n",
    "print(warszawa092021.shape)\n",
    "print(warszawa102021.shape)\n",
    "print(warszawa112021.shape) # niepełne dane z listopada -> analizujemy tylko do października 2021"
   ]
  },
  {
   "cell_type": "code",
   "execution_count": 6,
   "metadata": {},
   "outputs": [],
   "source": [
    "w012021_col =  set(list(warszawa012021.columns.values.tolist()))\n",
    "w022021_col =  set(list(warszawa022021.columns.values.tolist()))\n",
    "w032021_col =  set(list(warszawa032021.columns.values.tolist()))"
   ]
  },
  {
   "cell_type": "code",
   "execution_count": 7,
   "metadata": {},
   "outputs": [
    {
     "name": "stdout",
     "output_type": "stream",
     "text": [
      "missing: ['DZIELNICA']\n"
     ]
    }
   ],
   "source": [
    "missing = list(sorted(w032021_col - w022021_col))\n",
    "\n",
    "print('missing:', missing) # braki w danych -> usuwam kolumnę dzielnica z plików warszawaXX2021"
   ]
  },
  {
   "cell_type": "code",
   "execution_count": 8,
   "metadata": {},
   "outputs": [],
   "source": [
    "warszawa012021 = warszawa012021.drop(['DZIELNICA'], axis=1)\n",
    "warszawa032021 = warszawa032021.drop(['DZIELNICA'], axis=1)\n",
    "warszawa042021 = warszawa042021.drop(['DZIELNICA'], axis=1)\n",
    "warszawa052021 = warszawa052021.drop(['DZIELNICA'], axis=1)\n",
    "warszawa062021 = warszawa062021.drop(['DZIELNICA'], axis=1)\n",
    "warszawa072021 = warszawa072021.drop(['DZIELNICA'], axis=1)\n",
    "warszawa082021 = warszawa082021.drop(['DZIELNICA'], axis=1)\n",
    "warszawa092021 = warszawa092021.drop(['DZIELNICA'], axis=1)\n",
    "warszawa102021 = warszawa102021.drop(['DZIELNICA'], axis=1)"
   ]
  },
  {
   "cell_type": "code",
   "execution_count": 10,
   "metadata": {},
   "outputs": [],
   "source": [
    "# tworze zmienna dla zdarzen drogowych w Warszawie 01-10.2021\n",
    "warszawa2021 = pd.concat([warszawa012021, warszawa022021, warszawa032021, warszawa042021, warszawa052021, warszawa062021, warszawa072021, warszawa082021, warszawa092021, warszawa102021], ignore_index=True)"
   ]
  },
  {
   "cell_type": "code",
   "execution_count": 11,
   "metadata": {},
   "outputs": [],
   "source": [
    "warszawa2021.to_csv('warszawa2021.csv', index=True) # Baza SEWiK 2021 dla Warszawy\n",
    "warszawa2021.to_excel('warszawa2021.xlsx', index=True) # Baza SEWiK 2021 dla Warszawy"
   ]
  },
  {
   "cell_type": "markdown",
   "metadata": {},
   "source": [
    "### Zdarzenia drogowe - Warszawa 01.2018 - 10.2021"
   ]
  },
  {
   "cell_type": "code",
   "execution_count": null,
   "metadata": {},
   "outputs": [],
   "source": [
    "warszawa2018 = pd.read_excel('warszawa2018.xlsx') #WYPADKI NA TERENIE WARSZAWY - BAZA SEWiK 2018\n",
    "warszawa2019 = pd.read_excel(\"warszawa2019.xlsx\") #WYPADKI NA TERENIE WARSZAWY - BAZA SEWiK 2019\n",
    "warszawa2020 = pd.read_excel(\"warszawa2020.xlsx\") #WYPADKI NA TERENIE WARSZAWY - BAZA SEWiK 2020\n",
    "warszawa2021 = pd.read_excel(\"warszawa2021.xlsx\") #WYPADKI NA TERENIE WARSZAWY - BAZA SEWiK 2020"
   ]
  },
  {
   "cell_type": "code",
   "execution_count": null,
   "metadata": {},
   "outputs": [],
   "source": [
    "print(warszawa2021.shape)"
   ]
  },
  {
   "cell_type": "code",
   "execution_count": null,
   "metadata": {},
   "outputs": [],
   "source": [
    "print(warszawa2018.shape)\n",
    "print(warszawa2019.shape)\n",
    "print(warszawa2020.shape)\n",
    "print(warszawa2021.shape) # za dużo kolumn w porównaniu z innymi latami"
   ]
  },
  {
   "cell_type": "markdown",
   "metadata": {},
   "source": [
    "### sprawdzam, czy wszystkie lata mają te same kolumny"
   ]
  },
  {
   "cell_type": "code",
   "execution_count": null,
   "metadata": {},
   "outputs": [],
   "source": [
    "w2018_col =  set(list(warszawa2018.columns.values.tolist()))\n",
    "w2019_col =  set(list(warszawa2019.columns.values.tolist()))\n",
    "w2020_col =  set(list(warszawa2020.columns.values.tolist()))\n",
    "w2021_col =  set(list(warszawa2021.columns.values.tolist()))"
   ]
  },
  {
   "cell_type": "code",
   "execution_count": null,
   "metadata": {},
   "outputs": [],
   "source": [
    "print(list(sorted(w2018_col - w2019_col)))\n",
    "print(list(sorted(w2018_col - w2020_col)))\n",
    "print(list(sorted(w2018_col - w2021_col)))\n",
    "\n",
    " # braki w danych -> usuwam kolumnę dzielnica z plików warszawaXX2021"
   ]
  },
  {
   "cell_type": "code",
   "execution_count": null,
   "metadata": {},
   "outputs": [],
   "source": [
    "warszawa2018 = warszawa2018.drop(['DataMod13', 'DataMod18', 'DataUtworzenia12', 'DataUtworzenia17', 'ID14', 'ID19', 'ZSPO_ID16', 'ZSPO_ID21', 'ZSUC_ID24', 'ZSZD_ID11', 'ZSZD_ID15', 'ZSZD_ID20'], axis=1)"
   ]
  },
  {
   "cell_type": "code",
   "execution_count": null,
   "metadata": {},
   "outputs": [],
   "source": [
    "print(warszawa2018.shape)\n",
    "print(warszawa2019.shape)\n",
    "print(warszawa2020.shape)\n",
    "print(warszawa2021.shape)"
   ]
  },
  {
   "cell_type": "code",
   "execution_count": null,
   "metadata": {},
   "outputs": [],
   "source": [
    "w2018_col =  set(list(warszawa2018.columns.values.tolist()))\n",
    "w2019_col =  set(list(warszawa2019.columns.values.tolist()))\n",
    "w2020_col =  set(list(warszawa2020.columns.values.tolist()))\n",
    "w2021_col =  set(list(warszawa2021.columns.values.tolist()))"
   ]
  },
  {
   "cell_type": "code",
   "execution_count": null,
   "metadata": {},
   "outputs": [],
   "source": [
    "print(list(sorted(w2019_col - w2018_col)))\n",
    "print(list(sorted(w2019_col - w2020_col)))\n",
    "print(list(sorted(w2019_col - w2021_col)))\n",
    "\n",
    " # braki w danych -> usuwam kolumnę dzielnica z plików warszawaXX2021"
   ]
  },
  {
   "cell_type": "code",
   "execution_count": null,
   "metadata": {},
   "outputs": [],
   "source": [
    "warszawa2019 = warszawa2019.drop(['DataMod12', 'DataMod17', 'DataUtworzenia11', 'DataUtworzenia16', 'ID13', 'ID18', 'ZSPO_ID15', 'ZSPO_ID20', 'ZSUC_ID21', 'ZSZD_ID14', 'ZSZD_ID19', 'ZSZD_ID24'], axis=1)"
   ]
  },
  {
   "cell_type": "code",
   "execution_count": null,
   "metadata": {},
   "outputs": [],
   "source": [
    "w2019_col =  set(list(warszawa2019.columns.values.tolist()))"
   ]
  },
  {
   "cell_type": "code",
   "execution_count": null,
   "metadata": {},
   "outputs": [],
   "source": [
    "print(list(sorted(w2020_col - w2018_col)))\n",
    "print(list(sorted(w2020_col - w2019_col)))\n",
    "print(list(sorted(w2020_col - w2021_col)))\n",
    "\n",
    " # braki w danych -> usuwam kolumnę dzielnica z plików warszawaXX2021"
   ]
  },
  {
   "cell_type": "code",
   "execution_count": null,
   "metadata": {},
   "outputs": [],
   "source": [
    "warszawa2020 = warszawa2020.drop(['DataMod13', 'DataMod18', 'DataUtworzenia12', 'DataUtworzenia17', 'ID14', 'ID19', 'ZSPO_ID16', 'ZSPO_ID21', 'ZSUC_ID24', 'ZSZD_ID11', 'ZSZD_ID15', 'ZSZD_ID20'], axis=1)"
   ]
  },
  {
   "cell_type": "code",
   "execution_count": null,
   "metadata": {},
   "outputs": [],
   "source": [
    "w2020_col =  set(list(warszawa2020.columns.values.tolist()))"
   ]
  },
  {
   "cell_type": "code",
   "execution_count": null,
   "metadata": {},
   "outputs": [],
   "source": [
    "print(list(sorted(w2021_col - w2018_col)))\n",
    "print(list(sorted(w2021_col - w2019_col)))\n",
    "print(list(sorted(w2021_col - w2020_col)))"
   ]
  },
  {
   "cell_type": "code",
   "execution_count": null,
   "metadata": {},
   "outputs": [],
   "source": [
    "warszawa2021 = warszawa2021.drop(['DataMod12', 'DataMod17', 'DataUtworzenia11', 'DataUtworzenia16', 'ID13', 'ID18', 'ZSPO_ID15', 'ZSPO_ID20', 'ZSUC_ID21', 'ZSZD_ID14', 'ZSZD_ID19', 'ZSZD_ID24'], axis=1)"
   ]
  },
  {
   "cell_type": "code",
   "execution_count": null,
   "metadata": {},
   "outputs": [],
   "source": [
    "w2021_col =  set(list(warszawa2021.columns.values.tolist()))"
   ]
  },
  {
   "cell_type": "code",
   "execution_count": null,
   "metadata": {},
   "outputs": [],
   "source": [
    "print(warszawa2018.shape)\n",
    "print(warszawa2019.shape)\n",
    "print(warszawa2020.shape)\n",
    "print(warszawa2021.shape)"
   ]
  },
  {
   "cell_type": "code",
   "execution_count": null,
   "metadata": {},
   "outputs": [],
   "source": [
    "warszawa2018_21 = pd.concat([warszawa2018, warszawa2019, warszawa2020, warszawa2021], ignore_index=True) #WYPADKI W WARSZAWIE - BAZA SEWiK 2018-2021\n",
    "warszawa2018_21"
   ]
  },
  {
   "cell_type": "code",
   "execution_count": null,
   "metadata": {},
   "outputs": [],
   "source": [
    "warszawa2018_21.to_csv('warszawa2018_21.csv', index=False)"
   ]
  },
  {
   "cell_type": "code",
   "execution_count": null,
   "metadata": {},
   "outputs": [],
   "source": [
    "warszawa2019_20 = pd.concat([warszawa2019, warszawa2020], ignore_index=True) #WYPADKI W WARSZAWIE - BAZA SEWiK 2019-2020\n",
    "warszawa2019_20"
   ]
  },
  {
   "cell_type": "code",
   "execution_count": null,
   "metadata": {},
   "outputs": [],
   "source": [
    "warszawa2019_20.to_csv('warszawa2019_20.csv', index=False)"
   ]
  }
 ],
 "metadata": {
  "interpreter": {
   "hash": "e7c9f80f3618f45ecfef668bfa3a583f5bb597334d77308f2cc3491cc6d9e9d8"
  },
  "kernelspec": {
   "display_name": "Python 3.9.7 64-bit ('base': conda)",
   "language": "python",
   "name": "python3"
  },
  "language_info": {
   "codemirror_mode": {
    "name": "ipython",
    "version": 3
   },
   "file_extension": ".py",
   "mimetype": "text/x-python",
   "name": "python",
   "nbconvert_exporter": "python",
   "pygments_lexer": "ipython3",
   "version": "3.9.7"
  },
  "orig_nbformat": 4
 },
 "nbformat": 4,
 "nbformat_minor": 2
}
