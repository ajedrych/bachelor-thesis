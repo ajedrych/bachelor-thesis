{
 "cells": [
  {
   "cell_type": "code",
   "execution_count": 2,
   "metadata": {},
   "outputs": [],
   "source": [
    "import matplotlib.pyplot as plt\n",
    "import pandas as pd\n",
    "import numpy as np"
   ]
  },
  {
   "cell_type": "code",
   "execution_count": 3,
   "metadata": {},
   "outputs": [
    {
     "name": "stderr",
     "output_type": "stream",
     "text": [
      "C:\\Users\\aleks\\AppData\\Roaming\\Python\\Python39\\site-packages\\IPython\\core\\interactiveshell.py:3441: DtypeWarning: Columns (41,79,80,84,109,110,113,114,116,121,122,128,133) have mixed types.Specify dtype option on import or set low_memory=False.\n",
      "  exec(code_obj, self.user_global_ns, self.user_ns)\n"
     ]
    }
   ],
   "source": [
    "warszawa2018 = pd.read_excel('warszawa2018.xlsx') #WYPADKI NA TERENIE WARSZAWY - BAZA SEWiK 2018\n",
    "warszawa2019 = pd.read_excel(\"warszawa2019.xlsx\") #WYPADKI NA TERENIE WARSZAWY - BAZA SEWiK 2019\n",
    "warszawa2020 = pd.read_excel(\"warszawa2020.xlsx\") #WYPADKI NA TERENIE WARSZAWY - BAZA SEWiK 2020\n",
    "warszawa2021 = pd.read_csv(\"warszawa2021.csv\") #WYPADKI NA TERENIE WARSZAWY - BAZA SEWiK 2021"
   ]
  },
  {
   "cell_type": "code",
   "execution_count": 4,
   "metadata": {},
   "outputs": [
    {
     "name": "stdout",
     "output_type": "stream",
     "text": [
      "(214964, 136)\n",
      "(220679, 136)\n",
      "(173402, 136)\n",
      "(150297, 137)\n"
     ]
    }
   ],
   "source": [
    "print(warszawa2018.shape)\n",
    "print(warszawa2019.shape)\n",
    "print(warszawa2020.shape)\n",
    "print(warszawa2021.shape) # za dużo kolumn w porównaniu z innymi latami"
   ]
  },
  {
   "cell_type": "markdown",
   "metadata": {},
   "source": [
    "### Poprawa warszawa2021\n"
   ]
  },
  {
   "cell_type": "code",
   "execution_count": 5,
   "metadata": {},
   "outputs": [],
   "source": [
    "warszawa012021 = pd.read_excel(\"warszawa012021.xlsx\")\n",
    "warszawa022021 = pd.read_excel(\"warszawa022021.xlsx\")\n",
    "warszawa032021 = pd.read_excel(\"warszawa032021.xlsx\")\n",
    "warszawa042021 = pd.read_excel(\"warszawa042021.xlsx\")\n",
    "warszawa052021 = pd.read_excel(\"warszawa052021.xlsx\")\n",
    "warszawa062021 = pd.read_excel(\"warszawa062021.xlsx\")\n",
    "warszawa072021 = pd.read_excel(\"warszawa072021.xlsx\")\n",
    "warszawa082021 = pd.read_excel(\"warszawa082021.xlsx\")\n",
    "warszawa092021 = pd.read_excel(\"warszawa092021.xlsx\")\n",
    "warszawa102021 = pd.read_excel(\"warszawa102021.xlsx\")\n",
    "warszawa112021 = pd.read_excel(\"warszawa112021.xlsx\")"
   ]
  },
  {
   "cell_type": "code",
   "execution_count": 25,
   "metadata": {},
   "outputs": [
    {
     "name": "stdout",
     "output_type": "stream",
     "text": [
      "(13687, 137)\n",
      "(13794, 136)\n",
      "(12858, 137)\n",
      "(13325, 137)\n",
      "(15507, 137)\n",
      "(15724, 137)\n",
      "(15427, 137)\n",
      "(15205, 137)\n",
      "(16755, 137)\n",
      "(18015, 137)\n",
      "(4394, 137)\n"
     ]
    }
   ],
   "source": [
    "print(warszawa012021.shape)\n",
    "print(warszawa022021.shape)\n",
    "print(warszawa032021.shape)\n",
    "print(warszawa042021.shape)\n",
    "print(warszawa052021.shape)\n",
    "print(warszawa062021.shape)\n",
    "print(warszawa072021.shape)\n",
    "print(warszawa082021.shape)\n",
    "print(warszawa092021.shape)\n",
    "print(warszawa102021.shape)\n",
    "print(warszawa112021.shape) # niepełne dane -> analizujemy tylko do października 2021"
   ]
  },
  {
   "cell_type": "code",
   "execution_count": 6,
   "metadata": {},
   "outputs": [],
   "source": [
    "w012021_col =  set(list(warszawa012021.columns.values.tolist()))\n",
    "w022021_col =  set(list(warszawa022021.columns.values.tolist()))\n",
    "w032021_col =  set(list(warszawa032021.columns.values.tolist()))"
   ]
  },
  {
   "cell_type": "code",
   "execution_count": 7,
   "metadata": {},
   "outputs": [
    {
     "name": "stdout",
     "output_type": "stream",
     "text": [
      "missing: ['DZIELNICA']\n"
     ]
    }
   ],
   "source": [
    "missing = list(sorted(w032021_col - w022021_col))\n",
    "\n",
    "print('missing:', missing) # braki w danych -> usuwam kolumnę dzielnica z plików warszawaXX2021"
   ]
  },
  {
   "cell_type": "code",
   "execution_count": 8,
   "metadata": {},
   "outputs": [],
   "source": [
    "warszawa012021 = warszawa012021.drop(['DZIELNICA'], axis=1)\n",
    "warszawa032021 = warszawa032021.drop(['DZIELNICA'], axis=1)\n",
    "warszawa042021 = warszawa042021.drop(['DZIELNICA'], axis=1)\n",
    "warszawa052021 = warszawa052021.drop(['DZIELNICA'], axis=1)\n",
    "warszawa062021 = warszawa062021.drop(['DZIELNICA'], axis=1)\n",
    "warszawa072021 = warszawa072021.drop(['DZIELNICA'], axis=1)\n",
    "warszawa082021 = warszawa082021.drop(['DZIELNICA'], axis=1)\n",
    "warszawa092021 = warszawa092021.drop(['DZIELNICA'], axis=1)\n",
    "warszawa102021 = warszawa102021.drop(['DZIELNICA'], axis=1)"
   ]
  },
  {
   "cell_type": "code",
   "execution_count": 9,
   "metadata": {},
   "outputs": [],
   "source": [
    "warszawa2021 = pd.concat([warszawa012021, warszawa022021, warszawa032021, warszawa042021, warszawa052021, warszawa062021, warszawa072021, warszawa082021, warszawa092021, warszawa102021], ignore_index=True)"
   ]
  },
  {
   "cell_type": "code",
   "execution_count": 10,
   "metadata": {},
   "outputs": [],
   "source": [
    "warszawa2021.to_csv('warszawa2021.csv', index=True) # Baza SEWiK 2021 dla Warszawy"
   ]
  },
  {
   "cell_type": "code",
   "execution_count": 11,
   "metadata": {},
   "outputs": [
    {
     "name": "stdout",
     "output_type": "stream",
     "text": [
      "(150297, 136)\n"
     ]
    }
   ],
   "source": [
    "print(warszawa2021.shape)"
   ]
  },
  {
   "cell_type": "markdown",
   "metadata": {},
   "source": [
    "### sprawdzam, czy wszystkie lata mają te same kolumny"
   ]
  },
  {
   "cell_type": "code",
   "execution_count": 12,
   "metadata": {},
   "outputs": [],
   "source": [
    "w2018_col =  set(list(warszawa2018.columns.values.tolist()))\n",
    "w2019_col =  set(list(warszawa2019.columns.values.tolist()))\n",
    "w2020_col =  set(list(warszawa2020.columns.values.tolist()))\n",
    "w2021_col =  set(list(warszawa2021.columns.values.tolist()))"
   ]
  },
  {
   "cell_type": "code",
   "execution_count": 13,
   "metadata": {},
   "outputs": [
    {
     "name": "stdout",
     "output_type": "stream",
     "text": [
      "['DataMod13', 'DataMod18', 'DataUtworzenia12', 'DataUtworzenia17', 'ID14', 'ID19', 'ZSPO_ID16', 'ZSPO_ID21', 'ZSUC_ID24', 'ZSZD_ID11', 'ZSZD_ID15', 'ZSZD_ID20']\n",
      "[]\n",
      "['DataMod13', 'DataMod18', 'DataUtworzenia12', 'DataUtworzenia17', 'ID14', 'ID19', 'ZSPO_ID16', 'ZSPO_ID21', 'ZSUC_ID24', 'ZSZD_ID11', 'ZSZD_ID15', 'ZSZD_ID20']\n"
     ]
    }
   ],
   "source": [
    "print(list(sorted(w2018_col - w2019_col)))\n",
    "print(list(sorted(w2018_col - w2020_col)))\n",
    "print(list(sorted(w2018_col - w2021_col)))\n",
    "\n",
    " # braki w danych -> usuwam kolumnę dzielnica z plików warszawaXX2021"
   ]
  },
  {
   "cell_type": "code",
   "execution_count": 18,
   "metadata": {},
   "outputs": [
    {
     "ename": "KeyError",
     "evalue": "\"['DataMod13' 'DataMod18' 'DataUtworzenia12' 'DataUtworzenia17' 'ID14'\\n 'ID19' 'ZSPO_ID16' 'ZSPO_ID21' 'ZSUC_ID24' 'ZSZD_ID11' 'ZSZD_ID15'\\n 'ZSZD_ID20'] not found in axis\"",
     "output_type": "error",
     "traceback": [
      "\u001b[1;31m---------------------------------------------------------------------------\u001b[0m",
      "\u001b[1;31mKeyError\u001b[0m                                  Traceback (most recent call last)",
      "\u001b[1;32m<ipython-input-18-f5ecb58599ee>\u001b[0m in \u001b[0;36m<module>\u001b[1;34m\u001b[0m\n\u001b[1;32m----> 1\u001b[1;33m \u001b[0mwarszawa2018\u001b[0m \u001b[1;33m=\u001b[0m \u001b[0mwarszawa2018\u001b[0m\u001b[1;33m.\u001b[0m\u001b[0mdrop\u001b[0m\u001b[1;33m(\u001b[0m\u001b[1;33m[\u001b[0m\u001b[1;34m'DataMod13'\u001b[0m\u001b[1;33m,\u001b[0m \u001b[1;34m'DataMod18'\u001b[0m\u001b[1;33m,\u001b[0m \u001b[1;34m'DataUtworzenia12'\u001b[0m\u001b[1;33m,\u001b[0m \u001b[1;34m'DataUtworzenia17'\u001b[0m\u001b[1;33m,\u001b[0m \u001b[1;34m'ID14'\u001b[0m\u001b[1;33m,\u001b[0m \u001b[1;34m'ID19'\u001b[0m\u001b[1;33m,\u001b[0m \u001b[1;34m'ZSPO_ID16'\u001b[0m\u001b[1;33m,\u001b[0m \u001b[1;34m'ZSPO_ID21'\u001b[0m\u001b[1;33m,\u001b[0m \u001b[1;34m'ZSUC_ID24'\u001b[0m\u001b[1;33m,\u001b[0m \u001b[1;34m'ZSZD_ID11'\u001b[0m\u001b[1;33m,\u001b[0m \u001b[1;34m'ZSZD_ID15'\u001b[0m\u001b[1;33m,\u001b[0m \u001b[1;34m'ZSZD_ID20'\u001b[0m\u001b[1;33m]\u001b[0m\u001b[1;33m,\u001b[0m \u001b[0maxis\u001b[0m\u001b[1;33m=\u001b[0m\u001b[1;36m1\u001b[0m\u001b[1;33m)\u001b[0m\u001b[1;33m\u001b[0m\u001b[1;33m\u001b[0m\u001b[0m\n\u001b[0m",
      "\u001b[1;32m~\\anaconda3\\lib\\site-packages\\pandas\\util\\_decorators.py\u001b[0m in \u001b[0;36mwrapper\u001b[1;34m(*args, **kwargs)\u001b[0m\n\u001b[0;32m    309\u001b[0m                     \u001b[0mstacklevel\u001b[0m\u001b[1;33m=\u001b[0m\u001b[0mstacklevel\u001b[0m\u001b[1;33m,\u001b[0m\u001b[1;33m\u001b[0m\u001b[1;33m\u001b[0m\u001b[0m\n\u001b[0;32m    310\u001b[0m                 )\n\u001b[1;32m--> 311\u001b[1;33m             \u001b[1;32mreturn\u001b[0m \u001b[0mfunc\u001b[0m\u001b[1;33m(\u001b[0m\u001b[1;33m*\u001b[0m\u001b[0margs\u001b[0m\u001b[1;33m,\u001b[0m \u001b[1;33m**\u001b[0m\u001b[0mkwargs\u001b[0m\u001b[1;33m)\u001b[0m\u001b[1;33m\u001b[0m\u001b[1;33m\u001b[0m\u001b[0m\n\u001b[0m\u001b[0;32m    312\u001b[0m \u001b[1;33m\u001b[0m\u001b[0m\n\u001b[0;32m    313\u001b[0m         \u001b[1;32mreturn\u001b[0m \u001b[0mwrapper\u001b[0m\u001b[1;33m\u001b[0m\u001b[1;33m\u001b[0m\u001b[0m\n",
      "\u001b[1;32m~\\anaconda3\\lib\\site-packages\\pandas\\core\\frame.py\u001b[0m in \u001b[0;36mdrop\u001b[1;34m(self, labels, axis, index, columns, level, inplace, errors)\u001b[0m\n\u001b[0;32m   4904\u001b[0m                 \u001b[0mweight\u001b[0m  \u001b[1;36m1.0\u001b[0m     \u001b[1;36m0.8\u001b[0m\u001b[1;33m\u001b[0m\u001b[1;33m\u001b[0m\u001b[0m\n\u001b[0;32m   4905\u001b[0m         \"\"\"\n\u001b[1;32m-> 4906\u001b[1;33m         return super().drop(\n\u001b[0m\u001b[0;32m   4907\u001b[0m             \u001b[0mlabels\u001b[0m\u001b[1;33m=\u001b[0m\u001b[0mlabels\u001b[0m\u001b[1;33m,\u001b[0m\u001b[1;33m\u001b[0m\u001b[1;33m\u001b[0m\u001b[0m\n\u001b[0;32m   4908\u001b[0m             \u001b[0maxis\u001b[0m\u001b[1;33m=\u001b[0m\u001b[0maxis\u001b[0m\u001b[1;33m,\u001b[0m\u001b[1;33m\u001b[0m\u001b[1;33m\u001b[0m\u001b[0m\n",
      "\u001b[1;32m~\\anaconda3\\lib\\site-packages\\pandas\\core\\generic.py\u001b[0m in \u001b[0;36mdrop\u001b[1;34m(self, labels, axis, index, columns, level, inplace, errors)\u001b[0m\n\u001b[0;32m   4148\u001b[0m         \u001b[1;32mfor\u001b[0m \u001b[0maxis\u001b[0m\u001b[1;33m,\u001b[0m \u001b[0mlabels\u001b[0m \u001b[1;32min\u001b[0m \u001b[0maxes\u001b[0m\u001b[1;33m.\u001b[0m\u001b[0mitems\u001b[0m\u001b[1;33m(\u001b[0m\u001b[1;33m)\u001b[0m\u001b[1;33m:\u001b[0m\u001b[1;33m\u001b[0m\u001b[1;33m\u001b[0m\u001b[0m\n\u001b[0;32m   4149\u001b[0m             \u001b[1;32mif\u001b[0m \u001b[0mlabels\u001b[0m \u001b[1;32mis\u001b[0m \u001b[1;32mnot\u001b[0m \u001b[1;32mNone\u001b[0m\u001b[1;33m:\u001b[0m\u001b[1;33m\u001b[0m\u001b[1;33m\u001b[0m\u001b[0m\n\u001b[1;32m-> 4150\u001b[1;33m                 \u001b[0mobj\u001b[0m \u001b[1;33m=\u001b[0m \u001b[0mobj\u001b[0m\u001b[1;33m.\u001b[0m\u001b[0m_drop_axis\u001b[0m\u001b[1;33m(\u001b[0m\u001b[0mlabels\u001b[0m\u001b[1;33m,\u001b[0m \u001b[0maxis\u001b[0m\u001b[1;33m,\u001b[0m \u001b[0mlevel\u001b[0m\u001b[1;33m=\u001b[0m\u001b[0mlevel\u001b[0m\u001b[1;33m,\u001b[0m \u001b[0merrors\u001b[0m\u001b[1;33m=\u001b[0m\u001b[0merrors\u001b[0m\u001b[1;33m)\u001b[0m\u001b[1;33m\u001b[0m\u001b[1;33m\u001b[0m\u001b[0m\n\u001b[0m\u001b[0;32m   4151\u001b[0m \u001b[1;33m\u001b[0m\u001b[0m\n\u001b[0;32m   4152\u001b[0m         \u001b[1;32mif\u001b[0m \u001b[0minplace\u001b[0m\u001b[1;33m:\u001b[0m\u001b[1;33m\u001b[0m\u001b[1;33m\u001b[0m\u001b[0m\n",
      "\u001b[1;32m~\\anaconda3\\lib\\site-packages\\pandas\\core\\generic.py\u001b[0m in \u001b[0;36m_drop_axis\u001b[1;34m(self, labels, axis, level, errors)\u001b[0m\n\u001b[0;32m   4183\u001b[0m                 \u001b[0mnew_axis\u001b[0m \u001b[1;33m=\u001b[0m \u001b[0maxis\u001b[0m\u001b[1;33m.\u001b[0m\u001b[0mdrop\u001b[0m\u001b[1;33m(\u001b[0m\u001b[0mlabels\u001b[0m\u001b[1;33m,\u001b[0m \u001b[0mlevel\u001b[0m\u001b[1;33m=\u001b[0m\u001b[0mlevel\u001b[0m\u001b[1;33m,\u001b[0m \u001b[0merrors\u001b[0m\u001b[1;33m=\u001b[0m\u001b[0merrors\u001b[0m\u001b[1;33m)\u001b[0m\u001b[1;33m\u001b[0m\u001b[1;33m\u001b[0m\u001b[0m\n\u001b[0;32m   4184\u001b[0m             \u001b[1;32melse\u001b[0m\u001b[1;33m:\u001b[0m\u001b[1;33m\u001b[0m\u001b[1;33m\u001b[0m\u001b[0m\n\u001b[1;32m-> 4185\u001b[1;33m                 \u001b[0mnew_axis\u001b[0m \u001b[1;33m=\u001b[0m \u001b[0maxis\u001b[0m\u001b[1;33m.\u001b[0m\u001b[0mdrop\u001b[0m\u001b[1;33m(\u001b[0m\u001b[0mlabels\u001b[0m\u001b[1;33m,\u001b[0m \u001b[0merrors\u001b[0m\u001b[1;33m=\u001b[0m\u001b[0merrors\u001b[0m\u001b[1;33m)\u001b[0m\u001b[1;33m\u001b[0m\u001b[1;33m\u001b[0m\u001b[0m\n\u001b[0m\u001b[0;32m   4186\u001b[0m             \u001b[0mresult\u001b[0m \u001b[1;33m=\u001b[0m \u001b[0mself\u001b[0m\u001b[1;33m.\u001b[0m\u001b[0mreindex\u001b[0m\u001b[1;33m(\u001b[0m\u001b[1;33m**\u001b[0m\u001b[1;33m{\u001b[0m\u001b[0maxis_name\u001b[0m\u001b[1;33m:\u001b[0m \u001b[0mnew_axis\u001b[0m\u001b[1;33m}\u001b[0m\u001b[1;33m)\u001b[0m\u001b[1;33m\u001b[0m\u001b[1;33m\u001b[0m\u001b[0m\n\u001b[0;32m   4187\u001b[0m \u001b[1;33m\u001b[0m\u001b[0m\n",
      "\u001b[1;32m~\\anaconda3\\lib\\site-packages\\pandas\\core\\indexes\\base.py\u001b[0m in \u001b[0;36mdrop\u001b[1;34m(self, labels, errors)\u001b[0m\n\u001b[0;32m   6015\u001b[0m         \u001b[1;32mif\u001b[0m \u001b[0mmask\u001b[0m\u001b[1;33m.\u001b[0m\u001b[0many\u001b[0m\u001b[1;33m(\u001b[0m\u001b[1;33m)\u001b[0m\u001b[1;33m:\u001b[0m\u001b[1;33m\u001b[0m\u001b[1;33m\u001b[0m\u001b[0m\n\u001b[0;32m   6016\u001b[0m             \u001b[1;32mif\u001b[0m \u001b[0merrors\u001b[0m \u001b[1;33m!=\u001b[0m \u001b[1;34m\"ignore\"\u001b[0m\u001b[1;33m:\u001b[0m\u001b[1;33m\u001b[0m\u001b[1;33m\u001b[0m\u001b[0m\n\u001b[1;32m-> 6017\u001b[1;33m                 \u001b[1;32mraise\u001b[0m \u001b[0mKeyError\u001b[0m\u001b[1;33m(\u001b[0m\u001b[1;34mf\"{labels[mask]} not found in axis\"\u001b[0m\u001b[1;33m)\u001b[0m\u001b[1;33m\u001b[0m\u001b[1;33m\u001b[0m\u001b[0m\n\u001b[0m\u001b[0;32m   6018\u001b[0m             \u001b[0mindexer\u001b[0m \u001b[1;33m=\u001b[0m \u001b[0mindexer\u001b[0m\u001b[1;33m[\u001b[0m\u001b[1;33m~\u001b[0m\u001b[0mmask\u001b[0m\u001b[1;33m]\u001b[0m\u001b[1;33m\u001b[0m\u001b[1;33m\u001b[0m\u001b[0m\n\u001b[0;32m   6019\u001b[0m         \u001b[1;32mreturn\u001b[0m \u001b[0mself\u001b[0m\u001b[1;33m.\u001b[0m\u001b[0mdelete\u001b[0m\u001b[1;33m(\u001b[0m\u001b[0mindexer\u001b[0m\u001b[1;33m)\u001b[0m\u001b[1;33m\u001b[0m\u001b[1;33m\u001b[0m\u001b[0m\n",
      "\u001b[1;31mKeyError\u001b[0m: \"['DataMod13' 'DataMod18' 'DataUtworzenia12' 'DataUtworzenia17' 'ID14'\\n 'ID19' 'ZSPO_ID16' 'ZSPO_ID21' 'ZSUC_ID24' 'ZSZD_ID11' 'ZSZD_ID15'\\n 'ZSZD_ID20'] not found in axis\""
     ]
    }
   ],
   "source": [
    "warszawa2018 = warszawa2018.drop(['DataMod13', 'DataMod18', 'DataUtworzenia12', 'DataUtworzenia17', 'ID14', 'ID19', 'ZSPO_ID16', 'ZSPO_ID21', 'ZSUC_ID24', 'ZSZD_ID11', 'ZSZD_ID15', 'ZSZD_ID20'], axis=1)"
   ]
  },
  {
   "cell_type": "code",
   "execution_count": 19,
   "metadata": {},
   "outputs": [
    {
     "name": "stdout",
     "output_type": "stream",
     "text": [
      "(214964, 124)\n",
      "(220679, 136)\n",
      "(173402, 136)\n",
      "(150297, 136)\n"
     ]
    }
   ],
   "source": [
    "print(warszawa2018.shape)\n",
    "print(warszawa2019.shape)\n",
    "print(warszawa2020.shape)\n",
    "print(warszawa2021.shape)"
   ]
  },
  {
   "cell_type": "code",
   "execution_count": 21,
   "metadata": {},
   "outputs": [],
   "source": [
    "w2018_col =  set(list(warszawa2018.columns.values.tolist()))\n",
    "w2019_col =  set(list(warszawa2019.columns.values.tolist()))\n",
    "w2020_col =  set(list(warszawa2020.columns.values.tolist()))\n",
    "w2021_col =  set(list(warszawa2021.columns.values.tolist()))"
   ]
  },
  {
   "cell_type": "code",
   "execution_count": 33,
   "metadata": {},
   "outputs": [
    {
     "name": "stdout",
     "output_type": "stream",
     "text": [
      "[]\n",
      "[]\n",
      "[]\n"
     ]
    }
   ],
   "source": [
    "print(list(sorted(w2019_col - w2018_col)))\n",
    "print(list(sorted(w2019_col - w2020_col)))\n",
    "print(list(sorted(w2019_col - w2021_col)))\n",
    "\n",
    " # braki w danych -> usuwam kolumnę dzielnica z plików warszawaXX2021"
   ]
  },
  {
   "cell_type": "code",
   "execution_count": 23,
   "metadata": {},
   "outputs": [],
   "source": [
    "warszawa2019 = warszawa2019.drop(['DataMod12', 'DataMod17', 'DataUtworzenia11', 'DataUtworzenia16', 'ID13', 'ID18', 'ZSPO_ID15', 'ZSPO_ID20', 'ZSUC_ID21', 'ZSZD_ID14', 'ZSZD_ID19', 'ZSZD_ID24'], axis=1)"
   ]
  },
  {
   "cell_type": "code",
   "execution_count": 25,
   "metadata": {},
   "outputs": [],
   "source": [
    "w2019_col =  set(list(warszawa2019.columns.values.tolist()))"
   ]
  },
  {
   "cell_type": "code",
   "execution_count": 26,
   "metadata": {},
   "outputs": [
    {
     "name": "stdout",
     "output_type": "stream",
     "text": [
      "['DataMod13', 'DataMod18', 'DataUtworzenia12', 'DataUtworzenia17', 'ID14', 'ID19', 'ZSPO_ID16', 'ZSPO_ID21', 'ZSUC_ID24', 'ZSZD_ID11', 'ZSZD_ID15', 'ZSZD_ID20']\n",
      "['DataMod13', 'DataMod18', 'DataUtworzenia12', 'DataUtworzenia17', 'ID14', 'ID19', 'ZSPO_ID16', 'ZSPO_ID21', 'ZSUC_ID24', 'ZSZD_ID11', 'ZSZD_ID15', 'ZSZD_ID20']\n",
      "['DataMod13', 'DataMod18', 'DataUtworzenia12', 'DataUtworzenia17', 'ID14', 'ID19', 'ZSPO_ID16', 'ZSPO_ID21', 'ZSUC_ID24', 'ZSZD_ID11', 'ZSZD_ID15', 'ZSZD_ID20']\n"
     ]
    }
   ],
   "source": [
    "print(list(sorted(w2020_col - w2018_col)))\n",
    "print(list(sorted(w2020_col - w2019_col)))\n",
    "print(list(sorted(w2020_col - w2021_col)))\n",
    "\n",
    " # braki w danych -> usuwam kolumnę dzielnica z plików warszawaXX2021"
   ]
  },
  {
   "cell_type": "code",
   "execution_count": 27,
   "metadata": {},
   "outputs": [],
   "source": [
    "warszawa2020 = warszawa2020.drop(['DataMod13', 'DataMod18', 'DataUtworzenia12', 'DataUtworzenia17', 'ID14', 'ID19', 'ZSPO_ID16', 'ZSPO_ID21', 'ZSUC_ID24', 'ZSZD_ID11', 'ZSZD_ID15', 'ZSZD_ID20'], axis=1)"
   ]
  },
  {
   "cell_type": "code",
   "execution_count": 28,
   "metadata": {},
   "outputs": [],
   "source": [
    "w2020_col =  set(list(warszawa2020.columns.values.tolist()))"
   ]
  },
  {
   "cell_type": "code",
   "execution_count": 29,
   "metadata": {},
   "outputs": [
    {
     "name": "stdout",
     "output_type": "stream",
     "text": [
      "['DataMod12', 'DataMod17', 'DataUtworzenia11', 'DataUtworzenia16', 'ID13', 'ID18', 'ZSPO_ID15', 'ZSPO_ID20', 'ZSUC_ID21', 'ZSZD_ID14', 'ZSZD_ID19', 'ZSZD_ID24']\n",
      "['DataMod12', 'DataMod17', 'DataUtworzenia11', 'DataUtworzenia16', 'ID13', 'ID18', 'ZSPO_ID15', 'ZSPO_ID20', 'ZSUC_ID21', 'ZSZD_ID14', 'ZSZD_ID19', 'ZSZD_ID24']\n",
      "['DataMod12', 'DataMod17', 'DataUtworzenia11', 'DataUtworzenia16', 'ID13', 'ID18', 'ZSPO_ID15', 'ZSPO_ID20', 'ZSUC_ID21', 'ZSZD_ID14', 'ZSZD_ID19', 'ZSZD_ID24']\n"
     ]
    }
   ],
   "source": [
    "print(list(sorted(w2021_col - w2018_col)))\n",
    "print(list(sorted(w2021_col - w2019_col)))\n",
    "print(list(sorted(w2021_col - w2020_col)))"
   ]
  },
  {
   "cell_type": "code",
   "execution_count": 30,
   "metadata": {},
   "outputs": [],
   "source": [
    "warszawa2021 = warszawa2021.drop(['DataMod12', 'DataMod17', 'DataUtworzenia11', 'DataUtworzenia16', 'ID13', 'ID18', 'ZSPO_ID15', 'ZSPO_ID20', 'ZSUC_ID21', 'ZSZD_ID14', 'ZSZD_ID19', 'ZSZD_ID24'], axis=1)"
   ]
  },
  {
   "cell_type": "code",
   "execution_count": 31,
   "metadata": {},
   "outputs": [],
   "source": [
    "w2021_col =  set(list(warszawa2021.columns.values.tolist()))"
   ]
  },
  {
   "cell_type": "code",
   "execution_count": 32,
   "metadata": {},
   "outputs": [
    {
     "name": "stdout",
     "output_type": "stream",
     "text": [
      "(214964, 124)\n",
      "(220679, 124)\n",
      "(173402, 124)\n",
      "(150297, 124)\n"
     ]
    }
   ],
   "source": [
    "print(warszawa2018.shape)\n",
    "print(warszawa2019.shape)\n",
    "print(warszawa2020.shape)\n",
    "print(warszawa2021.shape)"
   ]
  },
  {
   "cell_type": "code",
   "execution_count": 34,
   "metadata": {},
   "outputs": [
    {
     "data": {
      "text/html": [
       "<div>\n",
       "<style scoped>\n",
       "    .dataframe tbody tr th:only-of-type {\n",
       "        vertical-align: middle;\n",
       "    }\n",
       "\n",
       "    .dataframe tbody tr th {\n",
       "        vertical-align: top;\n",
       "    }\n",
       "\n",
       "    .dataframe thead th {\n",
       "        text-align: right;\n",
       "    }\n",
       "</style>\n",
       "<table border=\"1\" class=\"dataframe\">\n",
       "  <thead>\n",
       "    <tr style=\"text-align: right;\">\n",
       "      <th></th>\n",
       "      <th>DataZrzutu</th>\n",
       "      <th>DataOd</th>\n",
       "      <th>DataDo</th>\n",
       "      <th>LiczbaZdarzen</th>\n",
       "      <th>DataUtworzenia</th>\n",
       "      <th>DataMod</th>\n",
       "      <th>SzkicZdarzenia</th>\n",
       "      <th>ID</th>\n",
       "      <th>JEDNOSTKA_MIEJSCA</th>\n",
       "      <th>JEDNOSTKA_LIKWIDUJACA</th>\n",
       "      <th>...</th>\n",
       "      <th>ULICA_SKRZYZ</th>\n",
       "      <th>ZSZD_ID25</th>\n",
       "      <th>SSUP_KOD</th>\n",
       "      <th>SSUP_TABK_TYPE</th>\n",
       "      <th>ZSSD_KOD2</th>\n",
       "      <th>RONDO_WEZEL</th>\n",
       "      <th>STREFA_ZAMIESZKALA</th>\n",
       "      <th>ODLEGLOSC_SKRZYZ</th>\n",
       "      <th>KIERUNEK</th>\n",
       "      <th>STREFA_RUCHU</th>\n",
       "    </tr>\n",
       "  </thead>\n",
       "  <tbody>\n",
       "    <tr>\n",
       "      <th>0</th>\n",
       "      <td>2020-02-16 17:21:00</td>\n",
       "      <td>2019-01-01</td>\n",
       "      <td>2019-12-31</td>\n",
       "      <td>74360</td>\n",
       "      <td>2018-01-02</td>\n",
       "      <td>2018-02-21</td>\n",
       "      <td>N</td>\n",
       "      <td>106651967</td>\n",
       "      <td>WA KSP Warszawa Wydział Ruchu Drogowego</td>\n",
       "      <td>NaN</td>\n",
       "      <td>...</td>\n",
       "      <td>NaN</td>\n",
       "      <td>NaN</td>\n",
       "      <td>NaN</td>\n",
       "      <td>NaN</td>\n",
       "      <td>NaN</td>\n",
       "      <td>NaN</td>\n",
       "      <td>NaN</td>\n",
       "      <td>NaN</td>\n",
       "      <td>NaN</td>\n",
       "      <td>NaN</td>\n",
       "    </tr>\n",
       "    <tr>\n",
       "      <th>1</th>\n",
       "      <td>2020-02-16 17:21:00</td>\n",
       "      <td>2019-01-01</td>\n",
       "      <td>2019-12-31</td>\n",
       "      <td>74360</td>\n",
       "      <td>2018-01-02</td>\n",
       "      <td>2018-02-21</td>\n",
       "      <td>N</td>\n",
       "      <td>106651967</td>\n",
       "      <td>WA KSP Warszawa Wydział Ruchu Drogowego</td>\n",
       "      <td>NaN</td>\n",
       "      <td>...</td>\n",
       "      <td>NaN</td>\n",
       "      <td>NaN</td>\n",
       "      <td>NaN</td>\n",
       "      <td>NaN</td>\n",
       "      <td>NaN</td>\n",
       "      <td>NaN</td>\n",
       "      <td>NaN</td>\n",
       "      <td>NaN</td>\n",
       "      <td>NaN</td>\n",
       "      <td>NaN</td>\n",
       "    </tr>\n",
       "    <tr>\n",
       "      <th>2</th>\n",
       "      <td>2020-02-16 17:21:00</td>\n",
       "      <td>2019-01-01</td>\n",
       "      <td>2019-12-31</td>\n",
       "      <td>74360</td>\n",
       "      <td>2018-01-02</td>\n",
       "      <td>2018-02-21</td>\n",
       "      <td>N</td>\n",
       "      <td>106651967</td>\n",
       "      <td>WA KSP Warszawa Wydział Ruchu Drogowego</td>\n",
       "      <td>NaN</td>\n",
       "      <td>...</td>\n",
       "      <td>NaN</td>\n",
       "      <td>NaN</td>\n",
       "      <td>NaN</td>\n",
       "      <td>NaN</td>\n",
       "      <td>NaN</td>\n",
       "      <td>NaN</td>\n",
       "      <td>NaN</td>\n",
       "      <td>NaN</td>\n",
       "      <td>NaN</td>\n",
       "      <td>NaN</td>\n",
       "    </tr>\n",
       "    <tr>\n",
       "      <th>3</th>\n",
       "      <td>2020-02-16 17:21:00</td>\n",
       "      <td>2019-01-01</td>\n",
       "      <td>2019-12-31</td>\n",
       "      <td>74360</td>\n",
       "      <td>2018-01-02</td>\n",
       "      <td>2018-02-21</td>\n",
       "      <td>N</td>\n",
       "      <td>106651967</td>\n",
       "      <td>WA KSP Warszawa Wydział Ruchu Drogowego</td>\n",
       "      <td>NaN</td>\n",
       "      <td>...</td>\n",
       "      <td>NaN</td>\n",
       "      <td>NaN</td>\n",
       "      <td>NaN</td>\n",
       "      <td>NaN</td>\n",
       "      <td>NaN</td>\n",
       "      <td>NaN</td>\n",
       "      <td>NaN</td>\n",
       "      <td>NaN</td>\n",
       "      <td>NaN</td>\n",
       "      <td>NaN</td>\n",
       "    </tr>\n",
       "    <tr>\n",
       "      <th>4</th>\n",
       "      <td>2020-02-16 17:21:00</td>\n",
       "      <td>2019-01-01</td>\n",
       "      <td>2019-12-31</td>\n",
       "      <td>74360</td>\n",
       "      <td>2018-01-02</td>\n",
       "      <td>2018-02-21</td>\n",
       "      <td>N</td>\n",
       "      <td>106651967</td>\n",
       "      <td>WA KSP Warszawa Wydział Ruchu Drogowego</td>\n",
       "      <td>NaN</td>\n",
       "      <td>...</td>\n",
       "      <td>NaN</td>\n",
       "      <td>NaN</td>\n",
       "      <td>NaN</td>\n",
       "      <td>NaN</td>\n",
       "      <td>NaN</td>\n",
       "      <td>NaN</td>\n",
       "      <td>NaN</td>\n",
       "      <td>NaN</td>\n",
       "      <td>NaN</td>\n",
       "      <td>NaN</td>\n",
       "    </tr>\n",
       "    <tr>\n",
       "      <th>...</th>\n",
       "      <td>...</td>\n",
       "      <td>...</td>\n",
       "      <td>...</td>\n",
       "      <td>...</td>\n",
       "      <td>...</td>\n",
       "      <td>...</td>\n",
       "      <td>...</td>\n",
       "      <td>...</td>\n",
       "      <td>...</td>\n",
       "      <td>...</td>\n",
       "      <td>...</td>\n",
       "      <td>...</td>\n",
       "      <td>...</td>\n",
       "      <td>...</td>\n",
       "      <td>...</td>\n",
       "      <td>...</td>\n",
       "      <td>...</td>\n",
       "      <td>...</td>\n",
       "      <td>...</td>\n",
       "      <td>...</td>\n",
       "      <td>...</td>\n",
       "    </tr>\n",
       "    <tr>\n",
       "      <th>759337</th>\n",
       "      <td>2021-11-10 14:43:00</td>\n",
       "      <td>2021-01-01</td>\n",
       "      <td>2021-11-10</td>\n",
       "      <td>374857</td>\n",
       "      <td>2021-11-09</td>\n",
       "      <td>2021-11-09</td>\n",
       "      <td>N</td>\n",
       "      <td>113354834</td>\n",
       "      <td>WA KSP Warszawa Wydział Ruchu Drogowego</td>\n",
       "      <td>NaN</td>\n",
       "      <td>...</td>\n",
       "      <td>RODZIEWICZÓWNY</td>\n",
       "      <td>NaN</td>\n",
       "      <td>NaN</td>\n",
       "      <td>NaN</td>\n",
       "      <td>NaN</td>\n",
       "      <td>NaN</td>\n",
       "      <td>NaN</td>\n",
       "      <td>NaN</td>\n",
       "      <td>NaN</td>\n",
       "      <td>NaN</td>\n",
       "    </tr>\n",
       "    <tr>\n",
       "      <th>759338</th>\n",
       "      <td>2021-11-10 14:43:00</td>\n",
       "      <td>2021-01-01</td>\n",
       "      <td>2021-11-10</td>\n",
       "      <td>374857</td>\n",
       "      <td>2021-11-09</td>\n",
       "      <td>2021-11-09</td>\n",
       "      <td>N</td>\n",
       "      <td>113354834</td>\n",
       "      <td>WA KSP Warszawa Wydział Ruchu Drogowego</td>\n",
       "      <td>NaN</td>\n",
       "      <td>...</td>\n",
       "      <td>RODZIEWICZÓWNY</td>\n",
       "      <td>NaN</td>\n",
       "      <td>NaN</td>\n",
       "      <td>NaN</td>\n",
       "      <td>NaN</td>\n",
       "      <td>NaN</td>\n",
       "      <td>NaN</td>\n",
       "      <td>NaN</td>\n",
       "      <td>NaN</td>\n",
       "      <td>NaN</td>\n",
       "    </tr>\n",
       "    <tr>\n",
       "      <th>759339</th>\n",
       "      <td>2021-11-10 14:43:00</td>\n",
       "      <td>2021-01-01</td>\n",
       "      <td>2021-11-10</td>\n",
       "      <td>374857</td>\n",
       "      <td>2021-11-09</td>\n",
       "      <td>2021-11-09</td>\n",
       "      <td>N</td>\n",
       "      <td>113354834</td>\n",
       "      <td>WA KSP Warszawa Wydział Ruchu Drogowego</td>\n",
       "      <td>NaN</td>\n",
       "      <td>...</td>\n",
       "      <td>RODZIEWICZÓWNY</td>\n",
       "      <td>NaN</td>\n",
       "      <td>NaN</td>\n",
       "      <td>NaN</td>\n",
       "      <td>NaN</td>\n",
       "      <td>NaN</td>\n",
       "      <td>NaN</td>\n",
       "      <td>NaN</td>\n",
       "      <td>NaN</td>\n",
       "      <td>NaN</td>\n",
       "    </tr>\n",
       "    <tr>\n",
       "      <th>759340</th>\n",
       "      <td>2021-11-10 14:43:00</td>\n",
       "      <td>2021-01-01</td>\n",
       "      <td>2021-11-10</td>\n",
       "      <td>374857</td>\n",
       "      <td>2021-11-09</td>\n",
       "      <td>2021-11-09</td>\n",
       "      <td>N</td>\n",
       "      <td>113354834</td>\n",
       "      <td>WA KSP Warszawa Wydział Ruchu Drogowego</td>\n",
       "      <td>NaN</td>\n",
       "      <td>...</td>\n",
       "      <td>RODZIEWICZÓWNY</td>\n",
       "      <td>NaN</td>\n",
       "      <td>NaN</td>\n",
       "      <td>NaN</td>\n",
       "      <td>NaN</td>\n",
       "      <td>NaN</td>\n",
       "      <td>NaN</td>\n",
       "      <td>NaN</td>\n",
       "      <td>NaN</td>\n",
       "      <td>NaN</td>\n",
       "    </tr>\n",
       "    <tr>\n",
       "      <th>759341</th>\n",
       "      <td>2021-11-10 14:43:00</td>\n",
       "      <td>2021-01-01</td>\n",
       "      <td>2021-11-10</td>\n",
       "      <td>374857</td>\n",
       "      <td>2021-11-09</td>\n",
       "      <td>2021-11-09</td>\n",
       "      <td>N</td>\n",
       "      <td>113354834</td>\n",
       "      <td>WA KSP Warszawa Wydział Ruchu Drogowego</td>\n",
       "      <td>NaN</td>\n",
       "      <td>...</td>\n",
       "      <td>RODZIEWICZÓWNY</td>\n",
       "      <td>NaN</td>\n",
       "      <td>NaN</td>\n",
       "      <td>NaN</td>\n",
       "      <td>NaN</td>\n",
       "      <td>NaN</td>\n",
       "      <td>NaN</td>\n",
       "      <td>NaN</td>\n",
       "      <td>NaN</td>\n",
       "      <td>NaN</td>\n",
       "    </tr>\n",
       "  </tbody>\n",
       "</table>\n",
       "<p>759342 rows × 124 columns</p>\n",
       "</div>"
      ],
      "text/plain": [
       "                DataZrzutu     DataOd     DataDo  LiczbaZdarzen  \\\n",
       "0      2020-02-16 17:21:00 2019-01-01 2019-12-31          74360   \n",
       "1      2020-02-16 17:21:00 2019-01-01 2019-12-31          74360   \n",
       "2      2020-02-16 17:21:00 2019-01-01 2019-12-31          74360   \n",
       "3      2020-02-16 17:21:00 2019-01-01 2019-12-31          74360   \n",
       "4      2020-02-16 17:21:00 2019-01-01 2019-12-31          74360   \n",
       "...                    ...        ...        ...            ...   \n",
       "759337 2021-11-10 14:43:00 2021-01-01 2021-11-10         374857   \n",
       "759338 2021-11-10 14:43:00 2021-01-01 2021-11-10         374857   \n",
       "759339 2021-11-10 14:43:00 2021-01-01 2021-11-10         374857   \n",
       "759340 2021-11-10 14:43:00 2021-01-01 2021-11-10         374857   \n",
       "759341 2021-11-10 14:43:00 2021-01-01 2021-11-10         374857   \n",
       "\n",
       "       DataUtworzenia    DataMod SzkicZdarzenia         ID  \\\n",
       "0          2018-01-02 2018-02-21              N  106651967   \n",
       "1          2018-01-02 2018-02-21              N  106651967   \n",
       "2          2018-01-02 2018-02-21              N  106651967   \n",
       "3          2018-01-02 2018-02-21              N  106651967   \n",
       "4          2018-01-02 2018-02-21              N  106651967   \n",
       "...               ...        ...            ...        ...   \n",
       "759337     2021-11-09 2021-11-09              N  113354834   \n",
       "759338     2021-11-09 2021-11-09              N  113354834   \n",
       "759339     2021-11-09 2021-11-09              N  113354834   \n",
       "759340     2021-11-09 2021-11-09              N  113354834   \n",
       "759341     2021-11-09 2021-11-09              N  113354834   \n",
       "\n",
       "                              JEDNOSTKA_MIEJSCA JEDNOSTKA_LIKWIDUJACA  ...  \\\n",
       "0       WA KSP Warszawa Wydział Ruchu Drogowego                   NaN  ...   \n",
       "1       WA KSP Warszawa Wydział Ruchu Drogowego                   NaN  ...   \n",
       "2       WA KSP Warszawa Wydział Ruchu Drogowego                   NaN  ...   \n",
       "3       WA KSP Warszawa Wydział Ruchu Drogowego                   NaN  ...   \n",
       "4       WA KSP Warszawa Wydział Ruchu Drogowego                   NaN  ...   \n",
       "...                                         ...                   ...  ...   \n",
       "759337  WA KSP Warszawa Wydział Ruchu Drogowego                   NaN  ...   \n",
       "759338  WA KSP Warszawa Wydział Ruchu Drogowego                   NaN  ...   \n",
       "759339  WA KSP Warszawa Wydział Ruchu Drogowego                   NaN  ...   \n",
       "759340  WA KSP Warszawa Wydział Ruchu Drogowego                   NaN  ...   \n",
       "759341  WA KSP Warszawa Wydział Ruchu Drogowego                   NaN  ...   \n",
       "\n",
       "          ULICA_SKRZYZ ZSZD_ID25  SSUP_KOD SSUP_TABK_TYPE ZSSD_KOD2  \\\n",
       "0                  NaN       NaN       NaN            NaN       NaN   \n",
       "1                  NaN       NaN       NaN            NaN       NaN   \n",
       "2                  NaN       NaN       NaN            NaN       NaN   \n",
       "3                  NaN       NaN       NaN            NaN       NaN   \n",
       "4                  NaN       NaN       NaN            NaN       NaN   \n",
       "...                ...       ...       ...            ...       ...   \n",
       "759337  RODZIEWICZÓWNY       NaN       NaN            NaN       NaN   \n",
       "759338  RODZIEWICZÓWNY       NaN       NaN            NaN       NaN   \n",
       "759339  RODZIEWICZÓWNY       NaN       NaN            NaN       NaN   \n",
       "759340  RODZIEWICZÓWNY       NaN       NaN            NaN       NaN   \n",
       "759341  RODZIEWICZÓWNY       NaN       NaN            NaN       NaN   \n",
       "\n",
       "       RONDO_WEZEL STREFA_ZAMIESZKALA ODLEGLOSC_SKRZYZ KIERUNEK STREFA_RUCHU  \n",
       "0              NaN                NaN              NaN      NaN          NaN  \n",
       "1              NaN                NaN              NaN      NaN          NaN  \n",
       "2              NaN                NaN              NaN      NaN          NaN  \n",
       "3              NaN                NaN              NaN      NaN          NaN  \n",
       "4              NaN                NaN              NaN      NaN          NaN  \n",
       "...            ...                ...              ...      ...          ...  \n",
       "759337         NaN                NaN              NaN      NaN          NaN  \n",
       "759338         NaN                NaN              NaN      NaN          NaN  \n",
       "759339         NaN                NaN              NaN      NaN          NaN  \n",
       "759340         NaN                NaN              NaN      NaN          NaN  \n",
       "759341         NaN                NaN              NaN      NaN          NaN  \n",
       "\n",
       "[759342 rows x 124 columns]"
      ]
     },
     "execution_count": 34,
     "metadata": {},
     "output_type": "execute_result"
    }
   ],
   "source": [
    "warszawa2018_21 = pd.concat([warszawa2018, warszawa2019, warszawa2020, warszawa2021], ignore_index=True) #WYPADKI W WARSZAWIE - BAZA SEWiK 2018-2021\n",
    "warszawa2018_21"
   ]
  },
  {
   "cell_type": "code",
   "execution_count": 36,
   "metadata": {},
   "outputs": [],
   "source": [
    "warszawa2018_21.to_csv('warszawa2018_21.csv', index=False)"
   ]
  }
 ],
 "metadata": {
  "interpreter": {
   "hash": "e7c9f80f3618f45ecfef668bfa3a583f5bb597334d77308f2cc3491cc6d9e9d8"
  },
  "kernelspec": {
   "display_name": "Python 3.9.7 64-bit ('base': conda)",
   "language": "python",
   "name": "python3"
  },
  "language_info": {
   "codemirror_mode": {
    "name": "ipython",
    "version": 3
   },
   "file_extension": ".py",
   "mimetype": "text/x-python",
   "name": "python",
   "nbconvert_exporter": "python",
   "pygments_lexer": "ipython3",
   "version": "3.9.7"
  },
  "orig_nbformat": 4
 },
 "nbformat": 4,
 "nbformat_minor": 2
}
