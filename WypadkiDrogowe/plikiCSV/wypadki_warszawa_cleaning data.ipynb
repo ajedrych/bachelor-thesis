{
 "cells": [
  {
   "cell_type": "code",
   "execution_count": 1,
   "metadata": {},
   "outputs": [],
   "source": [
    "import matplotlib.pyplot as plt\n",
    "import pandas as pd\n",
    "import numpy as np"
   ]
  },
  {
   "cell_type": "markdown",
   "metadata": {},
   "source": [
    "### Usuwanie zbędnych kolumn - Warszawa 2018-2021"
   ]
  },
  {
   "cell_type": "code",
   "execution_count": 3,
   "metadata": {},
   "outputs": [],
   "source": [
    "warszawa2018_21 = pd.read_excel(\"warszawa2018_21.xlsx\")"
   ]
  },
  {
   "cell_type": "code",
   "execution_count": 4,
   "metadata": {},
   "outputs": [
    {
     "name": "stdout",
     "output_type": "stream",
     "text": [
      "(759342, 124)\n"
     ]
    }
   ],
   "source": [
    "print(warszawa2018_21.shape)"
   ]
  },
  {
   "cell_type": "code",
   "execution_count": 5,
   "metadata": {},
   "outputs": [
    {
     "data": {
      "text/plain": [
       "['DataZrzutu',\n",
       " 'DataOd',\n",
       " 'DataDo',\n",
       " 'LiczbaZdarzen',\n",
       " 'DataUtworzenia',\n",
       " 'DataMod',\n",
       " 'SzkicZdarzenia',\n",
       " 'ID',\n",
       " 'JEDNOSTKA_MIEJSCA',\n",
       " 'JEDNOSTKA_LIKWIDUJACA',\n",
       " 'JEDNOSTKA_OPERATORA',\n",
       " 'NR_KW',\n",
       " 'KOD_GUS',\n",
       " 'GPS_X_GUS',\n",
       " 'GPS_Y_GUS',\n",
       " 'WOJ',\n",
       " 'GMINA',\n",
       " 'POWIAT',\n",
       " 'MIEJSCOWOSC',\n",
       " 'ULICA_ADRES',\n",
       " 'NUMER_DOMU',\n",
       " 'ZSSD_KOD',\n",
       " 'KM_HM',\n",
       " 'DATA_ZDARZENIA',\n",
       " 'DATA_ZDARZ',\n",
       " 'GODZINA_ZDARZ',\n",
       " 'WSP_GPS_X',\n",
       " 'WSP_GPS_Y',\n",
       " 'PREDKOSC_DOPUSZCZALNA',\n",
       " 'SZOS_KOD',\n",
       " 'SZOS_TABK_TYPE',\n",
       " 'SZRD_KOD',\n",
       " 'SZRD_TABK_TYPE',\n",
       " 'DROGA_PUBLICZNA',\n",
       " 'ZSZD_ID',\n",
       " 'NADR_KOD',\n",
       " 'NADR_TABK_TYPE',\n",
       " 'ZSZD_ID2',\n",
       " 'STNA_KOD',\n",
       " 'STNA_TABK_TYPE',\n",
       " 'ZSZD_ID3',\n",
       " 'RODR_KOD',\n",
       " 'RODR_TABK_TYPE',\n",
       " 'ZSZD_ID4',\n",
       " 'SYSW_KOD',\n",
       " 'SYSW_TABK_TYPE',\n",
       " 'ZSZD_ID5',\n",
       " 'OZPO_KOD',\n",
       " 'OZPO_TABK_TYPE',\n",
       " 'ZSZD_ID6',\n",
       " 'GEOD_KOD',\n",
       " 'GEOD_TABK_TYPE',\n",
       " 'ZSZD_ID7',\n",
       " 'ZABU_KOD',\n",
       " 'ZABU_TABK_TYPE',\n",
       " 'ZSZD_ID8',\n",
       " 'CHMZ_KOD',\n",
       " 'CHMZ_TABK_TYPE',\n",
       " 'ZSZD_ID9',\n",
       " 'SKRZ_KOD',\n",
       " 'SKRZ_TABK_TYPE',\n",
       " 'ZSZD_ID10',\n",
       " 'SSWA_KOD',\n",
       " 'SSWA_TABK_TYPE',\n",
       " 'SPIP_KOD',\n",
       " 'SPIP_TABK_TYPE',\n",
       " 'NR_POJAZDU',\n",
       " 'RODZAJ_POJAZDU',\n",
       " 'MARKA',\n",
       " 'SPSU_KOD',\n",
       " 'SPSU_TABK_TYPE',\n",
       " 'ROK_PRODUKCJI',\n",
       " 'DATA_OST_BAD_TECH',\n",
       " 'WYPOSAZENIE_DOD',\n",
       " 'ZSPO_ID',\n",
       " 'SPIC_KOD',\n",
       " 'SPIC_TABK_TYPE',\n",
       " 'SPSP_KOD',\n",
       " 'SPSP_TABK_TYPE',\n",
       " 'SSRU_KOD',\n",
       " 'SSRU_TABK_TYPE',\n",
       " 'DATA_UR',\n",
       " 'SOBY_KOD',\n",
       " 'SOBY_TABK_TYPE',\n",
       " 'PLEC',\n",
       " 'SUSU_KOD',\n",
       " 'SUSU_TABK_TYPE',\n",
       " 'LICZBA_LAT_KIEROWANIA',\n",
       " 'SRUZ_KOD',\n",
       " 'SRUZ_TABK_TYPE',\n",
       " 'ZSUC_ID',\n",
       " 'SPSZ_KOD',\n",
       " 'SPSZ_TABK_TYPE',\n",
       " 'STUC_KOD',\n",
       " 'STUC_TABK_TYPE',\n",
       " 'MIEJSCE_W_POJ',\n",
       " 'ZSUC_ID22',\n",
       " 'SUSW_KOD',\n",
       " 'SUSW_TABK_TYPE',\n",
       " 'ZSUC_ID23',\n",
       " 'SUSB_KOD',\n",
       " 'SUSB_TABK_TYPE',\n",
       " 'SPPI_KOD',\n",
       " 'SPPI_TABK_TYPE',\n",
       " 'OBCOKRAJOWIEC',\n",
       " 'POZIOM_ALKOHOLU',\n",
       " 'ODBLASKI',\n",
       " 'ZBIEGL_Z_MIEJSCA',\n",
       " 'SPAK_KOD',\n",
       " 'SPAK_TABK_TYPE',\n",
       " 'INWALIDA',\n",
       " 'LICZBA_PASOW',\n",
       " 'DATA_ZGLOSZENIA',\n",
       " 'DATA_PRZYJAZDU',\n",
       " 'ULICA_SKRZYZ',\n",
       " 'ZSZD_ID25',\n",
       " 'SSUP_KOD',\n",
       " 'SSUP_TABK_TYPE',\n",
       " 'ZSSD_KOD2',\n",
       " 'RONDO_WEZEL',\n",
       " 'STREFA_ZAMIESZKALA',\n",
       " 'ODLEGLOSC_SKRZYZ',\n",
       " 'KIERUNEK',\n",
       " 'STREFA_RUCHU']"
      ]
     },
     "execution_count": 5,
     "metadata": {},
     "output_type": "execute_result"
    }
   ],
   "source": [
    "warszawa2018_21_columns =  list(warszawa2018_21.columns.values.tolist())\n",
    "warszawa2018_21_columns"
   ]
  },
  {
   "cell_type": "code",
   "execution_count": 6,
   "metadata": {},
   "outputs": [],
   "source": [
    "warszawa2018_21 = warszawa2018_21.drop(['DataZrzutu',\n",
    " 'DataOd','DataDo','LiczbaZdarzen','DataUtworzenia','DataMod','SzkicZdarzenia','JEDNOSTKA_MIEJSCA','JEDNOSTKA_LIKWIDUJACA','JEDNOSTKA_OPERATORA',\n",
    " 'NR_KW','KOD_GUS','GPS_X_GUS','GPS_Y_GUS','WOJ','GMINA', 'POWIAT', 'DATA_ZDARZENIA','WSP_GPS_X','WSP_GPS_Y','SZOS_TABK_TYPE', 'SZRD_TABK_TYPE',\n",
    " 'DROGA_PUBLICZNA','ZSZD_ID','NADR_TABK_TYPE', 'ZSZD_ID2','ZSZD_ID3','ZSZD_ID4','ZSZD_ID5','ZSZD_ID6', 'ZSZD_ID7','ZSZD_ID8', 'ZSZD_ID9', 'ZSZD_ID10',\n",
    " 'STNA_TABK_TYPE', 'RODR_TABK_TYPE','SYSW_TABK_TYPE', 'OZPO_TABK_TYPE', 'GEOD_TABK_TYPE','ZABU_TABK_TYPE','CHMZ_TABK_TYPE', 'SKRZ_TABK_TYPE',\n",
    " 'SSWA_TABK_TYPE', 'SPIP_TABK_TYPE','ZSSD_KOD','KM_HM','PREDKOSC_DOPUSZCZALNA','SPIC_TABK_TYPE','SPSP_TABK_TYPE', 'SSRU_TABK_TYPE','SOBY_KOD',\n",
    " 'SOBY_TABK_TYPE', 'SUSU_TABK_TYPE','SRUZ_TABK_TYPE', 'ZSUC_ID','SPSZ_TABK_TYPE', 'STUC_TABK_TYPE','MIEJSCE_W_POJ','ZSUC_ID22','SUSW_TABK_TYPE',\n",
    " 'ZSUC_ID23', 'SUSB_TABK_TYPE','SPPI_TABK_TYPE', 'SPAK_TABK_TYPE', 'DATA_ZGLOSZENIA','DATA_PRZYJAZDU', 'ZSZD_ID25', 'SSUP_TABK_TYPE',\n",
    " 'ZSSD_KOD2'], axis=1)"
   ]
  },
  {
   "cell_type": "code",
   "execution_count": 7,
   "metadata": {},
   "outputs": [
    {
     "name": "stdout",
     "output_type": "stream",
     "text": [
      "(759342, 55)\n"
     ]
    }
   ],
   "source": [
    "print(warszawa2018_21.shape)"
   ]
  },
  {
   "cell_type": "code",
   "execution_count": 9,
   "metadata": {},
   "outputs": [],
   "source": [
    "warszawa2018_21.to_excel('warszawa2018_21_v1.xlsx', index=False, encoding='utf-8-sig')"
   ]
  },
  {
   "cell_type": "markdown",
   "metadata": {},
   "source": [
    "### Usuwanie zbędnych kolumn - Warszawa 2018-2020"
   ]
  },
  {
   "cell_type": "code",
   "execution_count": 10,
   "metadata": {},
   "outputs": [],
   "source": [
    "warszawa2018_20 = pd.read_excel(\"warszawa2018_20.xlsx\")"
   ]
  },
  {
   "cell_type": "code",
   "execution_count": 11,
   "metadata": {},
   "outputs": [
    {
     "name": "stdout",
     "output_type": "stream",
     "text": [
      "(609045, 124)\n"
     ]
    }
   ],
   "source": [
    "print(warszawa2018_20.shape)"
   ]
  },
  {
   "cell_type": "code",
   "execution_count": 12,
   "metadata": {},
   "outputs": [
    {
     "data": {
      "text/plain": [
       "['DataZrzutu',\n",
       " 'DataOd',\n",
       " 'DataDo',\n",
       " 'LiczbaZdarzen',\n",
       " 'DataUtworzenia',\n",
       " 'DataMod',\n",
       " 'SzkicZdarzenia',\n",
       " 'ID',\n",
       " 'JEDNOSTKA_MIEJSCA',\n",
       " 'JEDNOSTKA_LIKWIDUJACA',\n",
       " 'JEDNOSTKA_OPERATORA',\n",
       " 'NR_KW',\n",
       " 'KOD_GUS',\n",
       " 'GPS_X_GUS',\n",
       " 'GPS_Y_GUS',\n",
       " 'WOJ',\n",
       " 'GMINA',\n",
       " 'POWIAT',\n",
       " 'MIEJSCOWOSC',\n",
       " 'ULICA_ADRES',\n",
       " 'NUMER_DOMU',\n",
       " 'ZSSD_KOD',\n",
       " 'KM_HM',\n",
       " 'DATA_ZDARZENIA',\n",
       " 'DATA_ZDARZ',\n",
       " 'GODZINA_ZDARZ',\n",
       " 'WSP_GPS_X',\n",
       " 'WSP_GPS_Y',\n",
       " 'PREDKOSC_DOPUSZCZALNA',\n",
       " 'SZOS_KOD',\n",
       " 'SZOS_TABK_TYPE',\n",
       " 'SZRD_KOD',\n",
       " 'SZRD_TABK_TYPE',\n",
       " 'DROGA_PUBLICZNA',\n",
       " 'ZSZD_ID',\n",
       " 'NADR_KOD',\n",
       " 'NADR_TABK_TYPE',\n",
       " 'ZSZD_ID2',\n",
       " 'STNA_KOD',\n",
       " 'STNA_TABK_TYPE',\n",
       " 'ZSZD_ID3',\n",
       " 'RODR_KOD',\n",
       " 'RODR_TABK_TYPE',\n",
       " 'ZSZD_ID4',\n",
       " 'SYSW_KOD',\n",
       " 'SYSW_TABK_TYPE',\n",
       " 'ZSZD_ID5',\n",
       " 'OZPO_KOD',\n",
       " 'OZPO_TABK_TYPE',\n",
       " 'ZSZD_ID6',\n",
       " 'GEOD_KOD',\n",
       " 'GEOD_TABK_TYPE',\n",
       " 'ZSZD_ID7',\n",
       " 'ZABU_KOD',\n",
       " 'ZABU_TABK_TYPE',\n",
       " 'ZSZD_ID8',\n",
       " 'CHMZ_KOD',\n",
       " 'CHMZ_TABK_TYPE',\n",
       " 'ZSZD_ID9',\n",
       " 'SKRZ_KOD',\n",
       " 'SKRZ_TABK_TYPE',\n",
       " 'ZSZD_ID10',\n",
       " 'SSWA_KOD',\n",
       " 'SSWA_TABK_TYPE',\n",
       " 'SPIP_KOD',\n",
       " 'SPIP_TABK_TYPE',\n",
       " 'NR_POJAZDU',\n",
       " 'RODZAJ_POJAZDU',\n",
       " 'MARKA',\n",
       " 'SPSU_KOD',\n",
       " 'SPSU_TABK_TYPE',\n",
       " 'ROK_PRODUKCJI',\n",
       " 'DATA_OST_BAD_TECH',\n",
       " 'WYPOSAZENIE_DOD',\n",
       " 'ZSPO_ID',\n",
       " 'SPIC_KOD',\n",
       " 'SPIC_TABK_TYPE',\n",
       " 'SPSP_KOD',\n",
       " 'SPSP_TABK_TYPE',\n",
       " 'SSRU_KOD',\n",
       " 'SSRU_TABK_TYPE',\n",
       " 'DATA_UR',\n",
       " 'SOBY_KOD',\n",
       " 'SOBY_TABK_TYPE',\n",
       " 'PLEC',\n",
       " 'SUSU_KOD',\n",
       " 'SUSU_TABK_TYPE',\n",
       " 'LICZBA_LAT_KIEROWANIA',\n",
       " 'SRUZ_KOD',\n",
       " 'SRUZ_TABK_TYPE',\n",
       " 'ZSUC_ID',\n",
       " 'SPSZ_KOD',\n",
       " 'SPSZ_TABK_TYPE',\n",
       " 'STUC_KOD',\n",
       " 'STUC_TABK_TYPE',\n",
       " 'MIEJSCE_W_POJ',\n",
       " 'ZSUC_ID22',\n",
       " 'SUSW_KOD',\n",
       " 'SUSW_TABK_TYPE',\n",
       " 'ZSUC_ID23',\n",
       " 'SUSB_KOD',\n",
       " 'SUSB_TABK_TYPE',\n",
       " 'SPPI_KOD',\n",
       " 'SPPI_TABK_TYPE',\n",
       " 'OBCOKRAJOWIEC',\n",
       " 'POZIOM_ALKOHOLU',\n",
       " 'ODBLASKI',\n",
       " 'ZBIEGL_Z_MIEJSCA',\n",
       " 'SPAK_KOD',\n",
       " 'SPAK_TABK_TYPE',\n",
       " 'INWALIDA',\n",
       " 'LICZBA_PASOW',\n",
       " 'DATA_ZGLOSZENIA',\n",
       " 'DATA_PRZYJAZDU',\n",
       " 'ULICA_SKRZYZ',\n",
       " 'ZSZD_ID25',\n",
       " 'SSUP_KOD',\n",
       " 'SSUP_TABK_TYPE',\n",
       " 'ZSSD_KOD2',\n",
       " 'RONDO_WEZEL',\n",
       " 'STREFA_ZAMIESZKALA',\n",
       " 'ODLEGLOSC_SKRZYZ',\n",
       " 'KIERUNEK',\n",
       " 'STREFA_RUCHU']"
      ]
     },
     "execution_count": 12,
     "metadata": {},
     "output_type": "execute_result"
    }
   ],
   "source": [
    "warszawa2018_20_columns =  list(warszawa2018_20.columns.values.tolist())\n",
    "warszawa2018_20_columns"
   ]
  },
  {
   "cell_type": "code",
   "execution_count": 13,
   "metadata": {},
   "outputs": [],
   "source": [
    "warszawa2018_20 = warszawa2018_20.drop(['DataZrzutu',\n",
    " 'DataOd','DataDo','LiczbaZdarzen','DataUtworzenia','DataMod','SzkicZdarzenia','JEDNOSTKA_MIEJSCA','JEDNOSTKA_LIKWIDUJACA','JEDNOSTKA_OPERATORA',\n",
    " 'NR_KW','KOD_GUS','GPS_X_GUS','GPS_Y_GUS','WOJ','GMINA', 'POWIAT', 'DATA_ZDARZENIA','WSP_GPS_X','WSP_GPS_Y','SZOS_TABK_TYPE', 'SZRD_TABK_TYPE',\n",
    " 'DROGA_PUBLICZNA','ZSZD_ID','NADR_TABK_TYPE', 'ZSZD_ID2','ZSZD_ID3','ZSZD_ID4','ZSZD_ID5','ZSZD_ID6', 'ZSZD_ID7','ZSZD_ID8', 'ZSZD_ID9', 'ZSZD_ID10',\n",
    " 'STNA_TABK_TYPE', 'RODR_TABK_TYPE','SYSW_TABK_TYPE', 'OZPO_TABK_TYPE', 'GEOD_TABK_TYPE','ZABU_TABK_TYPE','CHMZ_TABK_TYPE', 'SKRZ_TABK_TYPE',\n",
    " 'SSWA_TABK_TYPE', 'SPIP_TABK_TYPE','ZSSD_KOD','KM_HM','PREDKOSC_DOPUSZCZALNA','SPIC_TABK_TYPE','SPSP_TABK_TYPE', 'SSRU_TABK_TYPE','SOBY_KOD',\n",
    " 'SOBY_TABK_TYPE', 'SUSU_TABK_TYPE','SRUZ_TABK_TYPE', 'ZSUC_ID','SPSZ_TABK_TYPE', 'STUC_TABK_TYPE','MIEJSCE_W_POJ','ZSUC_ID22','SUSW_TABK_TYPE',\n",
    " 'ZSUC_ID23', 'SUSB_TABK_TYPE','SPPI_TABK_TYPE', 'SPAK_TABK_TYPE', 'DATA_ZGLOSZENIA','DATA_PRZYJAZDU', 'ZSZD_ID25', 'SSUP_TABK_TYPE',\n",
    " 'ZSSD_KOD2'], axis=1)"
   ]
  },
  {
   "cell_type": "code",
   "execution_count": 14,
   "metadata": {},
   "outputs": [
    {
     "name": "stdout",
     "output_type": "stream",
     "text": [
      "(609045, 55)\n"
     ]
    }
   ],
   "source": [
    "print(warszawa2018_20.shape)"
   ]
  },
  {
   "cell_type": "code",
   "execution_count": 15,
   "metadata": {},
   "outputs": [],
   "source": [
    "warszawa2018_20.to_excel('warszawa2018_20_v1.xlsx', index=False, encoding='utf-8-sig')"
   ]
  },
  {
   "cell_type": "markdown",
   "metadata": {},
   "source": [
    "### Usuwanie zbędnych kolumn - Warszawa 2019-2020"
   ]
  },
  {
   "cell_type": "code",
   "execution_count": 16,
   "metadata": {},
   "outputs": [],
   "source": [
    "warszawa2019_20 = pd.read_excel(\"warszawa2019_20.xlsx\")"
   ]
  },
  {
   "cell_type": "code",
   "execution_count": 17,
   "metadata": {},
   "outputs": [
    {
     "name": "stdout",
     "output_type": "stream",
     "text": [
      "(394081, 124)\n"
     ]
    }
   ],
   "source": [
    "print(warszawa2019_20.shape)"
   ]
  },
  {
   "cell_type": "code",
   "execution_count": 18,
   "metadata": {},
   "outputs": [
    {
     "data": {
      "text/plain": [
       "['DataZrzutu',\n",
       " 'DataOd',\n",
       " 'DataDo',\n",
       " 'LiczbaZdarzen',\n",
       " 'DataUtworzenia',\n",
       " 'DataMod',\n",
       " 'SzkicZdarzenia',\n",
       " 'ID',\n",
       " 'JEDNOSTKA_MIEJSCA',\n",
       " 'JEDNOSTKA_OPERATORA',\n",
       " 'NR_KW',\n",
       " 'KOD_GUS',\n",
       " 'GPS_X_GUS',\n",
       " 'GPS_Y_GUS',\n",
       " 'WOJ',\n",
       " 'GMINA',\n",
       " 'POWIAT',\n",
       " 'MIEJSCOWOSC',\n",
       " 'ULICA_ADRES',\n",
       " 'NUMER_DOMU',\n",
       " 'DATA_ZDARZENIA',\n",
       " 'DATA_ZDARZ',\n",
       " 'GODZINA_ZDARZ',\n",
       " 'WSP_GPS_X',\n",
       " 'WSP_GPS_Y',\n",
       " 'PREDKOSC_DOPUSZCZALNA',\n",
       " 'SZOS_KOD',\n",
       " 'SZOS_TABK_TYPE',\n",
       " 'SZRD_KOD',\n",
       " 'SZRD_TABK_TYPE',\n",
       " 'DROGA_PUBLICZNA',\n",
       " 'DATA_ZGLOSZENIA',\n",
       " 'DATA_PRZYJAZDU',\n",
       " 'LICZBA_PASOW',\n",
       " 'ZSZD_ID',\n",
       " 'NADR_KOD',\n",
       " 'NADR_TABK_TYPE',\n",
       " 'ZSZD_ID2',\n",
       " 'STNA_KOD',\n",
       " 'STNA_TABK_TYPE',\n",
       " 'ZSZD_ID3',\n",
       " 'RODR_KOD',\n",
       " 'RODR_TABK_TYPE',\n",
       " 'ZSZD_ID4',\n",
       " 'SYSW_KOD',\n",
       " 'SYSW_TABK_TYPE',\n",
       " 'ZSZD_ID5',\n",
       " 'OZPO_KOD',\n",
       " 'OZPO_TABK_TYPE',\n",
       " 'ZSZD_ID6',\n",
       " 'GEOD_KOD',\n",
       " 'GEOD_TABK_TYPE',\n",
       " 'ZSZD_ID7',\n",
       " 'ZABU_KOD',\n",
       " 'ZABU_TABK_TYPE',\n",
       " 'ZSZD_ID8',\n",
       " 'CHMZ_KOD',\n",
       " 'CHMZ_TABK_TYPE',\n",
       " 'ZSZD_ID9',\n",
       " 'SKRZ_KOD',\n",
       " 'SKRZ_TABK_TYPE',\n",
       " 'ZSZD_ID10',\n",
       " 'SSWA_KOD',\n",
       " 'SSWA_TABK_TYPE',\n",
       " 'NR_POJAZDU',\n",
       " 'RODZAJ_POJAZDU',\n",
       " 'MARKA',\n",
       " 'SPSU_KOD',\n",
       " 'SPSU_TABK_TYPE',\n",
       " 'ROK_PRODUKCJI',\n",
       " 'DATA_OST_BAD_TECH',\n",
       " 'ZSPO_ID',\n",
       " 'SPIC_KOD',\n",
       " 'SPIC_TABK_TYPE',\n",
       " 'WYPOSAZENIE_DOD',\n",
       " 'SPSP_KOD',\n",
       " 'SPSP_TABK_TYPE',\n",
       " 'SSRU_KOD',\n",
       " 'SSRU_TABK_TYPE',\n",
       " 'DATA_UR',\n",
       " 'SOBY_KOD',\n",
       " 'SOBY_TABK_TYPE',\n",
       " 'PLEC',\n",
       " 'SRUZ_KOD',\n",
       " 'SRUZ_TABK_TYPE',\n",
       " 'SUSU_KOD',\n",
       " 'SUSU_TABK_TYPE',\n",
       " 'LICZBA_LAT_KIEROWANIA',\n",
       " 'ZSUC_ID',\n",
       " 'SPSZ_KOD',\n",
       " 'SPSZ_TABK_TYPE',\n",
       " 'MIEJSCE_W_POJ',\n",
       " 'STUC_KOD',\n",
       " 'STUC_TABK_TYPE',\n",
       " 'SUSW_KOD',\n",
       " 'SUSW_TABK_TYPE',\n",
       " 'ZSUC_ID22',\n",
       " 'SUSB_KOD',\n",
       " 'SUSB_TABK_TYPE',\n",
       " 'OBCOKRAJOWIEC',\n",
       " 'ZSUC_ID23',\n",
       " 'SPPI_KOD',\n",
       " 'SPPI_TABK_TYPE',\n",
       " 'POZIOM_ALKOHOLU',\n",
       " 'SPAK_KOD',\n",
       " 'SPAK_TABK_TYPE',\n",
       " 'ODBLASKI',\n",
       " 'ZBIEGL_Z_MIEJSCA',\n",
       " 'INWALIDA',\n",
       " 'ZSSD_KOD',\n",
       " 'SSUP_KOD',\n",
       " 'SSUP_TABK_TYPE',\n",
       " 'JEDNOSTKA_LIKWIDUJACA',\n",
       " 'ZSZD_ID25',\n",
       " 'SPIP_KOD',\n",
       " 'SPIP_TABK_TYPE',\n",
       " 'KM_HM',\n",
       " 'ULICA_SKRZYZ',\n",
       " 'ZSSD_KOD2',\n",
       " 'STREFA_RUCHU',\n",
       " 'ODLEGLOSC_SKRZYZ',\n",
       " 'KIERUNEK',\n",
       " 'RONDO_WEZEL',\n",
       " 'STREFA_ZAMIESZKALA']"
      ]
     },
     "execution_count": 18,
     "metadata": {},
     "output_type": "execute_result"
    }
   ],
   "source": [
    "warszawa2019_20_columns =  list(warszawa2019_20.columns.values.tolist())\n",
    "warszawa2019_20_columns"
   ]
  },
  {
   "cell_type": "code",
   "execution_count": 19,
   "metadata": {},
   "outputs": [],
   "source": [
    "warszawa2019_20 = warszawa2019_20.drop(['DataZrzutu',\n",
    " 'DataOd','DataDo','LiczbaZdarzen','DataUtworzenia','DataMod','SzkicZdarzenia','JEDNOSTKA_MIEJSCA','JEDNOSTKA_LIKWIDUJACA','JEDNOSTKA_OPERATORA',\n",
    " 'NR_KW','KOD_GUS','GPS_X_GUS','GPS_Y_GUS','WOJ','GMINA', 'POWIAT', 'DATA_ZDARZENIA','WSP_GPS_X','WSP_GPS_Y','SZOS_TABK_TYPE', 'SZRD_TABK_TYPE',\n",
    " 'DROGA_PUBLICZNA','ZSZD_ID','NADR_TABK_TYPE', 'ZSZD_ID2','ZSZD_ID3','ZSZD_ID4','ZSZD_ID5','ZSZD_ID6', 'ZSZD_ID7','ZSZD_ID8', 'ZSZD_ID9', 'ZSZD_ID10',\n",
    " 'STNA_TABK_TYPE', 'RODR_TABK_TYPE','SYSW_TABK_TYPE', 'OZPO_TABK_TYPE', 'GEOD_TABK_TYPE','ZABU_TABK_TYPE','CHMZ_TABK_TYPE', 'SKRZ_TABK_TYPE',\n",
    " 'SSWA_TABK_TYPE', 'SPIP_TABK_TYPE','ZSSD_KOD','KM_HM','PREDKOSC_DOPUSZCZALNA','SPIC_TABK_TYPE','SPSP_TABK_TYPE', 'SSRU_TABK_TYPE','SOBY_KOD',\n",
    " 'SOBY_TABK_TYPE', 'SUSU_TABK_TYPE','SRUZ_TABK_TYPE', 'ZSUC_ID','SPSZ_TABK_TYPE', 'STUC_TABK_TYPE','MIEJSCE_W_POJ','ZSUC_ID22','SUSW_TABK_TYPE',\n",
    " 'ZSUC_ID23', 'SUSB_TABK_TYPE','SPPI_TABK_TYPE', 'SPAK_TABK_TYPE', 'DATA_ZGLOSZENIA','DATA_PRZYJAZDU', 'ZSZD_ID25', 'SSUP_TABK_TYPE',\n",
    " 'ZSSD_KOD2'], axis=1)"
   ]
  },
  {
   "cell_type": "code",
   "execution_count": 20,
   "metadata": {},
   "outputs": [
    {
     "name": "stdout",
     "output_type": "stream",
     "text": [
      "(394081, 55)\n"
     ]
    }
   ],
   "source": [
    "print(warszawa2019_20.shape)"
   ]
  },
  {
   "cell_type": "code",
   "execution_count": 21,
   "metadata": {},
   "outputs": [],
   "source": [
    "warszawa2019_20.to_excel('warszawa2019_20_v1.xlsx', index=False, encoding='utf-8-sig')"
   ]
  }
 ],
 "metadata": {
  "interpreter": {
   "hash": "e7c9f80f3618f45ecfef668bfa3a583f5bb597334d77308f2cc3491cc6d9e9d8"
  },
  "kernelspec": {
   "display_name": "Python 3.9.7 64-bit ('base': conda)",
   "language": "python",
   "name": "python3"
  },
  "language_info": {
   "codemirror_mode": {
    "name": "ipython",
    "version": 3
   },
   "file_extension": ".py",
   "mimetype": "text/x-python",
   "name": "python",
   "nbconvert_exporter": "python",
   "pygments_lexer": "ipython3",
   "version": "3.9.7"
  },
  "orig_nbformat": 4
 },
 "nbformat": 4,
 "nbformat_minor": 2
}
