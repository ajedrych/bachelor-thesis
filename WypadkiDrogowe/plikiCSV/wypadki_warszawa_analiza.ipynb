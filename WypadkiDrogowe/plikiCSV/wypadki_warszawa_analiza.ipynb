{
 "cells": [
  {
   "cell_type": "code",
   "execution_count": null,
   "metadata": {},
   "outputs": [],
   "source": [
    "import matplotlib.pyplot as plt\n",
    "import pandas as pd\n",
    "import numpy as np"
   ]
  },
  {
   "cell_type": "code",
   "execution_count": 74,
   "metadata": {},
   "outputs": [
    {
     "name": "stderr",
     "output_type": "stream",
     "text": [
      "C:\\Users\\aleks\\AppData\\Roaming\\Python\\Python39\\site-packages\\IPython\\core\\interactiveshell.py:3441: DtypeWarning: Columns (9,25,26,29,39,40,43,44,45,46,51,53) have mixed types.Specify dtype option on import or set low_memory=False.\n",
      "  exec(code_obj, self.user_global_ns, self.user_ns)\n"
     ]
    }
   ],
   "source": [
    "warszawa2018_21 = pd.read_csv(\"warszawa2018_21_v4.csv\")\n",
    "warszawa2018_21"
   ]
  },
  {
   "cell_type": "code",
   "execution_count": null,
   "metadata": {},
   "outputs": [],
   "source": [
    "w2018_21_col =  set(list(warszawa2018_21.columns.values.tolist()))\n",
    "w2018_21_col"
   ]
  },
  {
   "cell_type": "code",
   "execution_count": 75,
   "metadata": {},
   "outputs": [
    {
     "data": {
      "text/html": [
       "<div>\n",
       "<style scoped>\n",
       "    .dataframe tbody tr th:only-of-type {\n",
       "        vertical-align: middle;\n",
       "    }\n",
       "\n",
       "    .dataframe tbody tr th {\n",
       "        vertical-align: top;\n",
       "    }\n",
       "\n",
       "    .dataframe thead th {\n",
       "        text-align: right;\n",
       "    }\n",
       "</style>\n",
       "<table border=\"1\" class=\"dataframe\">\n",
       "  <thead>\n",
       "    <tr style=\"text-align: right;\">\n",
       "      <th></th>\n",
       "      <th>ID</th>\n",
       "      <th>DATA_ZDARZ</th>\n",
       "    </tr>\n",
       "  </thead>\n",
       "  <tbody>\n",
       "    <tr>\n",
       "      <th>0</th>\n",
       "      <td>106651967</td>\n",
       "      <td>2018-01-01 00:00:00</td>\n",
       "    </tr>\n",
       "    <tr>\n",
       "      <th>1</th>\n",
       "      <td>106651967</td>\n",
       "      <td>2018-01-01 00:00:00</td>\n",
       "    </tr>\n",
       "    <tr>\n",
       "      <th>2</th>\n",
       "      <td>106651967</td>\n",
       "      <td>2018-01-01 00:00:00</td>\n",
       "    </tr>\n",
       "    <tr>\n",
       "      <th>3</th>\n",
       "      <td>106651967</td>\n",
       "      <td>2018-01-01 00:00:00</td>\n",
       "    </tr>\n",
       "    <tr>\n",
       "      <th>4</th>\n",
       "      <td>106651967</td>\n",
       "      <td>2018-01-01 00:00:00</td>\n",
       "    </tr>\n",
       "    <tr>\n",
       "      <th>...</th>\n",
       "      <td>...</td>\n",
       "      <td>...</td>\n",
       "    </tr>\n",
       "    <tr>\n",
       "      <th>759337</th>\n",
       "      <td>113354834</td>\n",
       "      <td>2021-10-31 00:00:00</td>\n",
       "    </tr>\n",
       "    <tr>\n",
       "      <th>759338</th>\n",
       "      <td>113354834</td>\n",
       "      <td>2021-10-31 00:00:00</td>\n",
       "    </tr>\n",
       "    <tr>\n",
       "      <th>759339</th>\n",
       "      <td>113354834</td>\n",
       "      <td>2021-10-31 00:00:00</td>\n",
       "    </tr>\n",
       "    <tr>\n",
       "      <th>759340</th>\n",
       "      <td>113354834</td>\n",
       "      <td>2021-10-31 00:00:00</td>\n",
       "    </tr>\n",
       "    <tr>\n",
       "      <th>759341</th>\n",
       "      <td>113354834</td>\n",
       "      <td>2021-10-31 00:00:00</td>\n",
       "    </tr>\n",
       "  </tbody>\n",
       "</table>\n",
       "<p>759342 rows × 2 columns</p>\n",
       "</div>"
      ],
      "text/plain": [
       "               ID           DATA_ZDARZ\n",
       "0       106651967  2018-01-01 00:00:00\n",
       "1       106651967  2018-01-01 00:00:00\n",
       "2       106651967  2018-01-01 00:00:00\n",
       "3       106651967  2018-01-01 00:00:00\n",
       "4       106651967  2018-01-01 00:00:00\n",
       "...           ...                  ...\n",
       "759337  113354834  2021-10-31 00:00:00\n",
       "759338  113354834  2021-10-31 00:00:00\n",
       "759339  113354834  2021-10-31 00:00:00\n",
       "759340  113354834  2021-10-31 00:00:00\n",
       "759341  113354834  2021-10-31 00:00:00\n",
       "\n",
       "[759342 rows x 2 columns]"
      ]
     },
     "execution_count": 75,
     "metadata": {},
     "output_type": "execute_result"
    }
   ],
   "source": [
    "wypadki = warszawa2018_21[['ID','DATA_ZDARZ']]\n",
    "wypadki"
   ]
  },
  {
   "cell_type": "code",
   "execution_count": 76,
   "metadata": {},
   "outputs": [
    {
     "data": {
      "text/html": [
       "<div>\n",
       "<style scoped>\n",
       "    .dataframe tbody tr th:only-of-type {\n",
       "        vertical-align: middle;\n",
       "    }\n",
       "\n",
       "    .dataframe tbody tr th {\n",
       "        vertical-align: top;\n",
       "    }\n",
       "\n",
       "    .dataframe thead th {\n",
       "        text-align: right;\n",
       "    }\n",
       "</style>\n",
       "<table border=\"1\" class=\"dataframe\">\n",
       "  <thead>\n",
       "    <tr style=\"text-align: right;\">\n",
       "      <th></th>\n",
       "      <th>ID</th>\n",
       "      <th>DATA_ZDARZ</th>\n",
       "    </tr>\n",
       "  </thead>\n",
       "  <tbody>\n",
       "    <tr>\n",
       "      <th>0</th>\n",
       "      <td>106651967</td>\n",
       "      <td>2018-01-01 00:00:00</td>\n",
       "    </tr>\n",
       "    <tr>\n",
       "      <th>7</th>\n",
       "      <td>106650103</td>\n",
       "      <td>2018-01-01 00:00:00</td>\n",
       "    </tr>\n",
       "    <tr>\n",
       "      <th>13</th>\n",
       "      <td>106658062</td>\n",
       "      <td>2018-01-01 00:00:00</td>\n",
       "    </tr>\n",
       "    <tr>\n",
       "      <th>20</th>\n",
       "      <td>106650043</td>\n",
       "      <td>2018-01-01 00:00:00</td>\n",
       "    </tr>\n",
       "    <tr>\n",
       "      <th>27</th>\n",
       "      <td>106651432</td>\n",
       "      <td>2018-01-01 00:00:00</td>\n",
       "    </tr>\n",
       "    <tr>\n",
       "      <th>...</th>\n",
       "      <td>...</td>\n",
       "      <td>...</td>\n",
       "    </tr>\n",
       "    <tr>\n",
       "      <th>759303</th>\n",
       "      <td>113059949</td>\n",
       "      <td>2021-10-31 00:00:00</td>\n",
       "    </tr>\n",
       "    <tr>\n",
       "      <th>759311</th>\n",
       "      <td>113059955</td>\n",
       "      <td>2021-10-31 00:00:00</td>\n",
       "    </tr>\n",
       "    <tr>\n",
       "      <th>759319</th>\n",
       "      <td>113060480</td>\n",
       "      <td>2021-10-31 00:00:00</td>\n",
       "    </tr>\n",
       "    <tr>\n",
       "      <th>759328</th>\n",
       "      <td>113085415</td>\n",
       "      <td>2021-10-31 00:00:00</td>\n",
       "    </tr>\n",
       "    <tr>\n",
       "      <th>759335</th>\n",
       "      <td>113354834</td>\n",
       "      <td>2021-10-31 00:00:00</td>\n",
       "    </tr>\n",
       "  </tbody>\n",
       "</table>\n",
       "<p>107119 rows × 2 columns</p>\n",
       "</div>"
      ],
      "text/plain": [
       "               ID           DATA_ZDARZ\n",
       "0       106651967  2018-01-01 00:00:00\n",
       "7       106650103  2018-01-01 00:00:00\n",
       "13      106658062  2018-01-01 00:00:00\n",
       "20      106650043  2018-01-01 00:00:00\n",
       "27      106651432  2018-01-01 00:00:00\n",
       "...           ...                  ...\n",
       "759303  113059949  2021-10-31 00:00:00\n",
       "759311  113059955  2021-10-31 00:00:00\n",
       "759319  113060480  2021-10-31 00:00:00\n",
       "759328  113085415  2021-10-31 00:00:00\n",
       "759335  113354834  2021-10-31 00:00:00\n",
       "\n",
       "[107119 rows x 2 columns]"
      ]
     },
     "execution_count": 76,
     "metadata": {},
     "output_type": "execute_result"
    }
   ],
   "source": [
    "wypadki = wypadki.drop_duplicates()\n",
    "wypadki"
   ]
  },
  {
   "cell_type": "code",
   "execution_count": 77,
   "metadata": {},
   "outputs": [],
   "source": [
    "wypadki.to_excel(\"wypadki warszawa.xlsx\")"
   ]
  },
  {
   "cell_type": "code",
   "execution_count": 81,
   "metadata": {},
   "outputs": [
    {
     "data": {
      "text/plain": [
       "DATA_ZDARZ\n",
       "2018-01-01 00:00:00     27\n",
       "2018-01-02 00:00:00     72\n",
       "2018-01-03 00:00:00     93\n",
       "2018-01-04 00:00:00     81\n",
       "2018-01-05 00:00:00    117\n",
       "                      ... \n",
       "2021-10-27 00:00:00     98\n",
       "2021-10-28 00:00:00     70\n",
       "2021-10-29 00:00:00    108\n",
       "2021-10-30 00:00:00     67\n",
       "2021-10-31 00:00:00     36\n",
       "Name: ID, Length: 1400, dtype: int64"
      ]
     },
     "execution_count": 81,
     "metadata": {},
     "output_type": "execute_result"
    }
   ],
   "source": [
    "wypadki_v1 = wypadki.groupby(\"DATA_ZDARZ\")[\"ID\"].count()\n",
    "wypadki_v1"
   ]
  },
  {
   "cell_type": "code",
   "execution_count": 82,
   "metadata": {},
   "outputs": [],
   "source": [
    "wypadki_v1.to_excel(\"liczba_wypadków_warszawa.xlsx\")"
   ]
  },
  {
   "cell_type": "code",
   "execution_count": null,
   "metadata": {},
   "outputs": [],
   "source": [
    "import plotly.express as px\n",
    "\n",
    "df = px.data.stocks()\n",
    "fig = px.line(df, x='date', y=\"ID\")\n",
    "fig.show()"
   ]
  },
  {
   "cell_type": "code",
   "execution_count": null,
   "metadata": {},
   "outputs": [],
   "source": [
    "from matplotlib import pyplot\n",
    "\n",
    "f = plt.figure()\n",
    "f.set_figwidth(25)\n",
    "f.set_figheight(8)\n",
    "\n",
    "wypadki_v1.plot()\n",
    "pyplot.show()"
   ]
  },
  {
   "cell_type": "code",
   "execution_count": null,
   "metadata": {},
   "outputs": [],
   "source": [
    "pd.DataFrame(wypadki)"
   ]
  },
  {
   "cell_type": "code",
   "execution_count": null,
   "metadata": {},
   "outputs": [],
   "source": [
    "f = plt.figure()\n",
    "f.set_figwidth(25)\n",
    "f.set_figheight(8)\n",
    "\n",
    "wypadki['2020'].plot()\n",
    "pyplot.show()"
   ]
  },
  {
   "cell_type": "code",
   "execution_count": null,
   "metadata": {},
   "outputs": [],
   "source": [
    "warszawa_zakzenia_2020 = pd.read_csv(\"wypadki_zakazenia.csv\", sep=\";\") #WYPADKI NA TERENIE WARSZAWY - BAZA SEWiK 2020\n",
    "warszawa_zakzenia_2020"
   ]
  },
  {
   "cell_type": "code",
   "execution_count": null,
   "metadata": {},
   "outputs": [],
   "source": [
    "pd.set_option('display.max_columns', None)\n",
    "warszawa_2019_2020"
   ]
  },
  {
   "cell_type": "code",
   "execution_count": null,
   "metadata": {},
   "outputs": [],
   "source": [
    "warszawa_2019_2020['SZRD_KOD'] = warszawa_2019_2020['SZRD_KOD'].replace({'01':'zderzenie_pojazdow',\n",
    "    '02': 'zderzenie_pojazdow', '03': 'zderzenie_pojazdow', '04': 'zderzenie_pojazdow',\n",
    "    '04': 'najechanie_na_pieszego', '05': 'najechanie_na_pojazd_unieruchomiony',\n",
    "    '06': 'najechanie_na_drzewo_slup_inny_obiekt', 'A1':'najechanie_na_drzewo_slup_inny_obiekt',\n",
    "    'A2': 'najechanie_na_drzewo_slup_inny_obiekt', '07': 'najechanie_na_zapore_kolejowa',\n",
    "    '08': 'najechanie_na_dziure_wyboj', '09': 'najechanie_na_zwierze', 'A3':'najechanie_na_drzewo_slup_inny_obiekt',\n",
    "    '10': 'wywrocenie_sie_pojazdu', '11':'wypadek_z_pasazerem', '12': 'inne'})"
   ]
  },
  {
   "cell_type": "code",
   "execution_count": null,
   "metadata": {},
   "outputs": [],
   "source": [
    "warszawa_2019_2020['RODR_KOD'] = warszawa_2019_2020['RODR_KOD'].replace({'01': 'autostrada',\n",
    "    '02': 'ekspresowa', '03':'dwie_jezdnie_jednokierunkowe', '04': 'jednokierunkowa', '05': 'jednojezdniowa_dwukierunkowa'})"
   ]
  },
  {
   "cell_type": "code",
   "execution_count": null,
   "metadata": {},
   "outputs": [],
   "source": [
    "warszawa_2019_2020['CHMZ_KOD'] = warszawa_2019_2020['CHMZ_KOD'].replace({'A3_2015': 'droga', 'B1': 'droga_rowerowa', 'A6_2015': 'parking', 'A1': 'droga',\n",
    "    '12': 'droga', '11': 'pobocze', 'A2': 'pobocze', '10': 'chodnik', 'A3': 'droga_rowerowa', '01': 'przejscie_dla_pieszych', '02': 'przystanek', '03': 'przystanek',\n",
    "    '04': 'torowisko', '05': 'torowisko', 'A4': 'torowisko', '06': 'przejazd_kolejowy', '07': 'przejazd_kolejowy',\n",
    "    '08': 'most', '09': 'tunel', 'A5': 'most', '13': 'droga', 'A6': 'parking', '14': 'pobocze', '15': 'inne', 'A7': 'roboty_drogowe'})"
   ]
  },
  {
   "cell_type": "code",
   "execution_count": null,
   "metadata": {},
   "outputs": [],
   "source": [
    "warszawa_2019_2020['SSWA_KOD'] = warszawa_2019_2020['SSWA_KOD'].replace({'01': 'dobre', '04': 'pochmurno', '02': 'oslepiajace_slonce',\n",
    "    '03': 'wiatr', '05': 'deszcz', '06': 'snieg', '07': 'mgla'})"
   ]
  },
  {
   "cell_type": "code",
   "execution_count": null,
   "metadata": {},
   "outputs": [],
   "source": [
    "warszawa_2019_2020 = warszawa_2019_2020.rename(columns={'SZRD_KOD': 'rodzaj_zdarzenia', 'RODR_KOD': 'rodzaj_drogi','SPIP_KOD': 'przyczyny_pozostale',\n",
    "    'CHMZ_KOD': 'charakterystyka_miejsca_zdarzenia', 'SPAK_KOD': 'jednostka_alkoholowa', 'SSWA_KOD': 'warunki_atmosferyczne',\n",
    "    'STUC_KOD': 'stan_uczestnika', 'SUSW_KOD': 'wplyw_srodkow', 'SPSZ_KOD': 'przyczyny_zachowanie', 'SUSU_KOD':'uprawnienia_do_kierowania',\n",
    "    'SSRU_KOD': 'rodzaj_uczestnika', 'SOBY_KOD': 'obywatelstwo'})\n",
    "warszawa_2019_2020\n",
    " "
   ]
  },
  {
   "cell_type": "code",
   "execution_count": null,
   "metadata": {},
   "outputs": [],
   "source": [
    "import plotly.express as px\n",
    "\n",
    "grouped = warszawa_2019_2020.groupby(['DATA_ZDARZ']).count()\n",
    "grouped = grouped['MIEJSCOWOSC']\n",
    "fig = px.line(grouped,y=\"MIEJSCOWOSC\")\n",
    "fig.show()\n"
   ]
  },
  {
   "cell_type": "code",
   "execution_count": null,
   "metadata": {},
   "outputs": [],
   "source": [
    "warszawa = pd.read_csv('D:\\Licencjat\\warszawa_zakazenia_covid19.csv')\n",
    "warszawa = warszawa[['liczba_przypadkow', 'zgony', 'stan_rekordu_na']]\n",
    "warszawa = warszawa[[\"stan_rekordu_na\", \"liczba_przypadkow\", \"zgony\"]]\n",
    "warszawa = warszawa.rename(columns={'stan_rekordu_na': 'data', 'liczba_przypadkow': 'nowe_przypadki_warsaw', 'zgony': 'zgony_warsaw'})\n",
    "warszawa= warszawa.set_index('data')\n",
    "warszawa.sort_index()\n",
    " \n",
    "warszawa"
   ]
  },
  {
   "cell_type": "code",
   "execution_count": null,
   "metadata": {},
   "outputs": [],
   "source": [
    "grouped\n"
   ]
  },
  {
   "cell_type": "code",
   "execution_count": null,
   "metadata": {},
   "outputs": [],
   "source": [
    "new_df = grouped['2020-11-23': '2020-12-31']\n",
    "fig = px.line(new_df,y=\"MIEJSCOWOSC\")\n",
    "fig.show()\n"
   ]
  },
  {
   "cell_type": "code",
   "execution_count": null,
   "metadata": {},
   "outputs": [],
   "source": [
    "new_df"
   ]
  },
  {
   "cell_type": "code",
   "execution_count": null,
   "metadata": {},
   "outputs": [],
   "source": [
    "new_warszawa = warszawa['2020-11-23': '2020-12-31']\n",
    "new_warszawa = warszawa['nowe_przypadki_warsaw']\n",
    "new_warszawa = new_warszawa['2020-11-23': '2020-12-31']\n",
    "new_warszawa"
   ]
  },
  {
   "cell_type": "code",
   "execution_count": null,
   "metadata": {},
   "outputs": [],
   "source": []
  }
 ],
 "metadata": {
  "interpreter": {
   "hash": "e7c9f80f3618f45ecfef668bfa3a583f5bb597334d77308f2cc3491cc6d9e9d8"
  },
  "kernelspec": {
   "display_name": "Python 3.9.7 64-bit ('base': conda)",
   "language": "python",
   "name": "python3"
  },
  "language_info": {
   "codemirror_mode": {
    "name": "ipython",
    "version": 3
   },
   "file_extension": ".py",
   "mimetype": "text/x-python",
   "name": "python",
   "nbconvert_exporter": "python",
   "pygments_lexer": "ipython3",
   "version": "3.9.7"
  },
  "orig_nbformat": 4
 },
 "nbformat": 4,
 "nbformat_minor": 2
}
