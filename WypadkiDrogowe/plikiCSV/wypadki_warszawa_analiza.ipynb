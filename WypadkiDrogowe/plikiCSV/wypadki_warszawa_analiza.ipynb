{
 "cells": [
  {
   "cell_type": "code",
   "execution_count": 2,
   "metadata": {},
   "outputs": [],
   "source": [
    "import matplotlib.pyplot as plt\n",
    "import pandas as pd\n",
    "import numpy as np"
   ]
  },
  {
   "cell_type": "code",
   "execution_count": 27,
   "metadata": {},
   "outputs": [
    {
     "name": "stderr",
     "output_type": "stream",
     "text": [
      "C:\\Users\\aleks\\AppData\\Roaming\\Python\\Python39\\site-packages\\IPython\\core\\interactiveshell.py:3441: DtypeWarning: Columns (13,14,21,22,38,50,64,72,73,77,78,100,101,102,106,107,108,109,110,118,119,120,122) have mixed types.Specify dtype option on import or set low_memory=False.\n",
      "  exec(code_obj, self.user_global_ns, self.user_ns)\n"
     ]
    }
   ],
   "source": [
    "warszawa2018_21 = pd.read_csv(\"warszawa2018_21.csv\")"
   ]
  },
  {
   "cell_type": "code",
   "execution_count": 28,
   "metadata": {},
   "outputs": [
    {
     "data": {
      "text/html": [
       "<div>\n",
       "<style scoped>\n",
       "    .dataframe tbody tr th:only-of-type {\n",
       "        vertical-align: middle;\n",
       "    }\n",
       "\n",
       "    .dataframe tbody tr th {\n",
       "        vertical-align: top;\n",
       "    }\n",
       "\n",
       "    .dataframe thead th {\n",
       "        text-align: right;\n",
       "    }\n",
       "</style>\n",
       "<table border=\"1\" class=\"dataframe\">\n",
       "  <thead>\n",
       "    <tr style=\"text-align: right;\">\n",
       "      <th></th>\n",
       "      <th>DataZrzutu</th>\n",
       "      <th>DataOd</th>\n",
       "      <th>DataDo</th>\n",
       "      <th>LiczbaZdarzen</th>\n",
       "      <th>DataUtworzenia</th>\n",
       "      <th>DataMod</th>\n",
       "      <th>SzkicZdarzenia</th>\n",
       "      <th>ID</th>\n",
       "      <th>JEDNOSTKA_MIEJSCA</th>\n",
       "      <th>JEDNOSTKA_LIKWIDUJACA</th>\n",
       "      <th>...</th>\n",
       "      <th>ULICA_SKRZYZ</th>\n",
       "      <th>ZSZD_ID25</th>\n",
       "      <th>SSUP_KOD</th>\n",
       "      <th>SSUP_TABK_TYPE</th>\n",
       "      <th>ZSSD_KOD2</th>\n",
       "      <th>RONDO_WEZEL</th>\n",
       "      <th>STREFA_ZAMIESZKALA</th>\n",
       "      <th>ODLEGLOSC_SKRZYZ</th>\n",
       "      <th>KIERUNEK</th>\n",
       "      <th>STREFA_RUCHU</th>\n",
       "    </tr>\n",
       "  </thead>\n",
       "  <tbody>\n",
       "    <tr>\n",
       "      <th>0</th>\n",
       "      <td>2020-02-16 17:21:00</td>\n",
       "      <td>2019-01-01 00:00:00</td>\n",
       "      <td>2019-12-31 00:00:00</td>\n",
       "      <td>74360</td>\n",
       "      <td>2018-01-02</td>\n",
       "      <td>2018-02-21</td>\n",
       "      <td>N</td>\n",
       "      <td>106651967</td>\n",
       "      <td>WA KSP Warszawa Wydział Ruchu Drogowego</td>\n",
       "      <td>NaN</td>\n",
       "      <td>...</td>\n",
       "      <td>NaN</td>\n",
       "      <td>NaN</td>\n",
       "      <td>NaN</td>\n",
       "      <td>NaN</td>\n",
       "      <td>NaN</td>\n",
       "      <td>NaN</td>\n",
       "      <td>NaN</td>\n",
       "      <td>NaN</td>\n",
       "      <td>NaN</td>\n",
       "      <td>NaN</td>\n",
       "    </tr>\n",
       "    <tr>\n",
       "      <th>1</th>\n",
       "      <td>2020-02-16 17:21:00</td>\n",
       "      <td>2019-01-01 00:00:00</td>\n",
       "      <td>2019-12-31 00:00:00</td>\n",
       "      <td>74360</td>\n",
       "      <td>2018-01-02</td>\n",
       "      <td>2018-02-21</td>\n",
       "      <td>N</td>\n",
       "      <td>106651967</td>\n",
       "      <td>WA KSP Warszawa Wydział Ruchu Drogowego</td>\n",
       "      <td>NaN</td>\n",
       "      <td>...</td>\n",
       "      <td>NaN</td>\n",
       "      <td>NaN</td>\n",
       "      <td>NaN</td>\n",
       "      <td>NaN</td>\n",
       "      <td>NaN</td>\n",
       "      <td>NaN</td>\n",
       "      <td>NaN</td>\n",
       "      <td>NaN</td>\n",
       "      <td>NaN</td>\n",
       "      <td>NaN</td>\n",
       "    </tr>\n",
       "    <tr>\n",
       "      <th>2</th>\n",
       "      <td>2020-02-16 17:21:00</td>\n",
       "      <td>2019-01-01 00:00:00</td>\n",
       "      <td>2019-12-31 00:00:00</td>\n",
       "      <td>74360</td>\n",
       "      <td>2018-01-02</td>\n",
       "      <td>2018-02-21</td>\n",
       "      <td>N</td>\n",
       "      <td>106651967</td>\n",
       "      <td>WA KSP Warszawa Wydział Ruchu Drogowego</td>\n",
       "      <td>NaN</td>\n",
       "      <td>...</td>\n",
       "      <td>NaN</td>\n",
       "      <td>NaN</td>\n",
       "      <td>NaN</td>\n",
       "      <td>NaN</td>\n",
       "      <td>NaN</td>\n",
       "      <td>NaN</td>\n",
       "      <td>NaN</td>\n",
       "      <td>NaN</td>\n",
       "      <td>NaN</td>\n",
       "      <td>NaN</td>\n",
       "    </tr>\n",
       "    <tr>\n",
       "      <th>3</th>\n",
       "      <td>2020-02-16 17:21:00</td>\n",
       "      <td>2019-01-01 00:00:00</td>\n",
       "      <td>2019-12-31 00:00:00</td>\n",
       "      <td>74360</td>\n",
       "      <td>2018-01-02</td>\n",
       "      <td>2018-02-21</td>\n",
       "      <td>N</td>\n",
       "      <td>106651967</td>\n",
       "      <td>WA KSP Warszawa Wydział Ruchu Drogowego</td>\n",
       "      <td>NaN</td>\n",
       "      <td>...</td>\n",
       "      <td>NaN</td>\n",
       "      <td>NaN</td>\n",
       "      <td>NaN</td>\n",
       "      <td>NaN</td>\n",
       "      <td>NaN</td>\n",
       "      <td>NaN</td>\n",
       "      <td>NaN</td>\n",
       "      <td>NaN</td>\n",
       "      <td>NaN</td>\n",
       "      <td>NaN</td>\n",
       "    </tr>\n",
       "    <tr>\n",
       "      <th>4</th>\n",
       "      <td>2020-02-16 17:21:00</td>\n",
       "      <td>2019-01-01 00:00:00</td>\n",
       "      <td>2019-12-31 00:00:00</td>\n",
       "      <td>74360</td>\n",
       "      <td>2018-01-02</td>\n",
       "      <td>2018-02-21</td>\n",
       "      <td>N</td>\n",
       "      <td>106651967</td>\n",
       "      <td>WA KSP Warszawa Wydział Ruchu Drogowego</td>\n",
       "      <td>NaN</td>\n",
       "      <td>...</td>\n",
       "      <td>NaN</td>\n",
       "      <td>NaN</td>\n",
       "      <td>NaN</td>\n",
       "      <td>NaN</td>\n",
       "      <td>NaN</td>\n",
       "      <td>NaN</td>\n",
       "      <td>NaN</td>\n",
       "      <td>NaN</td>\n",
       "      <td>NaN</td>\n",
       "      <td>NaN</td>\n",
       "    </tr>\n",
       "    <tr>\n",
       "      <th>...</th>\n",
       "      <td>...</td>\n",
       "      <td>...</td>\n",
       "      <td>...</td>\n",
       "      <td>...</td>\n",
       "      <td>...</td>\n",
       "      <td>...</td>\n",
       "      <td>...</td>\n",
       "      <td>...</td>\n",
       "      <td>...</td>\n",
       "      <td>...</td>\n",
       "      <td>...</td>\n",
       "      <td>...</td>\n",
       "      <td>...</td>\n",
       "      <td>...</td>\n",
       "      <td>...</td>\n",
       "      <td>...</td>\n",
       "      <td>...</td>\n",
       "      <td>...</td>\n",
       "      <td>...</td>\n",
       "      <td>...</td>\n",
       "      <td>...</td>\n",
       "    </tr>\n",
       "    <tr>\n",
       "      <th>759337</th>\n",
       "      <td>2021-11-10 14:43:00</td>\n",
       "      <td>2021-01-01 00:00:00</td>\n",
       "      <td>2021-11-10 00:00:00</td>\n",
       "      <td>374857</td>\n",
       "      <td>2021-11-09</td>\n",
       "      <td>2021-11-09</td>\n",
       "      <td>N</td>\n",
       "      <td>113354834</td>\n",
       "      <td>WA KSP Warszawa Wydział Ruchu Drogowego</td>\n",
       "      <td>NaN</td>\n",
       "      <td>...</td>\n",
       "      <td>RODZIEWICZÓWNY</td>\n",
       "      <td>NaN</td>\n",
       "      <td>NaN</td>\n",
       "      <td>NaN</td>\n",
       "      <td>NaN</td>\n",
       "      <td>NaN</td>\n",
       "      <td>NaN</td>\n",
       "      <td>NaN</td>\n",
       "      <td>NaN</td>\n",
       "      <td>NaN</td>\n",
       "    </tr>\n",
       "    <tr>\n",
       "      <th>759338</th>\n",
       "      <td>2021-11-10 14:43:00</td>\n",
       "      <td>2021-01-01 00:00:00</td>\n",
       "      <td>2021-11-10 00:00:00</td>\n",
       "      <td>374857</td>\n",
       "      <td>2021-11-09</td>\n",
       "      <td>2021-11-09</td>\n",
       "      <td>N</td>\n",
       "      <td>113354834</td>\n",
       "      <td>WA KSP Warszawa Wydział Ruchu Drogowego</td>\n",
       "      <td>NaN</td>\n",
       "      <td>...</td>\n",
       "      <td>RODZIEWICZÓWNY</td>\n",
       "      <td>NaN</td>\n",
       "      <td>NaN</td>\n",
       "      <td>NaN</td>\n",
       "      <td>NaN</td>\n",
       "      <td>NaN</td>\n",
       "      <td>NaN</td>\n",
       "      <td>NaN</td>\n",
       "      <td>NaN</td>\n",
       "      <td>NaN</td>\n",
       "    </tr>\n",
       "    <tr>\n",
       "      <th>759339</th>\n",
       "      <td>2021-11-10 14:43:00</td>\n",
       "      <td>2021-01-01 00:00:00</td>\n",
       "      <td>2021-11-10 00:00:00</td>\n",
       "      <td>374857</td>\n",
       "      <td>2021-11-09</td>\n",
       "      <td>2021-11-09</td>\n",
       "      <td>N</td>\n",
       "      <td>113354834</td>\n",
       "      <td>WA KSP Warszawa Wydział Ruchu Drogowego</td>\n",
       "      <td>NaN</td>\n",
       "      <td>...</td>\n",
       "      <td>RODZIEWICZÓWNY</td>\n",
       "      <td>NaN</td>\n",
       "      <td>NaN</td>\n",
       "      <td>NaN</td>\n",
       "      <td>NaN</td>\n",
       "      <td>NaN</td>\n",
       "      <td>NaN</td>\n",
       "      <td>NaN</td>\n",
       "      <td>NaN</td>\n",
       "      <td>NaN</td>\n",
       "    </tr>\n",
       "    <tr>\n",
       "      <th>759340</th>\n",
       "      <td>2021-11-10 14:43:00</td>\n",
       "      <td>2021-01-01 00:00:00</td>\n",
       "      <td>2021-11-10 00:00:00</td>\n",
       "      <td>374857</td>\n",
       "      <td>2021-11-09</td>\n",
       "      <td>2021-11-09</td>\n",
       "      <td>N</td>\n",
       "      <td>113354834</td>\n",
       "      <td>WA KSP Warszawa Wydział Ruchu Drogowego</td>\n",
       "      <td>NaN</td>\n",
       "      <td>...</td>\n",
       "      <td>RODZIEWICZÓWNY</td>\n",
       "      <td>NaN</td>\n",
       "      <td>NaN</td>\n",
       "      <td>NaN</td>\n",
       "      <td>NaN</td>\n",
       "      <td>NaN</td>\n",
       "      <td>NaN</td>\n",
       "      <td>NaN</td>\n",
       "      <td>NaN</td>\n",
       "      <td>NaN</td>\n",
       "    </tr>\n",
       "    <tr>\n",
       "      <th>759341</th>\n",
       "      <td>2021-11-10 14:43:00</td>\n",
       "      <td>2021-01-01 00:00:00</td>\n",
       "      <td>2021-11-10 00:00:00</td>\n",
       "      <td>374857</td>\n",
       "      <td>2021-11-09</td>\n",
       "      <td>2021-11-09</td>\n",
       "      <td>N</td>\n",
       "      <td>113354834</td>\n",
       "      <td>WA KSP Warszawa Wydział Ruchu Drogowego</td>\n",
       "      <td>NaN</td>\n",
       "      <td>...</td>\n",
       "      <td>RODZIEWICZÓWNY</td>\n",
       "      <td>NaN</td>\n",
       "      <td>NaN</td>\n",
       "      <td>NaN</td>\n",
       "      <td>NaN</td>\n",
       "      <td>NaN</td>\n",
       "      <td>NaN</td>\n",
       "      <td>NaN</td>\n",
       "      <td>NaN</td>\n",
       "      <td>NaN</td>\n",
       "    </tr>\n",
       "  </tbody>\n",
       "</table>\n",
       "<p>759342 rows × 124 columns</p>\n",
       "</div>"
      ],
      "text/plain": [
       "                 DataZrzutu               DataOd               DataDo  \\\n",
       "0       2020-02-16 17:21:00  2019-01-01 00:00:00  2019-12-31 00:00:00   \n",
       "1       2020-02-16 17:21:00  2019-01-01 00:00:00  2019-12-31 00:00:00   \n",
       "2       2020-02-16 17:21:00  2019-01-01 00:00:00  2019-12-31 00:00:00   \n",
       "3       2020-02-16 17:21:00  2019-01-01 00:00:00  2019-12-31 00:00:00   \n",
       "4       2020-02-16 17:21:00  2019-01-01 00:00:00  2019-12-31 00:00:00   \n",
       "...                     ...                  ...                  ...   \n",
       "759337  2021-11-10 14:43:00  2021-01-01 00:00:00  2021-11-10 00:00:00   \n",
       "759338  2021-11-10 14:43:00  2021-01-01 00:00:00  2021-11-10 00:00:00   \n",
       "759339  2021-11-10 14:43:00  2021-01-01 00:00:00  2021-11-10 00:00:00   \n",
       "759340  2021-11-10 14:43:00  2021-01-01 00:00:00  2021-11-10 00:00:00   \n",
       "759341  2021-11-10 14:43:00  2021-01-01 00:00:00  2021-11-10 00:00:00   \n",
       "\n",
       "        LiczbaZdarzen DataUtworzenia     DataMod SzkicZdarzenia         ID  \\\n",
       "0               74360     2018-01-02  2018-02-21              N  106651967   \n",
       "1               74360     2018-01-02  2018-02-21              N  106651967   \n",
       "2               74360     2018-01-02  2018-02-21              N  106651967   \n",
       "3               74360     2018-01-02  2018-02-21              N  106651967   \n",
       "4               74360     2018-01-02  2018-02-21              N  106651967   \n",
       "...               ...            ...         ...            ...        ...   \n",
       "759337         374857     2021-11-09  2021-11-09              N  113354834   \n",
       "759338         374857     2021-11-09  2021-11-09              N  113354834   \n",
       "759339         374857     2021-11-09  2021-11-09              N  113354834   \n",
       "759340         374857     2021-11-09  2021-11-09              N  113354834   \n",
       "759341         374857     2021-11-09  2021-11-09              N  113354834   \n",
       "\n",
       "                              JEDNOSTKA_MIEJSCA JEDNOSTKA_LIKWIDUJACA  ...  \\\n",
       "0       WA KSP Warszawa Wydział Ruchu Drogowego                   NaN  ...   \n",
       "1       WA KSP Warszawa Wydział Ruchu Drogowego                   NaN  ...   \n",
       "2       WA KSP Warszawa Wydział Ruchu Drogowego                   NaN  ...   \n",
       "3       WA KSP Warszawa Wydział Ruchu Drogowego                   NaN  ...   \n",
       "4       WA KSP Warszawa Wydział Ruchu Drogowego                   NaN  ...   \n",
       "...                                         ...                   ...  ...   \n",
       "759337  WA KSP Warszawa Wydział Ruchu Drogowego                   NaN  ...   \n",
       "759338  WA KSP Warszawa Wydział Ruchu Drogowego                   NaN  ...   \n",
       "759339  WA KSP Warszawa Wydział Ruchu Drogowego                   NaN  ...   \n",
       "759340  WA KSP Warszawa Wydział Ruchu Drogowego                   NaN  ...   \n",
       "759341  WA KSP Warszawa Wydział Ruchu Drogowego                   NaN  ...   \n",
       "\n",
       "          ULICA_SKRZYZ ZSZD_ID25  SSUP_KOD SSUP_TABK_TYPE ZSSD_KOD2  \\\n",
       "0                  NaN       NaN       NaN            NaN       NaN   \n",
       "1                  NaN       NaN       NaN            NaN       NaN   \n",
       "2                  NaN       NaN       NaN            NaN       NaN   \n",
       "3                  NaN       NaN       NaN            NaN       NaN   \n",
       "4                  NaN       NaN       NaN            NaN       NaN   \n",
       "...                ...       ...       ...            ...       ...   \n",
       "759337  RODZIEWICZÓWNY       NaN       NaN            NaN       NaN   \n",
       "759338  RODZIEWICZÓWNY       NaN       NaN            NaN       NaN   \n",
       "759339  RODZIEWICZÓWNY       NaN       NaN            NaN       NaN   \n",
       "759340  RODZIEWICZÓWNY       NaN       NaN            NaN       NaN   \n",
       "759341  RODZIEWICZÓWNY       NaN       NaN            NaN       NaN   \n",
       "\n",
       "       RONDO_WEZEL STREFA_ZAMIESZKALA ODLEGLOSC_SKRZYZ KIERUNEK STREFA_RUCHU  \n",
       "0              NaN                NaN              NaN      NaN          NaN  \n",
       "1              NaN                NaN              NaN      NaN          NaN  \n",
       "2              NaN                NaN              NaN      NaN          NaN  \n",
       "3              NaN                NaN              NaN      NaN          NaN  \n",
       "4              NaN                NaN              NaN      NaN          NaN  \n",
       "...            ...                ...              ...      ...          ...  \n",
       "759337         NaN                NaN              NaN      NaN          NaN  \n",
       "759338         NaN                NaN              NaN      NaN          NaN  \n",
       "759339         NaN                NaN              NaN      NaN          NaN  \n",
       "759340         NaN                NaN              NaN      NaN          NaN  \n",
       "759341         NaN                NaN              NaN      NaN          NaN  \n",
       "\n",
       "[759342 rows x 124 columns]"
      ]
     },
     "execution_count": 28,
     "metadata": {},
     "output_type": "execute_result"
    }
   ],
   "source": [
    "warszawa2018_21"
   ]
  },
  {
   "cell_type": "code",
   "execution_count": 30,
   "metadata": {},
   "outputs": [
    {
     "data": {
      "text/plain": [
       "['DataZrzutu',\n",
       " 'DataOd',\n",
       " 'DataDo',\n",
       " 'LiczbaZdarzen',\n",
       " 'DataUtworzenia',\n",
       " 'DataMod',\n",
       " 'SzkicZdarzenia',\n",
       " 'ID',\n",
       " 'JEDNOSTKA_MIEJSCA',\n",
       " 'JEDNOSTKA_LIKWIDUJACA',\n",
       " 'JEDNOSTKA_OPERATORA',\n",
       " 'NR_KW',\n",
       " 'KOD_GUS',\n",
       " 'GPS_X_GUS',\n",
       " 'GPS_Y_GUS',\n",
       " 'WOJ',\n",
       " 'GMINA',\n",
       " 'POWIAT',\n",
       " 'MIEJSCOWOSC',\n",
       " 'ULICA_ADRES',\n",
       " 'NUMER_DOMU',\n",
       " 'ZSSD_KOD',\n",
       " 'KM_HM',\n",
       " 'DATA_ZDARZENIA',\n",
       " 'DATA_ZDARZ',\n",
       " 'GODZINA_ZDARZ',\n",
       " 'WSP_GPS_X',\n",
       " 'WSP_GPS_Y',\n",
       " 'PREDKOSC_DOPUSZCZALNA',\n",
       " 'SZOS_KOD',\n",
       " 'SZOS_TABK_TYPE',\n",
       " 'SZRD_KOD',\n",
       " 'SZRD_TABK_TYPE',\n",
       " 'DROGA_PUBLICZNA',\n",
       " 'ZSZD_ID',\n",
       " 'NADR_KOD',\n",
       " 'NADR_TABK_TYPE',\n",
       " 'ZSZD_ID2',\n",
       " 'STNA_KOD',\n",
       " 'STNA_TABK_TYPE',\n",
       " 'ZSZD_ID3',\n",
       " 'RODR_KOD',\n",
       " 'RODR_TABK_TYPE',\n",
       " 'ZSZD_ID4',\n",
       " 'SYSW_KOD',\n",
       " 'SYSW_TABK_TYPE',\n",
       " 'ZSZD_ID5',\n",
       " 'OZPO_KOD',\n",
       " 'OZPO_TABK_TYPE',\n",
       " 'ZSZD_ID6',\n",
       " 'GEOD_KOD',\n",
       " 'GEOD_TABK_TYPE',\n",
       " 'ZSZD_ID7',\n",
       " 'ZABU_KOD',\n",
       " 'ZABU_TABK_TYPE',\n",
       " 'ZSZD_ID8',\n",
       " 'CHMZ_KOD',\n",
       " 'CHMZ_TABK_TYPE',\n",
       " 'ZSZD_ID9',\n",
       " 'SKRZ_KOD',\n",
       " 'SKRZ_TABK_TYPE',\n",
       " 'ZSZD_ID10',\n",
       " 'SSWA_KOD',\n",
       " 'SSWA_TABK_TYPE',\n",
       " 'SPIP_KOD',\n",
       " 'SPIP_TABK_TYPE',\n",
       " 'NR_POJAZDU',\n",
       " 'RODZAJ_POJAZDU',\n",
       " 'MARKA',\n",
       " 'SPSU_KOD',\n",
       " 'SPSU_TABK_TYPE',\n",
       " 'ROK_PRODUKCJI',\n",
       " 'DATA_OST_BAD_TECH',\n",
       " 'WYPOSAZENIE_DOD',\n",
       " 'ZSPO_ID',\n",
       " 'SPIC_KOD',\n",
       " 'SPIC_TABK_TYPE',\n",
       " 'SPSP_KOD',\n",
       " 'SPSP_TABK_TYPE',\n",
       " 'SSRU_KOD',\n",
       " 'SSRU_TABK_TYPE',\n",
       " 'DATA_UR',\n",
       " 'SOBY_KOD',\n",
       " 'SOBY_TABK_TYPE',\n",
       " 'PLEC',\n",
       " 'SUSU_KOD',\n",
       " 'SUSU_TABK_TYPE',\n",
       " 'LICZBA_LAT_KIEROWANIA',\n",
       " 'SRUZ_KOD',\n",
       " 'SRUZ_TABK_TYPE',\n",
       " 'ZSUC_ID',\n",
       " 'SPSZ_KOD',\n",
       " 'SPSZ_TABK_TYPE',\n",
       " 'STUC_KOD',\n",
       " 'STUC_TABK_TYPE',\n",
       " 'MIEJSCE_W_POJ',\n",
       " 'ZSUC_ID22',\n",
       " 'SUSW_KOD',\n",
       " 'SUSW_TABK_TYPE',\n",
       " 'ZSUC_ID23',\n",
       " 'SUSB_KOD',\n",
       " 'SUSB_TABK_TYPE',\n",
       " 'SPPI_KOD',\n",
       " 'SPPI_TABK_TYPE',\n",
       " 'OBCOKRAJOWIEC',\n",
       " 'POZIOM_ALKOHOLU',\n",
       " 'ODBLASKI',\n",
       " 'ZBIEGL_Z_MIEJSCA',\n",
       " 'SPAK_KOD',\n",
       " 'SPAK_TABK_TYPE',\n",
       " 'INWALIDA',\n",
       " 'LICZBA_PASOW',\n",
       " 'DATA_ZGLOSZENIA',\n",
       " 'DATA_PRZYJAZDU',\n",
       " 'ULICA_SKRZYZ',\n",
       " 'ZSZD_ID25',\n",
       " 'SSUP_KOD',\n",
       " 'SSUP_TABK_TYPE',\n",
       " 'ZSSD_KOD2',\n",
       " 'RONDO_WEZEL',\n",
       " 'STREFA_ZAMIESZKALA',\n",
       " 'ODLEGLOSC_SKRZYZ',\n",
       " 'KIERUNEK',\n",
       " 'STREFA_RUCHU']"
      ]
     },
     "execution_count": 30,
     "metadata": {},
     "output_type": "execute_result"
    }
   ],
   "source": [
    "w2018_21_col =  list(warszawa2018_21.columns.values.tolist())\n",
    "w2018_21_col"
   ]
  },
  {
   "cell_type": "code",
   "execution_count": 31,
   "metadata": {},
   "outputs": [],
   "source": [
    "warszawa2018_21 = warszawa2018_21.drop(['DataZrzutu',\n",
    " 'DataOd',\n",
    " 'DataDo',\n",
    " 'LiczbaZdarzen',\n",
    " 'DataUtworzenia',\n",
    " 'DataMod',\n",
    " 'SzkicZdarzenia',\n",
    " 'ID',\n",
    " 'JEDNOSTKA_MIEJSCA',\n",
    " 'JEDNOSTKA_LIKWIDUJACA',\n",
    " 'JEDNOSTKA_OPERATORA',\n",
    " 'NR_KW',\n",
    " 'KOD_GUS',\n",
    " 'GPS_X_GUS',\n",
    " 'GPS_Y_GUS',\n",
    " 'WOJ',\n",
    " 'GMINA',\n",
    " 'POWIAT', 'DATA_ZDARZENIA','WSP_GPS_X',\n",
    " 'WSP_GPS_Y'], axis=1)"
   ]
  },
  {
   "cell_type": "code",
   "execution_count": 33,
   "metadata": {},
   "outputs": [],
   "source": [
    "warszawa2018_21.to_csv('warszawa2018_21_v1.csv', index=False)"
   ]
  },
  {
   "cell_type": "code",
   "execution_count": 38,
   "metadata": {},
   "outputs": [
    {
     "data": {
      "text/plain": [
       "['MIEJSCOWOSC',\n",
       " 'ULICA_ADRES',\n",
       " 'NUMER_DOMU',\n",
       " 'ZSSD_KOD',\n",
       " 'KM_HM',\n",
       " 'DATA_ZDARZ',\n",
       " 'GODZINA_ZDARZ',\n",
       " 'PREDKOSC_DOPUSZCZALNA',\n",
       " 'SZOS_KOD',\n",
       " 'SZRD_KOD',\n",
       " 'NADR_KOD',\n",
       " 'STNA_KOD',\n",
       " 'STNA_TABK_TYPE',\n",
       " 'RODR_KOD',\n",
       " 'RODR_TABK_TYPE',\n",
       " 'SYSW_KOD',\n",
       " 'SYSW_TABK_TYPE',\n",
       " 'OZPO_KOD',\n",
       " 'OZPO_TABK_TYPE',\n",
       " 'GEOD_KOD',\n",
       " 'GEOD_TABK_TYPE',\n",
       " 'ZABU_KOD',\n",
       " 'ZABU_TABK_TYPE',\n",
       " 'CHMZ_KOD',\n",
       " 'CHMZ_TABK_TYPE',\n",
       " 'SKRZ_KOD',\n",
       " 'SKRZ_TABK_TYPE',\n",
       " 'SSWA_KOD',\n",
       " 'SSWA_TABK_TYPE',\n",
       " 'SPIP_KOD',\n",
       " 'SPIP_TABK_TYPE',\n",
       " 'NR_POJAZDU',\n",
       " 'RODZAJ_POJAZDU',\n",
       " 'MARKA',\n",
       " 'SPSU_KOD',\n",
       " 'SPSU_TABK_TYPE',\n",
       " 'ROK_PRODUKCJI',\n",
       " 'DATA_OST_BAD_TECH',\n",
       " 'WYPOSAZENIE_DOD',\n",
       " 'ZSPO_ID',\n",
       " 'SPIC_KOD',\n",
       " 'SPIC_TABK_TYPE',\n",
       " 'SPSP_KOD',\n",
       " 'SPSP_TABK_TYPE',\n",
       " 'SSRU_KOD',\n",
       " 'SSRU_TABK_TYPE',\n",
       " 'DATA_UR',\n",
       " 'SOBY_KOD',\n",
       " 'SOBY_TABK_TYPE',\n",
       " 'PLEC',\n",
       " 'SUSU_KOD',\n",
       " 'SUSU_TABK_TYPE',\n",
       " 'LICZBA_LAT_KIEROWANIA',\n",
       " 'SRUZ_KOD',\n",
       " 'SRUZ_TABK_TYPE',\n",
       " 'ZSUC_ID',\n",
       " 'SPSZ_KOD',\n",
       " 'SPSZ_TABK_TYPE',\n",
       " 'STUC_KOD',\n",
       " 'STUC_TABK_TYPE',\n",
       " 'MIEJSCE_W_POJ',\n",
       " 'ZSUC_ID22',\n",
       " 'SUSW_KOD',\n",
       " 'SUSW_TABK_TYPE',\n",
       " 'ZSUC_ID23',\n",
       " 'SUSB_KOD',\n",
       " 'SUSB_TABK_TYPE',\n",
       " 'SPPI_KOD',\n",
       " 'SPPI_TABK_TYPE',\n",
       " 'OBCOKRAJOWIEC',\n",
       " 'POZIOM_ALKOHOLU',\n",
       " 'ODBLASKI',\n",
       " 'ZBIEGL_Z_MIEJSCA',\n",
       " 'SPAK_KOD',\n",
       " 'SPAK_TABK_TYPE',\n",
       " 'INWALIDA',\n",
       " 'LICZBA_PASOW',\n",
       " 'DATA_ZGLOSZENIA',\n",
       " 'DATA_PRZYJAZDU',\n",
       " 'ULICA_SKRZYZ',\n",
       " 'ZSZD_ID25',\n",
       " 'SSUP_KOD',\n",
       " 'SSUP_TABK_TYPE',\n",
       " 'ZSSD_KOD2',\n",
       " 'RONDO_WEZEL',\n",
       " 'STREFA_ZAMIESZKALA',\n",
       " 'ODLEGLOSC_SKRZYZ',\n",
       " 'KIERUNEK',\n",
       " 'STREFA_RUCHU']"
      ]
     },
     "execution_count": 38,
     "metadata": {},
     "output_type": "execute_result"
    }
   ],
   "source": [
    "w2018_21_col =  list(warszawa2018_21.columns.values.tolist())\n",
    "w2018_21_col"
   ]
  },
  {
   "cell_type": "code",
   "execution_count": 35,
   "metadata": {},
   "outputs": [],
   "source": [
    "warszawa2018_21 = warszawa2018_21.drop(['SZOS_TABK_TYPE', 'SZRD_TABK_TYPE',\n",
    " 'DROGA_PUBLICZNA','ZSZD_ID','NADR_TABK_TYPE', 'ZSZD_ID2','ZSZD_ID3','ZSZD_ID4','ZSZD_ID5','ZSZD_ID6', 'ZSZD_ID7','ZSZD_ID8', 'ZSZD_ID9', 'ZSZD_ID10'], axis=1)"
   ]
  },
  {
   "cell_type": "code",
   "execution_count": 37,
   "metadata": {},
   "outputs": [],
   "source": [
    "warszawa2018_21.to_csv('warszawa2018_21_v2.csv', index=False)"
   ]
  },
  {
   "cell_type": "code",
   "execution_count": 39,
   "metadata": {},
   "outputs": [],
   "source": [
    "warszawa2018_21 = warszawa2018_21.drop(['STNA_TABK_TYPE', 'RODR_TABK_TYPE','SYSW_TABK_TYPE', 'OZPO_TABK_TYPE', 'GEOD_TABK_TYPE','ZABU_TABK_TYPE',\n",
    "'CHMZ_TABK_TYPE', 'SKRZ_TABK_TYPE', 'SSWA_TABK_TYPE', 'SPIP_TABK_TYPE'], axis=1)"
   ]
  },
  {
   "cell_type": "code",
   "execution_count": 48,
   "metadata": {},
   "outputs": [],
   "source": [
    "warszawa2018_21.to_csv('warszawa2018_21_v3.csv', index=False, encoding='utf-8-sig')"
   ]
  },
  {
   "cell_type": "code",
   "execution_count": 3,
   "metadata": {},
   "outputs": [
    {
     "name": "stderr",
     "output_type": "stream",
     "text": [
      "C:\\Users\\aleks\\AppData\\Roaming\\Python\\Python39\\site-packages\\IPython\\core\\interactiveshell.py:3441: DtypeWarning: Columns (3,4,11,15,20,27,28,32,33,55,56,57,61,62,63,64,65,73,74,75,77) have mixed types.Specify dtype option on import or set low_memory=False.\n",
      "  exec(code_obj, self.user_global_ns, self.user_ns)\n"
     ]
    }
   ],
   "source": [
    "warszawa2018_21 = pd.read_csv(\"warszawa2018_21_v3.csv\")"
   ]
  },
  {
   "cell_type": "code",
   "execution_count": 4,
   "metadata": {},
   "outputs": [
    {
     "data": {
      "text/html": [
       "<div>\n",
       "<style scoped>\n",
       "    .dataframe tbody tr th:only-of-type {\n",
       "        vertical-align: middle;\n",
       "    }\n",
       "\n",
       "    .dataframe tbody tr th {\n",
       "        vertical-align: top;\n",
       "    }\n",
       "\n",
       "    .dataframe thead th {\n",
       "        text-align: right;\n",
       "    }\n",
       "</style>\n",
       "<table border=\"1\" class=\"dataframe\">\n",
       "  <thead>\n",
       "    <tr style=\"text-align: right;\">\n",
       "      <th></th>\n",
       "      <th>MIEJSCOWOSC</th>\n",
       "      <th>ULICA_ADRES</th>\n",
       "      <th>NUMER_DOMU</th>\n",
       "      <th>ZSSD_KOD</th>\n",
       "      <th>KM_HM</th>\n",
       "      <th>DATA_ZDARZ</th>\n",
       "      <th>GODZINA_ZDARZ</th>\n",
       "      <th>PREDKOSC_DOPUSZCZALNA</th>\n",
       "      <th>SZOS_KOD</th>\n",
       "      <th>SZRD_KOD</th>\n",
       "      <th>...</th>\n",
       "      <th>ULICA_SKRZYZ</th>\n",
       "      <th>ZSZD_ID25</th>\n",
       "      <th>SSUP_KOD</th>\n",
       "      <th>SSUP_TABK_TYPE</th>\n",
       "      <th>ZSSD_KOD2</th>\n",
       "      <th>RONDO_WEZEL</th>\n",
       "      <th>STREFA_ZAMIESZKALA</th>\n",
       "      <th>ODLEGLOSC_SKRZYZ</th>\n",
       "      <th>KIERUNEK</th>\n",
       "      <th>STREFA_RUCHU</th>\n",
       "    </tr>\n",
       "  </thead>\n",
       "  <tbody>\n",
       "    <tr>\n",
       "      <th>0</th>\n",
       "      <td>WARSZAWA</td>\n",
       "      <td>BEMA</td>\n",
       "      <td>KASPRZAKA</td>\n",
       "      <td>NaN</td>\n",
       "      <td>NaN</td>\n",
       "      <td>2018-01-01 00:00:00</td>\n",
       "      <td>23:15:00</td>\n",
       "      <td>50</td>\n",
       "      <td>3</td>\n",
       "      <td>2</td>\n",
       "      <td>...</td>\n",
       "      <td>NaN</td>\n",
       "      <td>NaN</td>\n",
       "      <td>NaN</td>\n",
       "      <td>NaN</td>\n",
       "      <td>NaN</td>\n",
       "      <td>NaN</td>\n",
       "      <td>NaN</td>\n",
       "      <td>NaN</td>\n",
       "      <td>NaN</td>\n",
       "      <td>NaN</td>\n",
       "    </tr>\n",
       "    <tr>\n",
       "      <th>1</th>\n",
       "      <td>WARSZAWA</td>\n",
       "      <td>BEMA</td>\n",
       "      <td>KASPRZAKA</td>\n",
       "      <td>NaN</td>\n",
       "      <td>NaN</td>\n",
       "      <td>2018-01-01 00:00:00</td>\n",
       "      <td>23:15:00</td>\n",
       "      <td>50</td>\n",
       "      <td>3</td>\n",
       "      <td>2</td>\n",
       "      <td>...</td>\n",
       "      <td>NaN</td>\n",
       "      <td>NaN</td>\n",
       "      <td>NaN</td>\n",
       "      <td>NaN</td>\n",
       "      <td>NaN</td>\n",
       "      <td>NaN</td>\n",
       "      <td>NaN</td>\n",
       "      <td>NaN</td>\n",
       "      <td>NaN</td>\n",
       "      <td>NaN</td>\n",
       "    </tr>\n",
       "    <tr>\n",
       "      <th>2</th>\n",
       "      <td>WARSZAWA</td>\n",
       "      <td>BEMA</td>\n",
       "      <td>KASPRZAKA</td>\n",
       "      <td>NaN</td>\n",
       "      <td>NaN</td>\n",
       "      <td>2018-01-01 00:00:00</td>\n",
       "      <td>23:15:00</td>\n",
       "      <td>50</td>\n",
       "      <td>3</td>\n",
       "      <td>2</td>\n",
       "      <td>...</td>\n",
       "      <td>NaN</td>\n",
       "      <td>NaN</td>\n",
       "      <td>NaN</td>\n",
       "      <td>NaN</td>\n",
       "      <td>NaN</td>\n",
       "      <td>NaN</td>\n",
       "      <td>NaN</td>\n",
       "      <td>NaN</td>\n",
       "      <td>NaN</td>\n",
       "      <td>NaN</td>\n",
       "    </tr>\n",
       "    <tr>\n",
       "      <th>3</th>\n",
       "      <td>WARSZAWA</td>\n",
       "      <td>BEMA</td>\n",
       "      <td>KASPRZAKA</td>\n",
       "      <td>NaN</td>\n",
       "      <td>NaN</td>\n",
       "      <td>2018-01-01 00:00:00</td>\n",
       "      <td>23:15:00</td>\n",
       "      <td>50</td>\n",
       "      <td>3</td>\n",
       "      <td>2</td>\n",
       "      <td>...</td>\n",
       "      <td>NaN</td>\n",
       "      <td>NaN</td>\n",
       "      <td>NaN</td>\n",
       "      <td>NaN</td>\n",
       "      <td>NaN</td>\n",
       "      <td>NaN</td>\n",
       "      <td>NaN</td>\n",
       "      <td>NaN</td>\n",
       "      <td>NaN</td>\n",
       "      <td>NaN</td>\n",
       "    </tr>\n",
       "    <tr>\n",
       "      <th>4</th>\n",
       "      <td>WARSZAWA</td>\n",
       "      <td>BEMA</td>\n",
       "      <td>KASPRZAKA</td>\n",
       "      <td>NaN</td>\n",
       "      <td>NaN</td>\n",
       "      <td>2018-01-01 00:00:00</td>\n",
       "      <td>23:15:00</td>\n",
       "      <td>50</td>\n",
       "      <td>3</td>\n",
       "      <td>2</td>\n",
       "      <td>...</td>\n",
       "      <td>NaN</td>\n",
       "      <td>NaN</td>\n",
       "      <td>NaN</td>\n",
       "      <td>NaN</td>\n",
       "      <td>NaN</td>\n",
       "      <td>NaN</td>\n",
       "      <td>NaN</td>\n",
       "      <td>NaN</td>\n",
       "      <td>NaN</td>\n",
       "      <td>NaN</td>\n",
       "    </tr>\n",
       "    <tr>\n",
       "      <th>...</th>\n",
       "      <td>...</td>\n",
       "      <td>...</td>\n",
       "      <td>...</td>\n",
       "      <td>...</td>\n",
       "      <td>...</td>\n",
       "      <td>...</td>\n",
       "      <td>...</td>\n",
       "      <td>...</td>\n",
       "      <td>...</td>\n",
       "      <td>...</td>\n",
       "      <td>...</td>\n",
       "      <td>...</td>\n",
       "      <td>...</td>\n",
       "      <td>...</td>\n",
       "      <td>...</td>\n",
       "      <td>...</td>\n",
       "      <td>...</td>\n",
       "      <td>...</td>\n",
       "      <td>...</td>\n",
       "      <td>...</td>\n",
       "      <td>...</td>\n",
       "    </tr>\n",
       "    <tr>\n",
       "      <th>759337</th>\n",
       "      <td>WARSZAWA</td>\n",
       "      <td>OSTROBRAMSKA</td>\n",
       "      <td>NaN</td>\n",
       "      <td>NaN</td>\n",
       "      <td>NaN</td>\n",
       "      <td>2021-10-31 00:00:00</td>\n",
       "      <td>17:30:00</td>\n",
       "      <td>50</td>\n",
       "      <td>3</td>\n",
       "      <td>3</td>\n",
       "      <td>...</td>\n",
       "      <td>RODZIEWICZÓWNY</td>\n",
       "      <td>NaN</td>\n",
       "      <td>NaN</td>\n",
       "      <td>NaN</td>\n",
       "      <td>NaN</td>\n",
       "      <td>NaN</td>\n",
       "      <td>NaN</td>\n",
       "      <td>NaN</td>\n",
       "      <td>NaN</td>\n",
       "      <td>NaN</td>\n",
       "    </tr>\n",
       "    <tr>\n",
       "      <th>759338</th>\n",
       "      <td>WARSZAWA</td>\n",
       "      <td>OSTROBRAMSKA</td>\n",
       "      <td>NaN</td>\n",
       "      <td>NaN</td>\n",
       "      <td>NaN</td>\n",
       "      <td>2021-10-31 00:00:00</td>\n",
       "      <td>17:30:00</td>\n",
       "      <td>50</td>\n",
       "      <td>3</td>\n",
       "      <td>3</td>\n",
       "      <td>...</td>\n",
       "      <td>RODZIEWICZÓWNY</td>\n",
       "      <td>NaN</td>\n",
       "      <td>NaN</td>\n",
       "      <td>NaN</td>\n",
       "      <td>NaN</td>\n",
       "      <td>NaN</td>\n",
       "      <td>NaN</td>\n",
       "      <td>NaN</td>\n",
       "      <td>NaN</td>\n",
       "      <td>NaN</td>\n",
       "    </tr>\n",
       "    <tr>\n",
       "      <th>759339</th>\n",
       "      <td>WARSZAWA</td>\n",
       "      <td>OSTROBRAMSKA</td>\n",
       "      <td>NaN</td>\n",
       "      <td>NaN</td>\n",
       "      <td>NaN</td>\n",
       "      <td>2021-10-31 00:00:00</td>\n",
       "      <td>17:30:00</td>\n",
       "      <td>50</td>\n",
       "      <td>3</td>\n",
       "      <td>3</td>\n",
       "      <td>...</td>\n",
       "      <td>RODZIEWICZÓWNY</td>\n",
       "      <td>NaN</td>\n",
       "      <td>NaN</td>\n",
       "      <td>NaN</td>\n",
       "      <td>NaN</td>\n",
       "      <td>NaN</td>\n",
       "      <td>NaN</td>\n",
       "      <td>NaN</td>\n",
       "      <td>NaN</td>\n",
       "      <td>NaN</td>\n",
       "    </tr>\n",
       "    <tr>\n",
       "      <th>759340</th>\n",
       "      <td>WARSZAWA</td>\n",
       "      <td>OSTROBRAMSKA</td>\n",
       "      <td>NaN</td>\n",
       "      <td>NaN</td>\n",
       "      <td>NaN</td>\n",
       "      <td>2021-10-31 00:00:00</td>\n",
       "      <td>17:30:00</td>\n",
       "      <td>50</td>\n",
       "      <td>3</td>\n",
       "      <td>3</td>\n",
       "      <td>...</td>\n",
       "      <td>RODZIEWICZÓWNY</td>\n",
       "      <td>NaN</td>\n",
       "      <td>NaN</td>\n",
       "      <td>NaN</td>\n",
       "      <td>NaN</td>\n",
       "      <td>NaN</td>\n",
       "      <td>NaN</td>\n",
       "      <td>NaN</td>\n",
       "      <td>NaN</td>\n",
       "      <td>NaN</td>\n",
       "    </tr>\n",
       "    <tr>\n",
       "      <th>759341</th>\n",
       "      <td>WARSZAWA</td>\n",
       "      <td>OSTROBRAMSKA</td>\n",
       "      <td>NaN</td>\n",
       "      <td>NaN</td>\n",
       "      <td>NaN</td>\n",
       "      <td>2021-10-31 00:00:00</td>\n",
       "      <td>17:30:00</td>\n",
       "      <td>50</td>\n",
       "      <td>3</td>\n",
       "      <td>3</td>\n",
       "      <td>...</td>\n",
       "      <td>RODZIEWICZÓWNY</td>\n",
       "      <td>NaN</td>\n",
       "      <td>NaN</td>\n",
       "      <td>NaN</td>\n",
       "      <td>NaN</td>\n",
       "      <td>NaN</td>\n",
       "      <td>NaN</td>\n",
       "      <td>NaN</td>\n",
       "      <td>NaN</td>\n",
       "      <td>NaN</td>\n",
       "    </tr>\n",
       "  </tbody>\n",
       "</table>\n",
       "<p>759342 rows × 79 columns</p>\n",
       "</div>"
      ],
      "text/plain": [
       "       MIEJSCOWOSC   ULICA_ADRES NUMER_DOMU ZSSD_KOD KM_HM  \\\n",
       "0         WARSZAWA          BEMA  KASPRZAKA      NaN   NaN   \n",
       "1         WARSZAWA          BEMA  KASPRZAKA      NaN   NaN   \n",
       "2         WARSZAWA          BEMA  KASPRZAKA      NaN   NaN   \n",
       "3         WARSZAWA          BEMA  KASPRZAKA      NaN   NaN   \n",
       "4         WARSZAWA          BEMA  KASPRZAKA      NaN   NaN   \n",
       "...            ...           ...        ...      ...   ...   \n",
       "759337    WARSZAWA  OSTROBRAMSKA        NaN      NaN   NaN   \n",
       "759338    WARSZAWA  OSTROBRAMSKA        NaN      NaN   NaN   \n",
       "759339    WARSZAWA  OSTROBRAMSKA        NaN      NaN   NaN   \n",
       "759340    WARSZAWA  OSTROBRAMSKA        NaN      NaN   NaN   \n",
       "759341    WARSZAWA  OSTROBRAMSKA        NaN      NaN   NaN   \n",
       "\n",
       "                 DATA_ZDARZ GODZINA_ZDARZ  PREDKOSC_DOPUSZCZALNA  SZOS_KOD  \\\n",
       "0       2018-01-01 00:00:00      23:15:00                     50         3   \n",
       "1       2018-01-01 00:00:00      23:15:00                     50         3   \n",
       "2       2018-01-01 00:00:00      23:15:00                     50         3   \n",
       "3       2018-01-01 00:00:00      23:15:00                     50         3   \n",
       "4       2018-01-01 00:00:00      23:15:00                     50         3   \n",
       "...                     ...           ...                    ...       ...   \n",
       "759337  2021-10-31 00:00:00      17:30:00                     50         3   \n",
       "759338  2021-10-31 00:00:00      17:30:00                     50         3   \n",
       "759339  2021-10-31 00:00:00      17:30:00                     50         3   \n",
       "759340  2021-10-31 00:00:00      17:30:00                     50         3   \n",
       "759341  2021-10-31 00:00:00      17:30:00                     50         3   \n",
       "\n",
       "       SZRD_KOD  ...    ULICA_SKRZYZ ZSZD_ID25  SSUP_KOD  SSUP_TABK_TYPE  \\\n",
       "0             2  ...             NaN       NaN       NaN             NaN   \n",
       "1             2  ...             NaN       NaN       NaN             NaN   \n",
       "2             2  ...             NaN       NaN       NaN             NaN   \n",
       "3             2  ...             NaN       NaN       NaN             NaN   \n",
       "4             2  ...             NaN       NaN       NaN             NaN   \n",
       "...         ...  ...             ...       ...       ...             ...   \n",
       "759337        3  ...  RODZIEWICZÓWNY       NaN       NaN             NaN   \n",
       "759338        3  ...  RODZIEWICZÓWNY       NaN       NaN             NaN   \n",
       "759339        3  ...  RODZIEWICZÓWNY       NaN       NaN             NaN   \n",
       "759340        3  ...  RODZIEWICZÓWNY       NaN       NaN             NaN   \n",
       "759341        3  ...  RODZIEWICZÓWNY       NaN       NaN             NaN   \n",
       "\n",
       "       ZSSD_KOD2 RONDO_WEZEL  STREFA_ZAMIESZKALA ODLEGLOSC_SKRZYZ  KIERUNEK  \\\n",
       "0            NaN         NaN                 NaN              NaN       NaN   \n",
       "1            NaN         NaN                 NaN              NaN       NaN   \n",
       "2            NaN         NaN                 NaN              NaN       NaN   \n",
       "3            NaN         NaN                 NaN              NaN       NaN   \n",
       "4            NaN         NaN                 NaN              NaN       NaN   \n",
       "...          ...         ...                 ...              ...       ...   \n",
       "759337       NaN         NaN                 NaN              NaN       NaN   \n",
       "759338       NaN         NaN                 NaN              NaN       NaN   \n",
       "759339       NaN         NaN                 NaN              NaN       NaN   \n",
       "759340       NaN         NaN                 NaN              NaN       NaN   \n",
       "759341       NaN         NaN                 NaN              NaN       NaN   \n",
       "\n",
       "        STREFA_RUCHU  \n",
       "0                NaN  \n",
       "1                NaN  \n",
       "2                NaN  \n",
       "3                NaN  \n",
       "4                NaN  \n",
       "...              ...  \n",
       "759337           NaN  \n",
       "759338           NaN  \n",
       "759339           NaN  \n",
       "759340           NaN  \n",
       "759341           NaN  \n",
       "\n",
       "[759342 rows x 79 columns]"
      ]
     },
     "execution_count": 4,
     "metadata": {},
     "output_type": "execute_result"
    }
   ],
   "source": [
    "warszawa2018_21"
   ]
  },
  {
   "cell_type": "code",
   "execution_count": 5,
   "metadata": {},
   "outputs": [
    {
     "data": {
      "text/plain": [
       "['MIEJSCOWOSC',\n",
       " 'ULICA_ADRES',\n",
       " 'NUMER_DOMU',\n",
       " 'ZSSD_KOD',\n",
       " 'KM_HM',\n",
       " 'DATA_ZDARZ',\n",
       " 'GODZINA_ZDARZ',\n",
       " 'PREDKOSC_DOPUSZCZALNA',\n",
       " 'SZOS_KOD',\n",
       " 'SZRD_KOD',\n",
       " 'NADR_KOD',\n",
       " 'STNA_KOD',\n",
       " 'RODR_KOD',\n",
       " 'SYSW_KOD',\n",
       " 'OZPO_KOD',\n",
       " 'GEOD_KOD',\n",
       " 'ZABU_KOD',\n",
       " 'CHMZ_KOD',\n",
       " 'SKRZ_KOD',\n",
       " 'SSWA_KOD',\n",
       " 'SPIP_KOD',\n",
       " 'NR_POJAZDU',\n",
       " 'RODZAJ_POJAZDU',\n",
       " 'MARKA',\n",
       " 'SPSU_KOD',\n",
       " 'SPSU_TABK_TYPE',\n",
       " 'ROK_PRODUKCJI',\n",
       " 'DATA_OST_BAD_TECH',\n",
       " 'WYPOSAZENIE_DOD',\n",
       " 'ZSPO_ID',\n",
       " 'SPIC_KOD',\n",
       " 'SPIC_TABK_TYPE',\n",
       " 'SPSP_KOD',\n",
       " 'SPSP_TABK_TYPE',\n",
       " 'SSRU_KOD',\n",
       " 'SSRU_TABK_TYPE',\n",
       " 'DATA_UR',\n",
       " 'SOBY_KOD',\n",
       " 'SOBY_TABK_TYPE',\n",
       " 'PLEC',\n",
       " 'SUSU_KOD',\n",
       " 'SUSU_TABK_TYPE',\n",
       " 'LICZBA_LAT_KIEROWANIA',\n",
       " 'SRUZ_KOD',\n",
       " 'SRUZ_TABK_TYPE',\n",
       " 'ZSUC_ID',\n",
       " 'SPSZ_KOD',\n",
       " 'SPSZ_TABK_TYPE',\n",
       " 'STUC_KOD',\n",
       " 'STUC_TABK_TYPE',\n",
       " 'MIEJSCE_W_POJ',\n",
       " 'ZSUC_ID22',\n",
       " 'SUSW_KOD',\n",
       " 'SUSW_TABK_TYPE',\n",
       " 'ZSUC_ID23',\n",
       " 'SUSB_KOD',\n",
       " 'SUSB_TABK_TYPE',\n",
       " 'SPPI_KOD',\n",
       " 'SPPI_TABK_TYPE',\n",
       " 'OBCOKRAJOWIEC',\n",
       " 'POZIOM_ALKOHOLU',\n",
       " 'ODBLASKI',\n",
       " 'ZBIEGL_Z_MIEJSCA',\n",
       " 'SPAK_KOD',\n",
       " 'SPAK_TABK_TYPE',\n",
       " 'INWALIDA',\n",
       " 'LICZBA_PASOW',\n",
       " 'DATA_ZGLOSZENIA',\n",
       " 'DATA_PRZYJAZDU',\n",
       " 'ULICA_SKRZYZ',\n",
       " 'ZSZD_ID25',\n",
       " 'SSUP_KOD',\n",
       " 'SSUP_TABK_TYPE',\n",
       " 'ZSSD_KOD2',\n",
       " 'RONDO_WEZEL',\n",
       " 'STREFA_ZAMIESZKALA',\n",
       " 'ODLEGLOSC_SKRZYZ',\n",
       " 'KIERUNEK',\n",
       " 'STREFA_RUCHU']"
      ]
     },
     "execution_count": 5,
     "metadata": {},
     "output_type": "execute_result"
    }
   ],
   "source": [
    "w2018_21_col =  list(warszawa2018_21.columns.values.tolist())\n",
    "w2018_21_col"
   ]
  },
  {
   "cell_type": "code",
   "execution_count": 7,
   "metadata": {},
   "outputs": [],
   "source": [
    "warszawa2018_21 = warszawa2018_21.drop(['ZSSD_KOD',\n",
    " 'KM_HM','PREDKOSC_DOPUSZCZALNA','SPIC_TABK_TYPE',\n",
    " 'SPSP_TABK_TYPE', 'SSRU_TABK_TYPE','SOBY_KOD',\n",
    " 'SOBY_TABK_TYPE', 'SUSU_TABK_TYPE','SRUZ_TABK_TYPE', 'ZSUC_ID','SPSZ_TABK_TYPE', 'STUC_TABK_TYPE','MIEJSCE_W_POJ',\n",
    " 'ZSUC_ID22','SUSW_TABK_TYPE',\n",
    " 'ZSUC_ID23', 'SUSB_TABK_TYPE','SPPI_TABK_TYPE', 'SPAK_TABK_TYPE', 'DATA_ZGLOSZENIA',\n",
    " 'DATA_PRZYJAZDU', 'ZSZD_ID25', 'SSUP_TABK_TYPE',\n",
    " 'ZSSD_KOD2'], axis=1)"
   ]
  },
  {
   "cell_type": "code",
   "execution_count": 8,
   "metadata": {},
   "outputs": [],
   "source": [
    "warszawa2018_21.to_csv('warszawa2018_21_v4.csv', index=False, encoding='utf-8-sig')"
   ]
  },
  {
   "cell_type": "code",
   "execution_count": 20,
   "metadata": {},
   "outputs": [],
   "source": [
    "wypadki = warszawa2018_21.groupby('DATA_ZDARZ').count()\n",
    "wypadki = wypadki['ID']\n",
    "\n",
    "#wypadki.to_csv('wypadki_warszawa.csv', index=True)"
   ]
  },
  {
   "cell_type": "code",
   "execution_count": 21,
   "metadata": {},
   "outputs": [
    {
     "data": {
      "image/png": "[encoded data removed]",
      "text/plain": [
       "<Figure size 1800x576 with 1 Axes>"
      ]
     },
     "metadata": {
      "needs_background": "light"
     },
     "output_type": "display_data"
    }
   ],
   "source": [
    "from matplotlib import pyplot\n",
    "\n",
    "f = plt.figure()\n",
    "f.set_figwidth(25)\n",
    "f.set_figheight(8)\n",
    "\n",
    "wypadki.plot()\n",
    "pyplot.show()"
   ]
  },
  {
   "cell_type": "code",
   "execution_count": 4,
   "metadata": {},
   "outputs": [
    {
     "data": {
      "text/html": [
       "<div>\n",
       "<style scoped>\n",
       "    .dataframe tbody tr th:only-of-type {\n",
       "        vertical-align: middle;\n",
       "    }\n",
       "\n",
       "    .dataframe tbody tr th {\n",
       "        vertical-align: top;\n",
       "    }\n",
       "\n",
       "    .dataframe thead th {\n",
       "        text-align: right;\n",
       "    }\n",
       "</style>\n",
       "<table border=\"1\" class=\"dataframe\">\n",
       "  <thead>\n",
       "    <tr style=\"text-align: right;\">\n",
       "      <th></th>\n",
       "      <th>GPS_X_GUS</th>\n",
       "      <th>GPS_Y_GUS</th>\n",
       "      <th>MIEJSCOWOSC</th>\n",
       "      <th>DATA_ZDARZ</th>\n",
       "      <th>SZRD_KOD</th>\n",
       "      <th>RODR_KOD</th>\n",
       "      <th>CHMZ_KOD</th>\n",
       "      <th>SSWA_KOD</th>\n",
       "      <th>RODZAJ_POJAZDU</th>\n",
       "      <th>SSRU_KOD</th>\n",
       "      <th>...</th>\n",
       "      <th>SUSU_KOD</th>\n",
       "      <th>LICZBA_LAT_KIEROWANIA</th>\n",
       "      <th>SPSZ_KOD</th>\n",
       "      <th>STUC_KOD</th>\n",
       "      <th>SUSW_KOD</th>\n",
       "      <th>OBCOKRAJOWIEC</th>\n",
       "      <th>POZIOM_ALKOHOLU</th>\n",
       "      <th>SPAK_KOD</th>\n",
       "      <th>INWALIDA</th>\n",
       "      <th>SPIP_KOD</th>\n",
       "    </tr>\n",
       "  </thead>\n",
       "  <tbody>\n",
       "    <tr>\n",
       "      <th>0</th>\n",
       "      <td>21,047914348395</td>\n",
       "      <td>52,2289789580976</td>\n",
       "      <td>WARSZAWA</td>\n",
       "      <td>2019-01-01</td>\n",
       "      <td>03</td>\n",
       "      <td>4.0</td>\n",
       "      <td>NaN</td>\n",
       "      <td>NaN</td>\n",
       "      <td>NaN</td>\n",
       "      <td>NaN</td>\n",
       "      <td>...</td>\n",
       "      <td>NaN</td>\n",
       "      <td>NaN</td>\n",
       "      <td>NaN</td>\n",
       "      <td>NaN</td>\n",
       "      <td>NaN</td>\n",
       "      <td>NaN</td>\n",
       "      <td>NaN</td>\n",
       "      <td>NaN</td>\n",
       "      <td>NaN</td>\n",
       "      <td>NaN</td>\n",
       "    </tr>\n",
       "    <tr>\n",
       "      <th>1</th>\n",
       "      <td>21,047914348395</td>\n",
       "      <td>52,2289789580976</td>\n",
       "      <td>WARSZAWA</td>\n",
       "      <td>2019-01-01</td>\n",
       "      <td>03</td>\n",
       "      <td>NaN</td>\n",
       "      <td>A1</td>\n",
       "      <td>NaN</td>\n",
       "      <td>NaN</td>\n",
       "      <td>NaN</td>\n",
       "      <td>...</td>\n",
       "      <td>NaN</td>\n",
       "      <td>NaN</td>\n",
       "      <td>NaN</td>\n",
       "      <td>NaN</td>\n",
       "      <td>NaN</td>\n",
       "      <td>NaN</td>\n",
       "      <td>NaN</td>\n",
       "      <td>NaN</td>\n",
       "      <td>NaN</td>\n",
       "      <td>NaN</td>\n",
       "    </tr>\n",
       "    <tr>\n",
       "      <th>2</th>\n",
       "      <td>21,047914348395</td>\n",
       "      <td>52,2289789580976</td>\n",
       "      <td>WARSZAWA</td>\n",
       "      <td>2019-01-01</td>\n",
       "      <td>03</td>\n",
       "      <td>NaN</td>\n",
       "      <td>NaN</td>\n",
       "      <td>5.0</td>\n",
       "      <td>NaN</td>\n",
       "      <td>NaN</td>\n",
       "      <td>...</td>\n",
       "      <td>NaN</td>\n",
       "      <td>NaN</td>\n",
       "      <td>NaN</td>\n",
       "      <td>NaN</td>\n",
       "      <td>NaN</td>\n",
       "      <td>NaN</td>\n",
       "      <td>NaN</td>\n",
       "      <td>NaN</td>\n",
       "      <td>NaN</td>\n",
       "      <td>NaN</td>\n",
       "    </tr>\n",
       "    <tr>\n",
       "      <th>3</th>\n",
       "      <td>21,047914348395</td>\n",
       "      <td>52,2289789580976</td>\n",
       "      <td>WARSZAWA</td>\n",
       "      <td>2019-01-01</td>\n",
       "      <td>03</td>\n",
       "      <td>NaN</td>\n",
       "      <td>NaN</td>\n",
       "      <td>NaN</td>\n",
       "      <td>IS121</td>\n",
       "      <td>NaN</td>\n",
       "      <td>...</td>\n",
       "      <td>NaN</td>\n",
       "      <td>NaN</td>\n",
       "      <td>NaN</td>\n",
       "      <td>NaN</td>\n",
       "      <td>NaN</td>\n",
       "      <td>NaN</td>\n",
       "      <td>NaN</td>\n",
       "      <td>NaN</td>\n",
       "      <td>NaN</td>\n",
       "      <td>NaN</td>\n",
       "    </tr>\n",
       "    <tr>\n",
       "      <th>4</th>\n",
       "      <td>21,047914348395</td>\n",
       "      <td>52,2289789580976</td>\n",
       "      <td>WARSZAWA</td>\n",
       "      <td>2019-01-01</td>\n",
       "      <td>03</td>\n",
       "      <td>NaN</td>\n",
       "      <td>NaN</td>\n",
       "      <td>NaN</td>\n",
       "      <td>IS121</td>\n",
       "      <td>NaN</td>\n",
       "      <td>...</td>\n",
       "      <td>NaN</td>\n",
       "      <td>NaN</td>\n",
       "      <td>NaN</td>\n",
       "      <td>NaN</td>\n",
       "      <td>NaN</td>\n",
       "      <td>NaN</td>\n",
       "      <td>NaN</td>\n",
       "      <td>NaN</td>\n",
       "      <td>NaN</td>\n",
       "      <td>NaN</td>\n",
       "    </tr>\n",
       "    <tr>\n",
       "      <th>...</th>\n",
       "      <td>...</td>\n",
       "      <td>...</td>\n",
       "      <td>...</td>\n",
       "      <td>...</td>\n",
       "      <td>...</td>\n",
       "      <td>...</td>\n",
       "      <td>...</td>\n",
       "      <td>...</td>\n",
       "      <td>...</td>\n",
       "      <td>...</td>\n",
       "      <td>...</td>\n",
       "      <td>...</td>\n",
       "      <td>...</td>\n",
       "      <td>...</td>\n",
       "      <td>...</td>\n",
       "      <td>...</td>\n",
       "      <td>...</td>\n",
       "      <td>...</td>\n",
       "      <td>...</td>\n",
       "      <td>...</td>\n",
       "      <td>...</td>\n",
       "    </tr>\n",
       "    <tr>\n",
       "      <th>394076</th>\n",
       "      <td>21,047914348395</td>\n",
       "      <td>52,2289789580976</td>\n",
       "      <td>WARSZAWA</td>\n",
       "      <td>2020-12-31</td>\n",
       "      <td>03</td>\n",
       "      <td>NaN</td>\n",
       "      <td>NaN</td>\n",
       "      <td>7.0</td>\n",
       "      <td>NaN</td>\n",
       "      <td>NaN</td>\n",
       "      <td>...</td>\n",
       "      <td>NaN</td>\n",
       "      <td>NaN</td>\n",
       "      <td>NaN</td>\n",
       "      <td>NaN</td>\n",
       "      <td>NaN</td>\n",
       "      <td>NaN</td>\n",
       "      <td>NaN</td>\n",
       "      <td>NaN</td>\n",
       "      <td>NaN</td>\n",
       "      <td>NaN</td>\n",
       "    </tr>\n",
       "    <tr>\n",
       "      <th>394077</th>\n",
       "      <td>21,047914348395</td>\n",
       "      <td>52,2289789580976</td>\n",
       "      <td>WARSZAWA</td>\n",
       "      <td>2020-12-31</td>\n",
       "      <td>03</td>\n",
       "      <td>NaN</td>\n",
       "      <td>NaN</td>\n",
       "      <td>NaN</td>\n",
       "      <td>IS121</td>\n",
       "      <td>NaN</td>\n",
       "      <td>...</td>\n",
       "      <td>NaN</td>\n",
       "      <td>NaN</td>\n",
       "      <td>NaN</td>\n",
       "      <td>NaN</td>\n",
       "      <td>NaN</td>\n",
       "      <td>NaN</td>\n",
       "      <td>NaN</td>\n",
       "      <td>NaN</td>\n",
       "      <td>NaN</td>\n",
       "      <td>NaN</td>\n",
       "    </tr>\n",
       "    <tr>\n",
       "      <th>394078</th>\n",
       "      <td>21,047914348395</td>\n",
       "      <td>52,2289789580976</td>\n",
       "      <td>WARSZAWA</td>\n",
       "      <td>2020-12-31</td>\n",
       "      <td>03</td>\n",
       "      <td>NaN</td>\n",
       "      <td>NaN</td>\n",
       "      <td>NaN</td>\n",
       "      <td>IS121</td>\n",
       "      <td>NaN</td>\n",
       "      <td>...</td>\n",
       "      <td>NaN</td>\n",
       "      <td>NaN</td>\n",
       "      <td>NaN</td>\n",
       "      <td>NaN</td>\n",
       "      <td>NaN</td>\n",
       "      <td>NaN</td>\n",
       "      <td>NaN</td>\n",
       "      <td>NaN</td>\n",
       "      <td>NaN</td>\n",
       "      <td>NaN</td>\n",
       "    </tr>\n",
       "    <tr>\n",
       "      <th>394079</th>\n",
       "      <td>21,047914348395</td>\n",
       "      <td>52,2289789580976</td>\n",
       "      <td>WARSZAWA</td>\n",
       "      <td>2020-12-31</td>\n",
       "      <td>03</td>\n",
       "      <td>NaN</td>\n",
       "      <td>NaN</td>\n",
       "      <td>NaN</td>\n",
       "      <td>NaN</td>\n",
       "      <td>K</td>\n",
       "      <td>...</td>\n",
       "      <td>P</td>\n",
       "      <td>32.0</td>\n",
       "      <td>13</td>\n",
       "      <td>NaN</td>\n",
       "      <td>NaN</td>\n",
       "      <td>N</td>\n",
       "      <td>NaN</td>\n",
       "      <td>NaN</td>\n",
       "      <td>NaN</td>\n",
       "      <td>NaN</td>\n",
       "    </tr>\n",
       "    <tr>\n",
       "      <th>394080</th>\n",
       "      <td>21,047914348395</td>\n",
       "      <td>52,2289789580976</td>\n",
       "      <td>WARSZAWA</td>\n",
       "      <td>2020-12-31</td>\n",
       "      <td>03</td>\n",
       "      <td>NaN</td>\n",
       "      <td>NaN</td>\n",
       "      <td>NaN</td>\n",
       "      <td>NaN</td>\n",
       "      <td>K</td>\n",
       "      <td>...</td>\n",
       "      <td>P</td>\n",
       "      <td>40.0</td>\n",
       "      <td>NaN</td>\n",
       "      <td>NaN</td>\n",
       "      <td>NaN</td>\n",
       "      <td>N</td>\n",
       "      <td>NaN</td>\n",
       "      <td>NaN</td>\n",
       "      <td>NaN</td>\n",
       "      <td>NaN</td>\n",
       "    </tr>\n",
       "  </tbody>\n",
       "</table>\n",
       "<p>394081 rows × 22 columns</p>\n",
       "</div>"
      ],
      "text/plain": [
       "              GPS_X_GUS         GPS_Y_GUS MIEJSCOWOSC DATA_ZDARZ SZRD_KOD  \\\n",
       "0       21,047914348395  52,2289789580976    WARSZAWA 2019-01-01       03   \n",
       "1       21,047914348395  52,2289789580976    WARSZAWA 2019-01-01       03   \n",
       "2       21,047914348395  52,2289789580976    WARSZAWA 2019-01-01       03   \n",
       "3       21,047914348395  52,2289789580976    WARSZAWA 2019-01-01       03   \n",
       "4       21,047914348395  52,2289789580976    WARSZAWA 2019-01-01       03   \n",
       "...                 ...               ...         ...        ...      ...   \n",
       "394076  21,047914348395  52,2289789580976    WARSZAWA 2020-12-31       03   \n",
       "394077  21,047914348395  52,2289789580976    WARSZAWA 2020-12-31       03   \n",
       "394078  21,047914348395  52,2289789580976    WARSZAWA 2020-12-31       03   \n",
       "394079  21,047914348395  52,2289789580976    WARSZAWA 2020-12-31       03   \n",
       "394080  21,047914348395  52,2289789580976    WARSZAWA 2020-12-31       03   \n",
       "\n",
       "        RODR_KOD CHMZ_KOD  SSWA_KOD RODZAJ_POJAZDU SSRU_KOD  ... SUSU_KOD  \\\n",
       "0            4.0      NaN       NaN            NaN      NaN  ...      NaN   \n",
       "1            NaN       A1       NaN            NaN      NaN  ...      NaN   \n",
       "2            NaN      NaN       5.0            NaN      NaN  ...      NaN   \n",
       "3            NaN      NaN       NaN          IS121      NaN  ...      NaN   \n",
       "4            NaN      NaN       NaN          IS121      NaN  ...      NaN   \n",
       "...          ...      ...       ...            ...      ...  ...      ...   \n",
       "394076       NaN      NaN       7.0            NaN      NaN  ...      NaN   \n",
       "394077       NaN      NaN       NaN          IS121      NaN  ...      NaN   \n",
       "394078       NaN      NaN       NaN          IS121      NaN  ...      NaN   \n",
       "394079       NaN      NaN       NaN            NaN        K  ...        P   \n",
       "394080       NaN      NaN       NaN            NaN        K  ...        P   \n",
       "\n",
       "       LICZBA_LAT_KIEROWANIA SPSZ_KOD  STUC_KOD SUSW_KOD OBCOKRAJOWIEC  \\\n",
       "0                        NaN      NaN       NaN      NaN           NaN   \n",
       "1                        NaN      NaN       NaN      NaN           NaN   \n",
       "2                        NaN      NaN       NaN      NaN           NaN   \n",
       "3                        NaN      NaN       NaN      NaN           NaN   \n",
       "4                        NaN      NaN       NaN      NaN           NaN   \n",
       "...                      ...      ...       ...      ...           ...   \n",
       "394076                   NaN      NaN       NaN      NaN           NaN   \n",
       "394077                   NaN      NaN       NaN      NaN           NaN   \n",
       "394078                   NaN      NaN       NaN      NaN           NaN   \n",
       "394079                  32.0       13       NaN      NaN             N   \n",
       "394080                  40.0      NaN       NaN      NaN             N   \n",
       "\n",
       "       POZIOM_ALKOHOLU SPAK_KOD  INWALIDA SPIP_KOD  \n",
       "0                  NaN      NaN       NaN      NaN  \n",
       "1                  NaN      NaN       NaN      NaN  \n",
       "2                  NaN      NaN       NaN      NaN  \n",
       "3                  NaN      NaN       NaN      NaN  \n",
       "4                  NaN      NaN       NaN      NaN  \n",
       "...                ...      ...       ...      ...  \n",
       "394076             NaN      NaN       NaN      NaN  \n",
       "394077             NaN      NaN       NaN      NaN  \n",
       "394078             NaN      NaN       NaN      NaN  \n",
       "394079             NaN      NaN       NaN      NaN  \n",
       "394080             NaN      NaN       NaN      NaN  \n",
       "\n",
       "[394081 rows x 22 columns]"
      ]
     },
     "execution_count": 4,
     "metadata": {},
     "output_type": "execute_result"
    }
   ],
   "source": [
    "warszawa_2019_2020 = warszawa_2019_2020.drop(['OZPO_TABK_TYPE', 'ZSZD_ID6', 'GEOD_KOD', 'GEOD_TABK_TYPE', 'ZSSD_KOD2', 'STREFA_RUCHU',\n",
    "    'ODLEGLOSC_SKRZYZ', 'KIERUNEK', 'RONDO_WEZEL', 'STREFA_ZAMIESZKALA', 'ZSZD_ID11', 'DataUtworzenia12', 'DataMod13', 'ID14', 'SYSW_KOD',\n",
    "    'SYSW_TABK_TYPE', 'ZSZD_ID5','OZPO_KOD', 'ZSZD_ID15', 'DataUtworzenia17','ZSPO_ID16','DataMod18', 'ID19', 'ZSZD_ID20','ZSPO_ID21',\n",
    "    'ZSUC_ID24','DataZrzutu', 'DataOd', 'DataDo', 'STNA_TABK_TYPE', 'ZSZD_ID3', 'RODR_TABK_TYPE', 'ZSZD_ID4','LiczbaZdarzen', 'DataUtworzenia',\n",
    "    'DataMod', 'SzkicZdarzenia','JEDNOSTKA_MIEJSCA', 'JEDNOSTKA_OPERATORA', 'ID', 'NR_KW', \"KOD_GUS\", \"WOJ\", \"GMINA\", \"POWIAT\", 'ULICA_ADRES',\n",
    "    'NUMER_DOMU', 'DATA_ZDARZENIA', 'GODZINA_ZDARZ', 'WSP_GPS_X', 'WSP_GPS_Y', 'PREDKOSC_DOPUSZCZALNA', 'DROGA_PUBLICZNA', 'DATA_ZGLOSZENIA',\n",
    "    'SZOS_KOD', 'SZOS_TABK_TYPE', 'SZRD_TABK_TYPE', 'DATA_PRZYJAZDU', 'LICZBA_PASOW','ZSZD_ID','NADR_KOD', 'NADR_TABK_TYPE', 'ZSZD_ID2', 'STNA_KOD', \n",
    "    'ZSZD_ID7', 'ZABU_KOD', 'ZABU_TABK_TYPE', 'ZSZD_ID8', 'ZSSD_KOD', 'ZSZD_ID24','SSUP_KOD', 'SSUP_TABK_TYPE', 'JEDNOSTKA_LIKWIDUJACA', 'ZSZD_ID25',\n",
    "    'SPIP_TABK_TYPE', 'KM_HM', 'ULICA_SKRZYZ','CHMZ_TABK_TYPE', 'ZSZD_ID9', 'SKRZ_KOD', 'ZSUC_ID23', 'SPPI_KOD', 'SPPI_TABK_TYPE', 'ODBLASKI',\n",
    "    'ZBIEGL_Z_MIEJSCA', 'SPAK_TABK_TYPE','SUSB_TABK_TYPE', 'SUSB_KOD', 'ZSUC_ID22', 'SUSW_TABK_TYPE', 'SKRZ_TABK_TYPE', 'ZSZD_ID10',\n",
    "    'SSWA_TABK_TYPE', 'DataUtworzenia11', 'MIEJSCE_W_POJ', 'STUC_TABK_TYPE', 'ZSUC_ID21', 'DataMod12', 'ID13', 'ZSUC_ID', 'SPSZ_TABK_TYPE', 'MARKA',\n",
    "    'SPSU_KOD', 'ZSZD_ID14', 'NR_POJAZDU', 'SUSU_TABK_TYPE', 'SOBY_TABK_TYPE','PLEC','SPSU_TABK_TYPE','SRUZ_KOD','SRUZ_TABK_TYPE', 'ROK_PRODUKCJI',\n",
    "    'DATA_OST_BAD_TECH', 'ZSPO_ID', 'SPIC_KOD', 'SPIC_TABK_TYPE','WYPOSAZENIE_DOD', 'ZSPO_ID15', 'SPSP_KOD', 'SPSP_TABK_TYPE', 'DataUtworzenia16', 'DataMod17',\n",
    "    'ID18', 'ZSZD_ID19', 'ZSPO_ID20', 'SSRU_TABK_TYPE'], axis=1)\n",
    "warszawa_2019_2020"
   ]
  },
  {
   "cell_type": "code",
   "execution_count": 5,
   "metadata": {},
   "outputs": [
    {
     "name": "stdout",
     "output_type": "stream",
     "text": [
      "Index(['GPS_X_GUS', 'GPS_Y_GUS', 'MIEJSCOWOSC', 'DATA_ZDARZ', 'SZRD_KOD',\n",
      "       'RODR_KOD', 'CHMZ_KOD', 'SSWA_KOD', 'RODZAJ_POJAZDU', 'SSRU_KOD',\n",
      "       'DATA_UR', 'SOBY_KOD', 'SUSU_KOD', 'LICZBA_LAT_KIEROWANIA', 'SPSZ_KOD',\n",
      "       'STUC_KOD', 'SUSW_KOD', 'OBCOKRAJOWIEC', 'POZIOM_ALKOHOLU', 'SPAK_KOD',\n",
      "       'INWALIDA', 'SPIP_KOD'],\n",
      "      dtype='object')\n"
     ]
    }
   ],
   "source": [
    "print(warszawa_2019_2020.columns)"
   ]
  },
  {
   "cell_type": "code",
   "execution_count": 6,
   "metadata": {},
   "outputs": [
    {
     "data": {
      "text/html": [
       "<div>\n",
       "<style scoped>\n",
       "    .dataframe tbody tr th:only-of-type {\n",
       "        vertical-align: middle;\n",
       "    }\n",
       "\n",
       "    .dataframe tbody tr th {\n",
       "        vertical-align: top;\n",
       "    }\n",
       "\n",
       "    .dataframe thead th {\n",
       "        text-align: right;\n",
       "    }\n",
       "</style>\n",
       "<table border=\"1\" class=\"dataframe\">\n",
       "  <thead>\n",
       "    <tr style=\"text-align: right;\">\n",
       "      <th></th>\n",
       "      <th>GPS_X_GUS</th>\n",
       "      <th>GPS_Y_GUS</th>\n",
       "    </tr>\n",
       "  </thead>\n",
       "  <tbody>\n",
       "    <tr>\n",
       "      <th>0</th>\n",
       "      <td>21.047914348395</td>\n",
       "      <td>52.2289789580976</td>\n",
       "    </tr>\n",
       "    <tr>\n",
       "      <th>1</th>\n",
       "      <td>21.047914348395</td>\n",
       "      <td>52.2289789580976</td>\n",
       "    </tr>\n",
       "    <tr>\n",
       "      <th>2</th>\n",
       "      <td>21.047914348395</td>\n",
       "      <td>52.2289789580976</td>\n",
       "    </tr>\n",
       "    <tr>\n",
       "      <th>3</th>\n",
       "      <td>21.047914348395</td>\n",
       "      <td>52.2289789580976</td>\n",
       "    </tr>\n",
       "    <tr>\n",
       "      <th>4</th>\n",
       "      <td>21.047914348395</td>\n",
       "      <td>52.2289789580976</td>\n",
       "    </tr>\n",
       "    <tr>\n",
       "      <th>...</th>\n",
       "      <td>...</td>\n",
       "      <td>...</td>\n",
       "    </tr>\n",
       "    <tr>\n",
       "      <th>394076</th>\n",
       "      <td>21.047914348395</td>\n",
       "      <td>52.2289789580976</td>\n",
       "    </tr>\n",
       "    <tr>\n",
       "      <th>394077</th>\n",
       "      <td>21.047914348395</td>\n",
       "      <td>52.2289789580976</td>\n",
       "    </tr>\n",
       "    <tr>\n",
       "      <th>394078</th>\n",
       "      <td>21.047914348395</td>\n",
       "      <td>52.2289789580976</td>\n",
       "    </tr>\n",
       "    <tr>\n",
       "      <th>394079</th>\n",
       "      <td>21.047914348395</td>\n",
       "      <td>52.2289789580976</td>\n",
       "    </tr>\n",
       "    <tr>\n",
       "      <th>394080</th>\n",
       "      <td>21.047914348395</td>\n",
       "      <td>52.2289789580976</td>\n",
       "    </tr>\n",
       "  </tbody>\n",
       "</table>\n",
       "<p>394081 rows × 2 columns</p>\n",
       "</div>"
      ],
      "text/plain": [
       "              GPS_X_GUS         GPS_Y_GUS\n",
       "0       21.047914348395  52.2289789580976\n",
       "1       21.047914348395  52.2289789580976\n",
       "2       21.047914348395  52.2289789580976\n",
       "3       21.047914348395  52.2289789580976\n",
       "4       21.047914348395  52.2289789580976\n",
       "...                 ...               ...\n",
       "394076  21.047914348395  52.2289789580976\n",
       "394077  21.047914348395  52.2289789580976\n",
       "394078  21.047914348395  52.2289789580976\n",
       "394079  21.047914348395  52.2289789580976\n",
       "394080  21.047914348395  52.2289789580976\n",
       "\n",
       "[394081 rows x 2 columns]"
      ]
     },
     "execution_count": 6,
     "metadata": {},
     "output_type": "execute_result"
    }
   ],
   "source": [
    "warszawa_2019_2020['GPS_X_GUS'] = warszawa_2019_2020['GPS_X_GUS'].str.replace(',','.')\n",
    "warszawa_2019_2020['GPS_Y_GUS'] = warszawa_2019_2020['GPS_Y_GUS'].str.replace(',','.')\n",
    "\n",
    "maps = warszawa_2019_2020[['GPS_X_GUS', 'GPS_Y_GUS']]\n",
    "maps"
   ]
  },
  {
   "cell_type": "code",
   "execution_count": 15,
   "metadata": {},
   "outputs": [
    {
     "data": {
      "text/html": [
       "<div>\n",
       "<style scoped>\n",
       "    .dataframe tbody tr th:only-of-type {\n",
       "        vertical-align: middle;\n",
       "    }\n",
       "\n",
       "    .dataframe tbody tr th {\n",
       "        vertical-align: top;\n",
       "    }\n",
       "\n",
       "    .dataframe thead th {\n",
       "        text-align: right;\n",
       "    }\n",
       "</style>\n",
       "<table border=\"1\" class=\"dataframe\">\n",
       "  <thead>\n",
       "    <tr style=\"text-align: right;\">\n",
       "      <th></th>\n",
       "      <th>GPS_X_GUS</th>\n",
       "    </tr>\n",
       "    <tr>\n",
       "      <th>DATA_ZDARZ</th>\n",
       "      <th></th>\n",
       "    </tr>\n",
       "  </thead>\n",
       "  <tbody>\n",
       "    <tr>\n",
       "      <th>2019-01-01</th>\n",
       "      <td>218</td>\n",
       "    </tr>\n",
       "    <tr>\n",
       "      <th>2019-01-02</th>\n",
       "      <td>525</td>\n",
       "    </tr>\n",
       "    <tr>\n",
       "      <th>2019-01-03</th>\n",
       "      <td>504</td>\n",
       "    </tr>\n",
       "    <tr>\n",
       "      <th>2019-01-04</th>\n",
       "      <td>541</td>\n",
       "    </tr>\n",
       "    <tr>\n",
       "      <th>2019-01-05</th>\n",
       "      <td>367</td>\n",
       "    </tr>\n",
       "    <tr>\n",
       "      <th>...</th>\n",
       "      <td>...</td>\n",
       "    </tr>\n",
       "    <tr>\n",
       "      <th>2020-12-27</th>\n",
       "      <td>169</td>\n",
       "    </tr>\n",
       "    <tr>\n",
       "      <th>2020-12-28</th>\n",
       "      <td>382</td>\n",
       "    </tr>\n",
       "    <tr>\n",
       "      <th>2020-12-29</th>\n",
       "      <td>519</td>\n",
       "    </tr>\n",
       "    <tr>\n",
       "      <th>2020-12-30</th>\n",
       "      <td>598</td>\n",
       "    </tr>\n",
       "    <tr>\n",
       "      <th>2020-12-31</th>\n",
       "      <td>346</td>\n",
       "    </tr>\n",
       "  </tbody>\n",
       "</table>\n",
       "<p>731 rows × 1 columns</p>\n",
       "</div>"
      ],
      "text/plain": [
       "            GPS_X_GUS\n",
       "DATA_ZDARZ           \n",
       "2019-01-01        218\n",
       "2019-01-02        525\n",
       "2019-01-03        504\n",
       "2019-01-04        541\n",
       "2019-01-05        367\n",
       "...               ...\n",
       "2020-12-27        169\n",
       "2020-12-28        382\n",
       "2020-12-29        519\n",
       "2020-12-30        598\n",
       "2020-12-31        346\n",
       "\n",
       "[731 rows x 1 columns]"
      ]
     },
     "execution_count": 15,
     "metadata": {},
     "output_type": "execute_result"
    }
   ],
   "source": [
    "pd.DataFrame(wypadki)"
   ]
  },
  {
   "cell_type": "code",
   "execution_count": 27,
   "metadata": {},
   "outputs": [
    {
     "data": {
      "image/png": "[encoded data removed]",
      "text/plain": [
       "<Figure size 1800x576 with 1 Axes>"
      ]
     },
     "metadata": {
      "needs_background": "light"
     },
     "output_type": "display_data"
    }
   ],
   "source": [
    "f = plt.figure()\n",
    "f.set_figwidth(25)\n",
    "f.set_figheight(8)\n",
    "\n",
    "wypadki['2020'].plot()\n",
    "pyplot.show()"
   ]
  },
  {
   "cell_type": "code",
   "execution_count": 30,
   "metadata": {},
   "outputs": [
    {
     "data": {
      "text/html": [
       "<div>\n",
       "<style scoped>\n",
       "    .dataframe tbody tr th:only-of-type {\n",
       "        vertical-align: middle;\n",
       "    }\n",
       "\n",
       "    .dataframe tbody tr th {\n",
       "        vertical-align: top;\n",
       "    }\n",
       "\n",
       "    .dataframe thead th {\n",
       "        text-align: right;\n",
       "    }\n",
       "</style>\n",
       "<table border=\"1\" class=\"dataframe\">\n",
       "  <thead>\n",
       "    <tr style=\"text-align: right;\">\n",
       "      <th></th>\n",
       "      <th>DATA_ZDARZ</th>\n",
       "      <th>LICZBA_WYPADKOW</th>\n",
       "      <th>PRZYPADKI_COVID</th>\n",
       "    </tr>\n",
       "  </thead>\n",
       "  <tbody>\n",
       "    <tr>\n",
       "      <th>0</th>\n",
       "      <td>01.01.2019</td>\n",
       "      <td>218</td>\n",
       "      <td>0</td>\n",
       "    </tr>\n",
       "    <tr>\n",
       "      <th>1</th>\n",
       "      <td>02.01.2019</td>\n",
       "      <td>525</td>\n",
       "      <td>0</td>\n",
       "    </tr>\n",
       "    <tr>\n",
       "      <th>2</th>\n",
       "      <td>03.01.2019</td>\n",
       "      <td>504</td>\n",
       "      <td>0</td>\n",
       "    </tr>\n",
       "    <tr>\n",
       "      <th>3</th>\n",
       "      <td>04.01.2019</td>\n",
       "      <td>541</td>\n",
       "      <td>0</td>\n",
       "    </tr>\n",
       "    <tr>\n",
       "      <th>4</th>\n",
       "      <td>05.01.2019</td>\n",
       "      <td>367</td>\n",
       "      <td>0</td>\n",
       "    </tr>\n",
       "    <tr>\n",
       "      <th>...</th>\n",
       "      <td>...</td>\n",
       "      <td>...</td>\n",
       "      <td>...</td>\n",
       "    </tr>\n",
       "    <tr>\n",
       "      <th>726</th>\n",
       "      <td>27.12.2020</td>\n",
       "      <td>169</td>\n",
       "      <td>NaN</td>\n",
       "    </tr>\n",
       "    <tr>\n",
       "      <th>727</th>\n",
       "      <td>28.12.2020</td>\n",
       "      <td>382</td>\n",
       "      <td>NaN</td>\n",
       "    </tr>\n",
       "    <tr>\n",
       "      <th>728</th>\n",
       "      <td>29.12.2020</td>\n",
       "      <td>519</td>\n",
       "      <td>NaN</td>\n",
       "    </tr>\n",
       "    <tr>\n",
       "      <th>729</th>\n",
       "      <td>30.12.2020</td>\n",
       "      <td>598</td>\n",
       "      <td>NaN</td>\n",
       "    </tr>\n",
       "    <tr>\n",
       "      <th>730</th>\n",
       "      <td>31.12.2020</td>\n",
       "      <td>346</td>\n",
       "      <td>NaN</td>\n",
       "    </tr>\n",
       "  </tbody>\n",
       "</table>\n",
       "<p>731 rows × 3 columns</p>\n",
       "</div>"
      ],
      "text/plain": [
       "     DATA_ZDARZ  LICZBA_WYPADKOW PRZYPADKI_COVID\n",
       "0    01.01.2019              218               0\n",
       "1    02.01.2019              525               0\n",
       "2    03.01.2019              504               0\n",
       "3    04.01.2019              541               0\n",
       "4    05.01.2019              367               0\n",
       "..          ...              ...             ...\n",
       "726  27.12.2020              169             NaN\n",
       "727  28.12.2020              382             NaN\n",
       "728  29.12.2020              519             NaN\n",
       "729  30.12.2020              598             NaN\n",
       "730  31.12.2020              346             NaN\n",
       "\n",
       "[731 rows x 3 columns]"
      ]
     },
     "execution_count": 30,
     "metadata": {},
     "output_type": "execute_result"
    }
   ],
   "source": [
    "warszawa_zakzenia_2020 = pd.read_csv(\"wypadki_zakazenia.csv\", sep=\";\") #WYPADKI NA TERENIE WARSZAWY - BAZA SEWiK 2020\n",
    "warszawa_zakzenia_2020"
   ]
  },
  {
   "cell_type": "code",
   "execution_count": 8,
   "metadata": {},
   "outputs": [
    {
     "data": {
      "text/html": [
       "<div>\n",
       "<style scoped>\n",
       "    .dataframe tbody tr th:only-of-type {\n",
       "        vertical-align: middle;\n",
       "    }\n",
       "\n",
       "    .dataframe tbody tr th {\n",
       "        vertical-align: top;\n",
       "    }\n",
       "\n",
       "    .dataframe thead th {\n",
       "        text-align: right;\n",
       "    }\n",
       "</style>\n",
       "<table border=\"1\" class=\"dataframe\">\n",
       "  <thead>\n",
       "    <tr style=\"text-align: right;\">\n",
       "      <th></th>\n",
       "      <th>GPS_X_GUS</th>\n",
       "      <th>GPS_Y_GUS</th>\n",
       "      <th>MIEJSCOWOSC</th>\n",
       "      <th>DATA_ZDARZ</th>\n",
       "      <th>SZRD_KOD</th>\n",
       "      <th>RODR_KOD</th>\n",
       "      <th>CHMZ_KOD</th>\n",
       "      <th>SSWA_KOD</th>\n",
       "      <th>RODZAJ_POJAZDU</th>\n",
       "      <th>SSRU_KOD</th>\n",
       "      <th>DATA_UR</th>\n",
       "      <th>SOBY_KOD</th>\n",
       "      <th>SUSU_KOD</th>\n",
       "      <th>LICZBA_LAT_KIEROWANIA</th>\n",
       "      <th>SPSZ_KOD</th>\n",
       "      <th>STUC_KOD</th>\n",
       "      <th>SUSW_KOD</th>\n",
       "      <th>OBCOKRAJOWIEC</th>\n",
       "      <th>POZIOM_ALKOHOLU</th>\n",
       "      <th>SPAK_KOD</th>\n",
       "      <th>INWALIDA</th>\n",
       "      <th>SPIP_KOD</th>\n",
       "    </tr>\n",
       "  </thead>\n",
       "  <tbody>\n",
       "    <tr>\n",
       "      <th>0</th>\n",
       "      <td>21.047914348395</td>\n",
       "      <td>52.2289789580976</td>\n",
       "      <td>WARSZAWA</td>\n",
       "      <td>2019-01-01</td>\n",
       "      <td>03</td>\n",
       "      <td>4.0</td>\n",
       "      <td>NaN</td>\n",
       "      <td>NaN</td>\n",
       "      <td>NaN</td>\n",
       "      <td>NaN</td>\n",
       "      <td>NaT</td>\n",
       "      <td>NaN</td>\n",
       "      <td>NaN</td>\n",
       "      <td>NaN</td>\n",
       "      <td>NaN</td>\n",
       "      <td>NaN</td>\n",
       "      <td>NaN</td>\n",
       "      <td>NaN</td>\n",
       "      <td>NaN</td>\n",
       "      <td>NaN</td>\n",
       "      <td>NaN</td>\n",
       "      <td>NaN</td>\n",
       "    </tr>\n",
       "    <tr>\n",
       "      <th>1</th>\n",
       "      <td>21.047914348395</td>\n",
       "      <td>52.2289789580976</td>\n",
       "      <td>WARSZAWA</td>\n",
       "      <td>2019-01-01</td>\n",
       "      <td>03</td>\n",
       "      <td>NaN</td>\n",
       "      <td>A1</td>\n",
       "      <td>NaN</td>\n",
       "      <td>NaN</td>\n",
       "      <td>NaN</td>\n",
       "      <td>NaT</td>\n",
       "      <td>NaN</td>\n",
       "      <td>NaN</td>\n",
       "      <td>NaN</td>\n",
       "      <td>NaN</td>\n",
       "      <td>NaN</td>\n",
       "      <td>NaN</td>\n",
       "      <td>NaN</td>\n",
       "      <td>NaN</td>\n",
       "      <td>NaN</td>\n",
       "      <td>NaN</td>\n",
       "      <td>NaN</td>\n",
       "    </tr>\n",
       "    <tr>\n",
       "      <th>2</th>\n",
       "      <td>21.047914348395</td>\n",
       "      <td>52.2289789580976</td>\n",
       "      <td>WARSZAWA</td>\n",
       "      <td>2019-01-01</td>\n",
       "      <td>03</td>\n",
       "      <td>NaN</td>\n",
       "      <td>NaN</td>\n",
       "      <td>5.0</td>\n",
       "      <td>NaN</td>\n",
       "      <td>NaN</td>\n",
       "      <td>NaT</td>\n",
       "      <td>NaN</td>\n",
       "      <td>NaN</td>\n",
       "      <td>NaN</td>\n",
       "      <td>NaN</td>\n",
       "      <td>NaN</td>\n",
       "      <td>NaN</td>\n",
       "      <td>NaN</td>\n",
       "      <td>NaN</td>\n",
       "      <td>NaN</td>\n",
       "      <td>NaN</td>\n",
       "      <td>NaN</td>\n",
       "    </tr>\n",
       "    <tr>\n",
       "      <th>3</th>\n",
       "      <td>21.047914348395</td>\n",
       "      <td>52.2289789580976</td>\n",
       "      <td>WARSZAWA</td>\n",
       "      <td>2019-01-01</td>\n",
       "      <td>03</td>\n",
       "      <td>NaN</td>\n",
       "      <td>NaN</td>\n",
       "      <td>NaN</td>\n",
       "      <td>IS121</td>\n",
       "      <td>NaN</td>\n",
       "      <td>NaT</td>\n",
       "      <td>NaN</td>\n",
       "      <td>NaN</td>\n",
       "      <td>NaN</td>\n",
       "      <td>NaN</td>\n",
       "      <td>NaN</td>\n",
       "      <td>NaN</td>\n",
       "      <td>NaN</td>\n",
       "      <td>NaN</td>\n",
       "      <td>NaN</td>\n",
       "      <td>NaN</td>\n",
       "      <td>NaN</td>\n",
       "    </tr>\n",
       "    <tr>\n",
       "      <th>4</th>\n",
       "      <td>21.047914348395</td>\n",
       "      <td>52.2289789580976</td>\n",
       "      <td>WARSZAWA</td>\n",
       "      <td>2019-01-01</td>\n",
       "      <td>03</td>\n",
       "      <td>NaN</td>\n",
       "      <td>NaN</td>\n",
       "      <td>NaN</td>\n",
       "      <td>IS121</td>\n",
       "      <td>NaN</td>\n",
       "      <td>NaT</td>\n",
       "      <td>NaN</td>\n",
       "      <td>NaN</td>\n",
       "      <td>NaN</td>\n",
       "      <td>NaN</td>\n",
       "      <td>NaN</td>\n",
       "      <td>NaN</td>\n",
       "      <td>NaN</td>\n",
       "      <td>NaN</td>\n",
       "      <td>NaN</td>\n",
       "      <td>NaN</td>\n",
       "      <td>NaN</td>\n",
       "    </tr>\n",
       "    <tr>\n",
       "      <th>...</th>\n",
       "      <td>...</td>\n",
       "      <td>...</td>\n",
       "      <td>...</td>\n",
       "      <td>...</td>\n",
       "      <td>...</td>\n",
       "      <td>...</td>\n",
       "      <td>...</td>\n",
       "      <td>...</td>\n",
       "      <td>...</td>\n",
       "      <td>...</td>\n",
       "      <td>...</td>\n",
       "      <td>...</td>\n",
       "      <td>...</td>\n",
       "      <td>...</td>\n",
       "      <td>...</td>\n",
       "      <td>...</td>\n",
       "      <td>...</td>\n",
       "      <td>...</td>\n",
       "      <td>...</td>\n",
       "      <td>...</td>\n",
       "      <td>...</td>\n",
       "      <td>...</td>\n",
       "    </tr>\n",
       "    <tr>\n",
       "      <th>394076</th>\n",
       "      <td>21.047914348395</td>\n",
       "      <td>52.2289789580976</td>\n",
       "      <td>WARSZAWA</td>\n",
       "      <td>2020-12-31</td>\n",
       "      <td>03</td>\n",
       "      <td>NaN</td>\n",
       "      <td>NaN</td>\n",
       "      <td>7.0</td>\n",
       "      <td>NaN</td>\n",
       "      <td>NaN</td>\n",
       "      <td>NaT</td>\n",
       "      <td>NaN</td>\n",
       "      <td>NaN</td>\n",
       "      <td>NaN</td>\n",
       "      <td>NaN</td>\n",
       "      <td>NaN</td>\n",
       "      <td>NaN</td>\n",
       "      <td>NaN</td>\n",
       "      <td>NaN</td>\n",
       "      <td>NaN</td>\n",
       "      <td>NaN</td>\n",
       "      <td>NaN</td>\n",
       "    </tr>\n",
       "    <tr>\n",
       "      <th>394077</th>\n",
       "      <td>21.047914348395</td>\n",
       "      <td>52.2289789580976</td>\n",
       "      <td>WARSZAWA</td>\n",
       "      <td>2020-12-31</td>\n",
       "      <td>03</td>\n",
       "      <td>NaN</td>\n",
       "      <td>NaN</td>\n",
       "      <td>NaN</td>\n",
       "      <td>IS121</td>\n",
       "      <td>NaN</td>\n",
       "      <td>NaT</td>\n",
       "      <td>NaN</td>\n",
       "      <td>NaN</td>\n",
       "      <td>NaN</td>\n",
       "      <td>NaN</td>\n",
       "      <td>NaN</td>\n",
       "      <td>NaN</td>\n",
       "      <td>NaN</td>\n",
       "      <td>NaN</td>\n",
       "      <td>NaN</td>\n",
       "      <td>NaN</td>\n",
       "      <td>NaN</td>\n",
       "    </tr>\n",
       "    <tr>\n",
       "      <th>394078</th>\n",
       "      <td>21.047914348395</td>\n",
       "      <td>52.2289789580976</td>\n",
       "      <td>WARSZAWA</td>\n",
       "      <td>2020-12-31</td>\n",
       "      <td>03</td>\n",
       "      <td>NaN</td>\n",
       "      <td>NaN</td>\n",
       "      <td>NaN</td>\n",
       "      <td>IS121</td>\n",
       "      <td>NaN</td>\n",
       "      <td>NaT</td>\n",
       "      <td>NaN</td>\n",
       "      <td>NaN</td>\n",
       "      <td>NaN</td>\n",
       "      <td>NaN</td>\n",
       "      <td>NaN</td>\n",
       "      <td>NaN</td>\n",
       "      <td>NaN</td>\n",
       "      <td>NaN</td>\n",
       "      <td>NaN</td>\n",
       "      <td>NaN</td>\n",
       "      <td>NaN</td>\n",
       "    </tr>\n",
       "    <tr>\n",
       "      <th>394079</th>\n",
       "      <td>21.047914348395</td>\n",
       "      <td>52.2289789580976</td>\n",
       "      <td>WARSZAWA</td>\n",
       "      <td>2020-12-31</td>\n",
       "      <td>03</td>\n",
       "      <td>NaN</td>\n",
       "      <td>NaN</td>\n",
       "      <td>NaN</td>\n",
       "      <td>NaN</td>\n",
       "      <td>K</td>\n",
       "      <td>1960-02-20</td>\n",
       "      <td>PL</td>\n",
       "      <td>P</td>\n",
       "      <td>32.0</td>\n",
       "      <td>13</td>\n",
       "      <td>NaN</td>\n",
       "      <td>NaN</td>\n",
       "      <td>N</td>\n",
       "      <td>NaN</td>\n",
       "      <td>NaN</td>\n",
       "      <td>NaN</td>\n",
       "      <td>NaN</td>\n",
       "    </tr>\n",
       "    <tr>\n",
       "      <th>394080</th>\n",
       "      <td>21.047914348395</td>\n",
       "      <td>52.2289789580976</td>\n",
       "      <td>WARSZAWA</td>\n",
       "      <td>2020-12-31</td>\n",
       "      <td>03</td>\n",
       "      <td>NaN</td>\n",
       "      <td>NaN</td>\n",
       "      <td>NaN</td>\n",
       "      <td>NaN</td>\n",
       "      <td>K</td>\n",
       "      <td>1961-04-17</td>\n",
       "      <td>PL</td>\n",
       "      <td>P</td>\n",
       "      <td>40.0</td>\n",
       "      <td>NaN</td>\n",
       "      <td>NaN</td>\n",
       "      <td>NaN</td>\n",
       "      <td>N</td>\n",
       "      <td>NaN</td>\n",
       "      <td>NaN</td>\n",
       "      <td>NaN</td>\n",
       "      <td>NaN</td>\n",
       "    </tr>\n",
       "  </tbody>\n",
       "</table>\n",
       "<p>394081 rows × 22 columns</p>\n",
       "</div>"
      ],
      "text/plain": [
       "              GPS_X_GUS         GPS_Y_GUS MIEJSCOWOSC DATA_ZDARZ SZRD_KOD  \\\n",
       "0       21.047914348395  52.2289789580976    WARSZAWA 2019-01-01       03   \n",
       "1       21.047914348395  52.2289789580976    WARSZAWA 2019-01-01       03   \n",
       "2       21.047914348395  52.2289789580976    WARSZAWA 2019-01-01       03   \n",
       "3       21.047914348395  52.2289789580976    WARSZAWA 2019-01-01       03   \n",
       "4       21.047914348395  52.2289789580976    WARSZAWA 2019-01-01       03   \n",
       "...                 ...               ...         ...        ...      ...   \n",
       "394076  21.047914348395  52.2289789580976    WARSZAWA 2020-12-31       03   \n",
       "394077  21.047914348395  52.2289789580976    WARSZAWA 2020-12-31       03   \n",
       "394078  21.047914348395  52.2289789580976    WARSZAWA 2020-12-31       03   \n",
       "394079  21.047914348395  52.2289789580976    WARSZAWA 2020-12-31       03   \n",
       "394080  21.047914348395  52.2289789580976    WARSZAWA 2020-12-31       03   \n",
       "\n",
       "        RODR_KOD CHMZ_KOD  SSWA_KOD RODZAJ_POJAZDU SSRU_KOD    DATA_UR  \\\n",
       "0            4.0      NaN       NaN            NaN      NaN        NaT   \n",
       "1            NaN       A1       NaN            NaN      NaN        NaT   \n",
       "2            NaN      NaN       5.0            NaN      NaN        NaT   \n",
       "3            NaN      NaN       NaN          IS121      NaN        NaT   \n",
       "4            NaN      NaN       NaN          IS121      NaN        NaT   \n",
       "...          ...      ...       ...            ...      ...        ...   \n",
       "394076       NaN      NaN       7.0            NaN      NaN        NaT   \n",
       "394077       NaN      NaN       NaN          IS121      NaN        NaT   \n",
       "394078       NaN      NaN       NaN          IS121      NaN        NaT   \n",
       "394079       NaN      NaN       NaN            NaN        K 1960-02-20   \n",
       "394080       NaN      NaN       NaN            NaN        K 1961-04-17   \n",
       "\n",
       "       SOBY_KOD SUSU_KOD  LICZBA_LAT_KIEROWANIA SPSZ_KOD STUC_KOD SUSW_KOD  \\\n",
       "0           NaN      NaN                    NaN      NaN      NaN      NaN   \n",
       "1           NaN      NaN                    NaN      NaN      NaN      NaN   \n",
       "2           NaN      NaN                    NaN      NaN      NaN      NaN   \n",
       "3           NaN      NaN                    NaN      NaN      NaN      NaN   \n",
       "4           NaN      NaN                    NaN      NaN      NaN      NaN   \n",
       "...         ...      ...                    ...      ...      ...      ...   \n",
       "394076      NaN      NaN                    NaN      NaN      NaN      NaN   \n",
       "394077      NaN      NaN                    NaN      NaN      NaN      NaN   \n",
       "394078      NaN      NaN                    NaN      NaN      NaN      NaN   \n",
       "394079       PL        P                   32.0       13      NaN      NaN   \n",
       "394080       PL        P                   40.0      NaN      NaN      NaN   \n",
       "\n",
       "       OBCOKRAJOWIEC  POZIOM_ALKOHOLU SPAK_KOD INWALIDA SPIP_KOD  \n",
       "0                NaN              NaN      NaN      NaN      NaN  \n",
       "1                NaN              NaN      NaN      NaN      NaN  \n",
       "2                NaN              NaN      NaN      NaN      NaN  \n",
       "3                NaN              NaN      NaN      NaN      NaN  \n",
       "4                NaN              NaN      NaN      NaN      NaN  \n",
       "...              ...              ...      ...      ...      ...  \n",
       "394076           NaN              NaN      NaN      NaN      NaN  \n",
       "394077           NaN              NaN      NaN      NaN      NaN  \n",
       "394078           NaN              NaN      NaN      NaN      NaN  \n",
       "394079             N              NaN      NaN      NaN      NaN  \n",
       "394080             N              NaN      NaN      NaN      NaN  \n",
       "\n",
       "[394081 rows x 22 columns]"
      ]
     },
     "execution_count": 8,
     "metadata": {},
     "output_type": "execute_result"
    }
   ],
   "source": [
    "pd.set_option('display.max_columns', None)\n",
    "warszawa_2019_2020"
   ]
  },
  {
   "cell_type": "code",
   "execution_count": 9,
   "metadata": {},
   "outputs": [],
   "source": [
    "warszawa_2019_2020['SZRD_KOD'] = warszawa_2019_2020['SZRD_KOD'].replace({'01':'zderzenie_pojazdow',\n",
    "    '02': 'zderzenie_pojazdow', '03': 'zderzenie_pojazdow', '04': 'zderzenie_pojazdow',\n",
    "    '04': 'najechanie_na_pieszego', '05': 'najechanie_na_pojazd_unieruchomiony',\n",
    "    '06': 'najechanie_na_drzewo_slup_inny_obiekt', 'A1':'najechanie_na_drzewo_slup_inny_obiekt',\n",
    "    'A2': 'najechanie_na_drzewo_slup_inny_obiekt', '07': 'najechanie_na_zapore_kolejowa',\n",
    "    '08': 'najechanie_na_dziure_wyboj', '09': 'najechanie_na_zwierze', 'A3':'najechanie_na_drzewo_slup_inny_obiekt',\n",
    "    '10': 'wywrocenie_sie_pojazdu', '11':'wypadek_z_pasazerem', '12': 'inne'})"
   ]
  },
  {
   "cell_type": "code",
   "execution_count": 10,
   "metadata": {},
   "outputs": [],
   "source": [
    "warszawa_2019_2020['RODR_KOD'] = warszawa_2019_2020['RODR_KOD'].replace({'01': 'autostrada',\n",
    "    '02': 'ekspresowa', '03':'dwie_jezdnie_jednokierunkowe', '04': 'jednokierunkowa', '05': 'jednojezdniowa_dwukierunkowa'})"
   ]
  },
  {
   "cell_type": "code",
   "execution_count": 11,
   "metadata": {},
   "outputs": [],
   "source": [
    "warszawa_2019_2020['CHMZ_KOD'] = warszawa_2019_2020['CHMZ_KOD'].replace({'A3_2015': 'droga', 'B1': 'droga_rowerowa', 'A6_2015': 'parking', 'A1': 'droga',\n",
    "    '12': 'droga', '11': 'pobocze', 'A2': 'pobocze', '10': 'chodnik', 'A3': 'droga_rowerowa', '01': 'przejscie_dla_pieszych', '02': 'przystanek', '03': 'przystanek',\n",
    "    '04': 'torowisko', '05': 'torowisko', 'A4': 'torowisko', '06': 'przejazd_kolejowy', '07': 'przejazd_kolejowy',\n",
    "    '08': 'most', '09': 'tunel', 'A5': 'most', '13': 'droga', 'A6': 'parking', '14': 'pobocze', '15': 'inne', 'A7': 'roboty_drogowe'})"
   ]
  },
  {
   "cell_type": "code",
   "execution_count": 12,
   "metadata": {},
   "outputs": [],
   "source": [
    "warszawa_2019_2020['SSWA_KOD'] = warszawa_2019_2020['SSWA_KOD'].replace({'01': 'dobre', '04': 'pochmurno', '02': 'oslepiajace_slonce',\n",
    "    '03': 'wiatr', '05': 'deszcz', '06': 'snieg', '07': 'mgla'})"
   ]
  },
  {
   "cell_type": "code",
   "execution_count": 13,
   "metadata": {},
   "outputs": [
    {
     "data": {
      "text/html": [
       "<div>\n",
       "<style scoped>\n",
       "    .dataframe tbody tr th:only-of-type {\n",
       "        vertical-align: middle;\n",
       "    }\n",
       "\n",
       "    .dataframe tbody tr th {\n",
       "        vertical-align: top;\n",
       "    }\n",
       "\n",
       "    .dataframe thead th {\n",
       "        text-align: right;\n",
       "    }\n",
       "</style>\n",
       "<table border=\"1\" class=\"dataframe\">\n",
       "  <thead>\n",
       "    <tr style=\"text-align: right;\">\n",
       "      <th></th>\n",
       "      <th>GPS_X_GUS</th>\n",
       "      <th>GPS_Y_GUS</th>\n",
       "      <th>MIEJSCOWOSC</th>\n",
       "      <th>DATA_ZDARZ</th>\n",
       "      <th>rodzaj_zdarzenia</th>\n",
       "      <th>rodzaj_drogi</th>\n",
       "      <th>charakterystyka_miejsca_zdarzenia</th>\n",
       "      <th>warunki_atmosferyczne</th>\n",
       "      <th>RODZAJ_POJAZDU</th>\n",
       "      <th>rodzaj_uczestnika</th>\n",
       "      <th>DATA_UR</th>\n",
       "      <th>obywatelstwo</th>\n",
       "      <th>uprawnienia_do_kierowania</th>\n",
       "      <th>LICZBA_LAT_KIEROWANIA</th>\n",
       "      <th>przyczyny_zachowanie</th>\n",
       "      <th>stan_uczestnika</th>\n",
       "      <th>wplyw_srodkow</th>\n",
       "      <th>OBCOKRAJOWIEC</th>\n",
       "      <th>POZIOM_ALKOHOLU</th>\n",
       "      <th>jednostka_alkoholowa</th>\n",
       "      <th>INWALIDA</th>\n",
       "      <th>przyczyny_pozostale</th>\n",
       "    </tr>\n",
       "  </thead>\n",
       "  <tbody>\n",
       "    <tr>\n",
       "      <th>0</th>\n",
       "      <td>21.047914348395</td>\n",
       "      <td>52.2289789580976</td>\n",
       "      <td>WARSZAWA</td>\n",
       "      <td>2019-01-01</td>\n",
       "      <td>zderzenie_pojazdow</td>\n",
       "      <td>4.0</td>\n",
       "      <td>NaN</td>\n",
       "      <td>NaN</td>\n",
       "      <td>NaN</td>\n",
       "      <td>NaN</td>\n",
       "      <td>NaT</td>\n",
       "      <td>NaN</td>\n",
       "      <td>NaN</td>\n",
       "      <td>NaN</td>\n",
       "      <td>NaN</td>\n",
       "      <td>NaN</td>\n",
       "      <td>NaN</td>\n",
       "      <td>NaN</td>\n",
       "      <td>NaN</td>\n",
       "      <td>NaN</td>\n",
       "      <td>NaN</td>\n",
       "      <td>NaN</td>\n",
       "    </tr>\n",
       "    <tr>\n",
       "      <th>1</th>\n",
       "      <td>21.047914348395</td>\n",
       "      <td>52.2289789580976</td>\n",
       "      <td>WARSZAWA</td>\n",
       "      <td>2019-01-01</td>\n",
       "      <td>zderzenie_pojazdow</td>\n",
       "      <td>NaN</td>\n",
       "      <td>droga</td>\n",
       "      <td>NaN</td>\n",
       "      <td>NaN</td>\n",
       "      <td>NaN</td>\n",
       "      <td>NaT</td>\n",
       "      <td>NaN</td>\n",
       "      <td>NaN</td>\n",
       "      <td>NaN</td>\n",
       "      <td>NaN</td>\n",
       "      <td>NaN</td>\n",
       "      <td>NaN</td>\n",
       "      <td>NaN</td>\n",
       "      <td>NaN</td>\n",
       "      <td>NaN</td>\n",
       "      <td>NaN</td>\n",
       "      <td>NaN</td>\n",
       "    </tr>\n",
       "    <tr>\n",
       "      <th>2</th>\n",
       "      <td>21.047914348395</td>\n",
       "      <td>52.2289789580976</td>\n",
       "      <td>WARSZAWA</td>\n",
       "      <td>2019-01-01</td>\n",
       "      <td>zderzenie_pojazdow</td>\n",
       "      <td>NaN</td>\n",
       "      <td>NaN</td>\n",
       "      <td>5.0</td>\n",
       "      <td>NaN</td>\n",
       "      <td>NaN</td>\n",
       "      <td>NaT</td>\n",
       "      <td>NaN</td>\n",
       "      <td>NaN</td>\n",
       "      <td>NaN</td>\n",
       "      <td>NaN</td>\n",
       "      <td>NaN</td>\n",
       "      <td>NaN</td>\n",
       "      <td>NaN</td>\n",
       "      <td>NaN</td>\n",
       "      <td>NaN</td>\n",
       "      <td>NaN</td>\n",
       "      <td>NaN</td>\n",
       "    </tr>\n",
       "    <tr>\n",
       "      <th>3</th>\n",
       "      <td>21.047914348395</td>\n",
       "      <td>52.2289789580976</td>\n",
       "      <td>WARSZAWA</td>\n",
       "      <td>2019-01-01</td>\n",
       "      <td>zderzenie_pojazdow</td>\n",
       "      <td>NaN</td>\n",
       "      <td>NaN</td>\n",
       "      <td>NaN</td>\n",
       "      <td>IS121</td>\n",
       "      <td>NaN</td>\n",
       "      <td>NaT</td>\n",
       "      <td>NaN</td>\n",
       "      <td>NaN</td>\n",
       "      <td>NaN</td>\n",
       "      <td>NaN</td>\n",
       "      <td>NaN</td>\n",
       "      <td>NaN</td>\n",
       "      <td>NaN</td>\n",
       "      <td>NaN</td>\n",
       "      <td>NaN</td>\n",
       "      <td>NaN</td>\n",
       "      <td>NaN</td>\n",
       "    </tr>\n",
       "    <tr>\n",
       "      <th>4</th>\n",
       "      <td>21.047914348395</td>\n",
       "      <td>52.2289789580976</td>\n",
       "      <td>WARSZAWA</td>\n",
       "      <td>2019-01-01</td>\n",
       "      <td>zderzenie_pojazdow</td>\n",
       "      <td>NaN</td>\n",
       "      <td>NaN</td>\n",
       "      <td>NaN</td>\n",
       "      <td>IS121</td>\n",
       "      <td>NaN</td>\n",
       "      <td>NaT</td>\n",
       "      <td>NaN</td>\n",
       "      <td>NaN</td>\n",
       "      <td>NaN</td>\n",
       "      <td>NaN</td>\n",
       "      <td>NaN</td>\n",
       "      <td>NaN</td>\n",
       "      <td>NaN</td>\n",
       "      <td>NaN</td>\n",
       "      <td>NaN</td>\n",
       "      <td>NaN</td>\n",
       "      <td>NaN</td>\n",
       "    </tr>\n",
       "    <tr>\n",
       "      <th>...</th>\n",
       "      <td>...</td>\n",
       "      <td>...</td>\n",
       "      <td>...</td>\n",
       "      <td>...</td>\n",
       "      <td>...</td>\n",
       "      <td>...</td>\n",
       "      <td>...</td>\n",
       "      <td>...</td>\n",
       "      <td>...</td>\n",
       "      <td>...</td>\n",
       "      <td>...</td>\n",
       "      <td>...</td>\n",
       "      <td>...</td>\n",
       "      <td>...</td>\n",
       "      <td>...</td>\n",
       "      <td>...</td>\n",
       "      <td>...</td>\n",
       "      <td>...</td>\n",
       "      <td>...</td>\n",
       "      <td>...</td>\n",
       "      <td>...</td>\n",
       "      <td>...</td>\n",
       "    </tr>\n",
       "    <tr>\n",
       "      <th>394076</th>\n",
       "      <td>21.047914348395</td>\n",
       "      <td>52.2289789580976</td>\n",
       "      <td>WARSZAWA</td>\n",
       "      <td>2020-12-31</td>\n",
       "      <td>zderzenie_pojazdow</td>\n",
       "      <td>NaN</td>\n",
       "      <td>NaN</td>\n",
       "      <td>7.0</td>\n",
       "      <td>NaN</td>\n",
       "      <td>NaN</td>\n",
       "      <td>NaT</td>\n",
       "      <td>NaN</td>\n",
       "      <td>NaN</td>\n",
       "      <td>NaN</td>\n",
       "      <td>NaN</td>\n",
       "      <td>NaN</td>\n",
       "      <td>NaN</td>\n",
       "      <td>NaN</td>\n",
       "      <td>NaN</td>\n",
       "      <td>NaN</td>\n",
       "      <td>NaN</td>\n",
       "      <td>NaN</td>\n",
       "    </tr>\n",
       "    <tr>\n",
       "      <th>394077</th>\n",
       "      <td>21.047914348395</td>\n",
       "      <td>52.2289789580976</td>\n",
       "      <td>WARSZAWA</td>\n",
       "      <td>2020-12-31</td>\n",
       "      <td>zderzenie_pojazdow</td>\n",
       "      <td>NaN</td>\n",
       "      <td>NaN</td>\n",
       "      <td>NaN</td>\n",
       "      <td>IS121</td>\n",
       "      <td>NaN</td>\n",
       "      <td>NaT</td>\n",
       "      <td>NaN</td>\n",
       "      <td>NaN</td>\n",
       "      <td>NaN</td>\n",
       "      <td>NaN</td>\n",
       "      <td>NaN</td>\n",
       "      <td>NaN</td>\n",
       "      <td>NaN</td>\n",
       "      <td>NaN</td>\n",
       "      <td>NaN</td>\n",
       "      <td>NaN</td>\n",
       "      <td>NaN</td>\n",
       "    </tr>\n",
       "    <tr>\n",
       "      <th>394078</th>\n",
       "      <td>21.047914348395</td>\n",
       "      <td>52.2289789580976</td>\n",
       "      <td>WARSZAWA</td>\n",
       "      <td>2020-12-31</td>\n",
       "      <td>zderzenie_pojazdow</td>\n",
       "      <td>NaN</td>\n",
       "      <td>NaN</td>\n",
       "      <td>NaN</td>\n",
       "      <td>IS121</td>\n",
       "      <td>NaN</td>\n",
       "      <td>NaT</td>\n",
       "      <td>NaN</td>\n",
       "      <td>NaN</td>\n",
       "      <td>NaN</td>\n",
       "      <td>NaN</td>\n",
       "      <td>NaN</td>\n",
       "      <td>NaN</td>\n",
       "      <td>NaN</td>\n",
       "      <td>NaN</td>\n",
       "      <td>NaN</td>\n",
       "      <td>NaN</td>\n",
       "      <td>NaN</td>\n",
       "    </tr>\n",
       "    <tr>\n",
       "      <th>394079</th>\n",
       "      <td>21.047914348395</td>\n",
       "      <td>52.2289789580976</td>\n",
       "      <td>WARSZAWA</td>\n",
       "      <td>2020-12-31</td>\n",
       "      <td>zderzenie_pojazdow</td>\n",
       "      <td>NaN</td>\n",
       "      <td>NaN</td>\n",
       "      <td>NaN</td>\n",
       "      <td>NaN</td>\n",
       "      <td>K</td>\n",
       "      <td>1960-02-20</td>\n",
       "      <td>PL</td>\n",
       "      <td>P</td>\n",
       "      <td>32.0</td>\n",
       "      <td>13</td>\n",
       "      <td>NaN</td>\n",
       "      <td>NaN</td>\n",
       "      <td>N</td>\n",
       "      <td>NaN</td>\n",
       "      <td>NaN</td>\n",
       "      <td>NaN</td>\n",
       "      <td>NaN</td>\n",
       "    </tr>\n",
       "    <tr>\n",
       "      <th>394080</th>\n",
       "      <td>21.047914348395</td>\n",
       "      <td>52.2289789580976</td>\n",
       "      <td>WARSZAWA</td>\n",
       "      <td>2020-12-31</td>\n",
       "      <td>zderzenie_pojazdow</td>\n",
       "      <td>NaN</td>\n",
       "      <td>NaN</td>\n",
       "      <td>NaN</td>\n",
       "      <td>NaN</td>\n",
       "      <td>K</td>\n",
       "      <td>1961-04-17</td>\n",
       "      <td>PL</td>\n",
       "      <td>P</td>\n",
       "      <td>40.0</td>\n",
       "      <td>NaN</td>\n",
       "      <td>NaN</td>\n",
       "      <td>NaN</td>\n",
       "      <td>N</td>\n",
       "      <td>NaN</td>\n",
       "      <td>NaN</td>\n",
       "      <td>NaN</td>\n",
       "      <td>NaN</td>\n",
       "    </tr>\n",
       "  </tbody>\n",
       "</table>\n",
       "<p>394081 rows × 22 columns</p>\n",
       "</div>"
      ],
      "text/plain": [
       "              GPS_X_GUS         GPS_Y_GUS MIEJSCOWOSC DATA_ZDARZ  \\\n",
       "0       21.047914348395  52.2289789580976    WARSZAWA 2019-01-01   \n",
       "1       21.047914348395  52.2289789580976    WARSZAWA 2019-01-01   \n",
       "2       21.047914348395  52.2289789580976    WARSZAWA 2019-01-01   \n",
       "3       21.047914348395  52.2289789580976    WARSZAWA 2019-01-01   \n",
       "4       21.047914348395  52.2289789580976    WARSZAWA 2019-01-01   \n",
       "...                 ...               ...         ...        ...   \n",
       "394076  21.047914348395  52.2289789580976    WARSZAWA 2020-12-31   \n",
       "394077  21.047914348395  52.2289789580976    WARSZAWA 2020-12-31   \n",
       "394078  21.047914348395  52.2289789580976    WARSZAWA 2020-12-31   \n",
       "394079  21.047914348395  52.2289789580976    WARSZAWA 2020-12-31   \n",
       "394080  21.047914348395  52.2289789580976    WARSZAWA 2020-12-31   \n",
       "\n",
       "          rodzaj_zdarzenia  rodzaj_drogi charakterystyka_miejsca_zdarzenia  \\\n",
       "0       zderzenie_pojazdow           4.0                               NaN   \n",
       "1       zderzenie_pojazdow           NaN                             droga   \n",
       "2       zderzenie_pojazdow           NaN                               NaN   \n",
       "3       zderzenie_pojazdow           NaN                               NaN   \n",
       "4       zderzenie_pojazdow           NaN                               NaN   \n",
       "...                    ...           ...                               ...   \n",
       "394076  zderzenie_pojazdow           NaN                               NaN   \n",
       "394077  zderzenie_pojazdow           NaN                               NaN   \n",
       "394078  zderzenie_pojazdow           NaN                               NaN   \n",
       "394079  zderzenie_pojazdow           NaN                               NaN   \n",
       "394080  zderzenie_pojazdow           NaN                               NaN   \n",
       "\n",
       "        warunki_atmosferyczne RODZAJ_POJAZDU rodzaj_uczestnika    DATA_UR  \\\n",
       "0                         NaN            NaN               NaN        NaT   \n",
       "1                         NaN            NaN               NaN        NaT   \n",
       "2                         5.0            NaN               NaN        NaT   \n",
       "3                         NaN          IS121               NaN        NaT   \n",
       "4                         NaN          IS121               NaN        NaT   \n",
       "...                       ...            ...               ...        ...   \n",
       "394076                    7.0            NaN               NaN        NaT   \n",
       "394077                    NaN          IS121               NaN        NaT   \n",
       "394078                    NaN          IS121               NaN        NaT   \n",
       "394079                    NaN            NaN                 K 1960-02-20   \n",
       "394080                    NaN            NaN                 K 1961-04-17   \n",
       "\n",
       "       obywatelstwo uprawnienia_do_kierowania  LICZBA_LAT_KIEROWANIA  \\\n",
       "0               NaN                       NaN                    NaN   \n",
       "1               NaN                       NaN                    NaN   \n",
       "2               NaN                       NaN                    NaN   \n",
       "3               NaN                       NaN                    NaN   \n",
       "4               NaN                       NaN                    NaN   \n",
       "...             ...                       ...                    ...   \n",
       "394076          NaN                       NaN                    NaN   \n",
       "394077          NaN                       NaN                    NaN   \n",
       "394078          NaN                       NaN                    NaN   \n",
       "394079           PL                         P                   32.0   \n",
       "394080           PL                         P                   40.0   \n",
       "\n",
       "       przyczyny_zachowanie stan_uczestnika wplyw_srodkow OBCOKRAJOWIEC  \\\n",
       "0                       NaN             NaN           NaN           NaN   \n",
       "1                       NaN             NaN           NaN           NaN   \n",
       "2                       NaN             NaN           NaN           NaN   \n",
       "3                       NaN             NaN           NaN           NaN   \n",
       "4                       NaN             NaN           NaN           NaN   \n",
       "...                     ...             ...           ...           ...   \n",
       "394076                  NaN             NaN           NaN           NaN   \n",
       "394077                  NaN             NaN           NaN           NaN   \n",
       "394078                  NaN             NaN           NaN           NaN   \n",
       "394079                   13             NaN           NaN             N   \n",
       "394080                  NaN             NaN           NaN             N   \n",
       "\n",
       "        POZIOM_ALKOHOLU jednostka_alkoholowa INWALIDA przyczyny_pozostale  \n",
       "0                   NaN                  NaN      NaN                 NaN  \n",
       "1                   NaN                  NaN      NaN                 NaN  \n",
       "2                   NaN                  NaN      NaN                 NaN  \n",
       "3                   NaN                  NaN      NaN                 NaN  \n",
       "4                   NaN                  NaN      NaN                 NaN  \n",
       "...                 ...                  ...      ...                 ...  \n",
       "394076              NaN                  NaN      NaN                 NaN  \n",
       "394077              NaN                  NaN      NaN                 NaN  \n",
       "394078              NaN                  NaN      NaN                 NaN  \n",
       "394079              NaN                  NaN      NaN                 NaN  \n",
       "394080              NaN                  NaN      NaN                 NaN  \n",
       "\n",
       "[394081 rows x 22 columns]"
      ]
     },
     "execution_count": 13,
     "metadata": {},
     "output_type": "execute_result"
    }
   ],
   "source": [
    "warszawa_2019_2020 = warszawa_2019_2020.rename(columns={'SZRD_KOD': 'rodzaj_zdarzenia', 'RODR_KOD': 'rodzaj_drogi','SPIP_KOD': 'przyczyny_pozostale',\n",
    "    'CHMZ_KOD': 'charakterystyka_miejsca_zdarzenia', 'SPAK_KOD': 'jednostka_alkoholowa', 'SSWA_KOD': 'warunki_atmosferyczne',\n",
    "    'STUC_KOD': 'stan_uczestnika', 'SUSW_KOD': 'wplyw_srodkow', 'SPSZ_KOD': 'przyczyny_zachowanie', 'SUSU_KOD':'uprawnienia_do_kierowania',\n",
    "    'SSRU_KOD': 'rodzaj_uczestnika', 'SOBY_KOD': 'obywatelstwo'})\n",
    "warszawa_2019_2020\n",
    " "
   ]
  },
  {
   "cell_type": "code",
   "execution_count": 14,
   "metadata": {},
   "outputs": [
    {
     "data": {
      "application/vnd.plotly.v1+json": {
       "config": {
        "plotlyServerURL": "https://plot.ly"
       },
       "data": [
        {
         "hovertemplate": "DATA_ZDARZ=%{x}<br>MIEJSCOWOSC=%{y}<extra></extra>",
         "legendgroup": "",
         "line": {
          "color": "#636efa",
          "dash": "solid"
         },
         "marker": {
          "symbol": "circle"
         },
         "mode": "lines",
         "name": "",
         "orientation": "v",
         "showlegend": false,
         "type": "scatter",
         "x": [
          "2019-01-01T00:00:00",
          "2019-01-02T00:00:00",
          "2019-01-03T00:00:00",
          "2019-01-04T00:00:00",
          "2019-01-05T00:00:00",
          "2019-01-06T00:00:00",
          "2019-01-07T00:00:00",
          "2019-01-08T00:00:00",
          "2019-01-09T00:00:00",
          "2019-01-10T00:00:00",
          "2019-01-11T00:00:00",
          "2019-01-12T00:00:00",
          "2019-01-13T00:00:00",
          "2019-01-14T00:00:00",
          "2019-01-15T00:00:00",
          "2019-01-16T00:00:00",
          "2019-01-17T00:00:00",
          "2019-01-18T00:00:00",
          "2019-01-19T00:00:00",
          "2019-01-20T00:00:00",
          "2019-01-21T00:00:00",
          "2019-01-22T00:00:00",
          "2019-01-23T00:00:00",
          "2019-01-24T00:00:00",
          "2019-01-25T00:00:00",
          "2019-01-26T00:00:00",
          "2019-01-27T00:00:00",
          "2019-01-28T00:00:00",
          "2019-01-29T00:00:00",
          "2019-01-30T00:00:00",
          "2019-01-31T00:00:00",
          "2019-02-01T00:00:00",
          "2019-02-02T00:00:00",
          "2019-02-03T00:00:00",
          "2019-02-04T00:00:00",
          "2019-02-05T00:00:00",
          "2019-02-06T00:00:00",
          "2019-02-07T00:00:00",
          "2019-02-08T00:00:00",
          "2019-02-09T00:00:00",
          "2019-02-10T00:00:00",
          "2019-02-11T00:00:00",
          "2019-02-12T00:00:00",
          "2019-02-13T00:00:00",
          "2019-02-14T00:00:00",
          "2019-02-15T00:00:00",
          "2019-02-16T00:00:00",
          "2019-02-17T00:00:00",
          "2019-02-18T00:00:00",
          "2019-02-19T00:00:00",
          "2019-02-20T00:00:00",
          "2019-02-21T00:00:00",
          "2019-02-22T00:00:00",
          "2019-02-23T00:00:00",
          "2019-02-24T00:00:00",
          "2019-02-25T00:00:00",
          "2019-02-26T00:00:00",
          "2019-02-27T00:00:00",
          "2019-02-28T00:00:00",
          "2019-03-01T00:00:00",
          "2019-03-02T00:00:00",
          "2019-03-03T00:00:00",
          "2019-03-04T00:00:00",
          "2019-03-05T00:00:00",
          "2019-03-06T00:00:00",
          "2019-03-07T00:00:00",
          "2019-03-08T00:00:00",
          "2019-03-09T00:00:00",
          "2019-03-10T00:00:00",
          "2019-03-11T00:00:00",
          "2019-03-12T00:00:00",
          "2019-03-13T00:00:00",
          "2019-03-14T00:00:00",
          "2019-03-15T00:00:00",
          "2019-03-16T00:00:00",
          "2019-03-17T00:00:00",
          "2019-03-18T00:00:00",
          "2019-03-19T00:00:00",
          "2019-03-20T00:00:00",
          "2019-03-21T00:00:00",
          "2019-03-22T00:00:00",
          "2019-03-23T00:00:00",
          "2019-03-24T00:00:00",
          "2019-03-25T00:00:00",
          "2019-03-26T00:00:00",
          "2019-03-27T00:00:00",
          "2019-03-28T00:00:00",
          "2019-03-29T00:00:00",
          "2019-03-30T00:00:00",
          "2019-03-31T00:00:00",
          "2019-04-01T00:00:00",
          "2019-04-02T00:00:00",
          "2019-04-03T00:00:00",
          "2019-04-04T00:00:00",
          "2019-04-05T00:00:00",
          "2019-04-06T00:00:00",
          "2019-04-07T00:00:00",
          "2019-04-08T00:00:00",
          "2019-04-09T00:00:00",
          "2019-04-10T00:00:00",
          "2019-04-11T00:00:00",
          "2019-04-12T00:00:00",
          "2019-04-13T00:00:00",
          "2019-04-14T00:00:00",
          "2019-04-15T00:00:00",
          "2019-04-16T00:00:00",
          "2019-04-17T00:00:00",
          "2019-04-18T00:00:00",
          "2019-04-19T00:00:00",
          "2019-04-20T00:00:00",
          "2019-04-21T00:00:00",
          "2019-04-22T00:00:00",
          "2019-04-23T00:00:00",
          "2019-04-24T00:00:00",
          "2019-04-25T00:00:00",
          "2019-04-26T00:00:00",
          "2019-04-27T00:00:00",
          "2019-04-28T00:00:00",
          "2019-04-29T00:00:00",
          "2019-04-30T00:00:00",
          "2019-05-01T00:00:00",
          "2019-05-02T00:00:00",
          "2019-05-03T00:00:00",
          "2019-05-04T00:00:00",
          "2019-05-05T00:00:00",
          "2019-05-06T00:00:00",
          "2019-05-07T00:00:00",
          "2019-05-08T00:00:00",
          "2019-05-09T00:00:00",
          "2019-05-10T00:00:00",
          "2019-05-11T00:00:00",
          "2019-05-12T00:00:00",
          "2019-05-13T00:00:00",
          "2019-05-14T00:00:00",
          "2019-05-15T00:00:00",
          "2019-05-16T00:00:00",
          "2019-05-17T00:00:00",
          "2019-05-18T00:00:00",
          "2019-05-19T00:00:00",
          "2019-05-20T00:00:00",
          "2019-05-21T00:00:00",
          "2019-05-22T00:00:00",
          "2019-05-23T00:00:00",
          "2019-05-24T00:00:00",
          "2019-05-25T00:00:00",
          "2019-05-26T00:00:00",
          "2019-05-27T00:00:00",
          "2019-05-28T00:00:00",
          "2019-05-29T00:00:00",
          "2019-05-30T00:00:00",
          "2019-05-31T00:00:00",
          "2019-06-01T00:00:00",
          "2019-06-02T00:00:00",
          "2019-06-03T00:00:00",
          "2019-06-04T00:00:00",
          "2019-06-05T00:00:00",
          "2019-06-06T00:00:00",
          "2019-06-07T00:00:00",
          "2019-06-08T00:00:00",
          "2019-06-09T00:00:00",
          "2019-06-10T00:00:00",
          "2019-06-11T00:00:00",
          "2019-06-12T00:00:00",
          "2019-06-13T00:00:00",
          "2019-06-14T00:00:00",
          "2019-06-15T00:00:00",
          "2019-06-16T00:00:00",
          "2019-06-17T00:00:00",
          "2019-06-18T00:00:00",
          "2019-06-19T00:00:00",
          "2019-06-20T00:00:00",
          "2019-06-21T00:00:00",
          "2019-06-22T00:00:00",
          "2019-06-23T00:00:00",
          "2019-06-24T00:00:00",
          "2019-06-25T00:00:00",
          "2019-06-26T00:00:00",
          "2019-06-27T00:00:00",
          "2019-06-28T00:00:00",
          "2019-06-29T00:00:00",
          "2019-06-30T00:00:00",
          "2019-07-01T00:00:00",
          "2019-07-02T00:00:00",
          "2019-07-03T00:00:00",
          "2019-07-04T00:00:00",
          "2019-07-05T00:00:00",
          "2019-07-06T00:00:00",
          "2019-07-07T00:00:00",
          "2019-07-08T00:00:00",
          "2019-07-09T00:00:00",
          "2019-07-10T00:00:00",
          "2019-07-11T00:00:00",
          "2019-07-12T00:00:00",
          "2019-07-13T00:00:00",
          "2019-07-14T00:00:00",
          "2019-07-15T00:00:00",
          "2019-07-16T00:00:00",
          "2019-07-17T00:00:00",
          "2019-07-18T00:00:00",
          "2019-07-19T00:00:00",
          "2019-07-20T00:00:00",
          "2019-07-21T00:00:00",
          "2019-07-22T00:00:00",
          "2019-07-23T00:00:00",
          "2019-07-24T00:00:00",
          "2019-07-25T00:00:00",
          "2019-07-26T00:00:00",
          "2019-07-27T00:00:00",
          "2019-07-28T00:00:00",
          "2019-07-29T00:00:00",
          "2019-07-30T00:00:00",
          "2019-07-31T00:00:00",
          "2019-08-01T00:00:00",
          "2019-08-02T00:00:00",
          "2019-08-03T00:00:00",
          "2019-08-04T00:00:00",
          "2019-08-05T00:00:00",
          "2019-08-06T00:00:00",
          "2019-08-07T00:00:00",
          "2019-08-08T00:00:00",
          "2019-08-09T00:00:00",
          "2019-08-10T00:00:00",
          "2019-08-11T00:00:00",
          "2019-08-12T00:00:00",
          "2019-08-13T00:00:00",
          "2019-08-14T00:00:00",
          "2019-08-15T00:00:00",
          "2019-08-16T00:00:00",
          "2019-08-17T00:00:00",
          "2019-08-18T00:00:00",
          "2019-08-19T00:00:00",
          "2019-08-20T00:00:00",
          "2019-08-21T00:00:00",
          "2019-08-22T00:00:00",
          "2019-08-23T00:00:00",
          "2019-08-24T00:00:00",
          "2019-08-25T00:00:00",
          "2019-08-26T00:00:00",
          "2019-08-27T00:00:00",
          "2019-08-28T00:00:00",
          "2019-08-29T00:00:00",
          "2019-08-30T00:00:00",
          "2019-08-31T00:00:00",
          "2019-09-01T00:00:00",
          "2019-09-02T00:00:00",
          "2019-09-03T00:00:00",
          "2019-09-04T00:00:00",
          "2019-09-05T00:00:00",
          "2019-09-06T00:00:00",
          "2019-09-07T00:00:00",
          "2019-09-08T00:00:00",
          "2019-09-09T00:00:00",
          "2019-09-10T00:00:00",
          "2019-09-11T00:00:00",
          "2019-09-12T00:00:00",
          "2019-09-13T00:00:00",
          "2019-09-14T00:00:00",
          "2019-09-15T00:00:00",
          "2019-09-16T00:00:00",
          "2019-09-17T00:00:00",
          "2019-09-18T00:00:00",
          "2019-09-19T00:00:00",
          "2019-09-20T00:00:00",
          "2019-09-21T00:00:00",
          "2019-09-22T00:00:00",
          "2019-09-23T00:00:00",
          "2019-09-24T00:00:00",
          "2019-09-25T00:00:00",
          "2019-09-26T00:00:00",
          "2019-09-27T00:00:00",
          "2019-09-28T00:00:00",
          "2019-09-29T00:00:00",
          "2019-09-30T00:00:00",
          "2019-10-01T00:00:00",
          "2019-10-02T00:00:00",
          "2019-10-03T00:00:00",
          "2019-10-04T00:00:00",
          "2019-10-05T00:00:00",
          "2019-10-06T00:00:00",
          "2019-10-07T00:00:00",
          "2019-10-08T00:00:00",
          "2019-10-09T00:00:00",
          "2019-10-10T00:00:00",
          "2019-10-11T00:00:00",
          "2019-10-12T00:00:00",
          "2019-10-13T00:00:00",
          "2019-10-14T00:00:00",
          "2019-10-15T00:00:00",
          "2019-10-16T00:00:00",
          "2019-10-17T00:00:00",
          "2019-10-18T00:00:00",
          "2019-10-19T00:00:00",
          "2019-10-20T00:00:00",
          "2019-10-21T00:00:00",
          "2019-10-22T00:00:00",
          "2019-10-23T00:00:00",
          "2019-10-24T00:00:00",
          "2019-10-25T00:00:00",
          "2019-10-26T00:00:00",
          "2019-10-27T00:00:00",
          "2019-10-28T00:00:00",
          "2019-10-29T00:00:00",
          "2019-10-30T00:00:00",
          "2019-10-31T00:00:00",
          "2019-11-01T00:00:00",
          "2019-11-02T00:00:00",
          "2019-11-03T00:00:00",
          "2019-11-04T00:00:00",
          "2019-11-05T00:00:00",
          "2019-11-06T00:00:00",
          "2019-11-07T00:00:00",
          "2019-11-08T00:00:00",
          "2019-11-09T00:00:00",
          "2019-11-10T00:00:00",
          "2019-11-11T00:00:00",
          "2019-11-12T00:00:00",
          "2019-11-13T00:00:00",
          "2019-11-14T00:00:00",
          "2019-11-15T00:00:00",
          "2019-11-16T00:00:00",
          "2019-11-17T00:00:00",
          "2019-11-18T00:00:00",
          "2019-11-19T00:00:00",
          "2019-11-20T00:00:00",
          "2019-11-21T00:00:00",
          "2019-11-22T00:00:00",
          "2019-11-23T00:00:00",
          "2019-11-24T00:00:00",
          "2019-11-25T00:00:00",
          "2019-11-26T00:00:00",
          "2019-11-27T00:00:00",
          "2019-11-28T00:00:00",
          "2019-11-29T00:00:00",
          "2019-11-30T00:00:00",
          "2019-12-01T00:00:00",
          "2019-12-02T00:00:00",
          "2019-12-03T00:00:00",
          "2019-12-04T00:00:00",
          "2019-12-05T00:00:00",
          "2019-12-06T00:00:00",
          "2019-12-07T00:00:00",
          "2019-12-08T00:00:00",
          "2019-12-09T00:00:00",
          "2019-12-10T00:00:00",
          "2019-12-11T00:00:00",
          "2019-12-12T00:00:00",
          "2019-12-13T00:00:00",
          "2019-12-14T00:00:00",
          "2019-12-15T00:00:00",
          "2019-12-16T00:00:00",
          "2019-12-17T00:00:00",
          "2019-12-18T00:00:00",
          "2019-12-19T00:00:00",
          "2019-12-20T00:00:00",
          "2019-12-21T00:00:00",
          "2019-12-22T00:00:00",
          "2019-12-23T00:00:00",
          "2019-12-24T00:00:00",
          "2019-12-25T00:00:00",
          "2019-12-26T00:00:00",
          "2019-12-27T00:00:00",
          "2019-12-28T00:00:00",
          "2019-12-29T00:00:00",
          "2019-12-30T00:00:00",
          "2019-12-31T00:00:00",
          "2020-01-01T00:00:00",
          "2020-01-02T00:00:00",
          "2020-01-03T00:00:00",
          "2020-01-04T00:00:00",
          "2020-01-05T00:00:00",
          "2020-01-06T00:00:00",
          "2020-01-07T00:00:00",
          "2020-01-08T00:00:00",
          "2020-01-09T00:00:00",
          "2020-01-10T00:00:00",
          "2020-01-11T00:00:00",
          "2020-01-12T00:00:00",
          "2020-01-13T00:00:00",
          "2020-01-14T00:00:00",
          "2020-01-15T00:00:00",
          "2020-01-16T00:00:00",
          "2020-01-17T00:00:00",
          "2020-01-18T00:00:00",
          "2020-01-19T00:00:00",
          "2020-01-20T00:00:00",
          "2020-01-21T00:00:00",
          "2020-01-22T00:00:00",
          "2020-01-23T00:00:00",
          "2020-01-24T00:00:00",
          "2020-01-25T00:00:00",
          "2020-01-26T00:00:00",
          "2020-01-27T00:00:00",
          "2020-01-28T00:00:00",
          "2020-01-29T00:00:00",
          "2020-01-30T00:00:00",
          "2020-01-31T00:00:00",
          "2020-02-01T00:00:00",
          "2020-02-02T00:00:00",
          "2020-02-03T00:00:00",
          "2020-02-04T00:00:00",
          "2020-02-05T00:00:00",
          "2020-02-06T00:00:00",
          "2020-02-07T00:00:00",
          "2020-02-08T00:00:00",
          "2020-02-09T00:00:00",
          "2020-02-10T00:00:00",
          "2020-02-11T00:00:00",
          "2020-02-12T00:00:00",
          "2020-02-13T00:00:00",
          "2020-02-14T00:00:00",
          "2020-02-15T00:00:00",
          "2020-02-16T00:00:00",
          "2020-02-17T00:00:00",
          "2020-02-18T00:00:00",
          "2020-02-19T00:00:00",
          "2020-02-20T00:00:00",
          "2020-02-21T00:00:00",
          "2020-02-22T00:00:00",
          "2020-02-23T00:00:00",
          "2020-02-24T00:00:00",
          "2020-02-25T00:00:00",
          "2020-02-26T00:00:00",
          "2020-02-27T00:00:00",
          "2020-02-28T00:00:00",
          "2020-02-29T00:00:00",
          "2020-03-01T00:00:00",
          "2020-03-02T00:00:00",
          "2020-03-03T00:00:00",
          "2020-03-04T00:00:00",
          "2020-03-05T00:00:00",
          "2020-03-06T00:00:00",
          "2020-03-07T00:00:00",
          "2020-03-08T00:00:00",
          "2020-03-09T00:00:00",
          "2020-03-10T00:00:00",
          "2020-03-11T00:00:00",
          "2020-03-12T00:00:00",
          "2020-03-13T00:00:00",
          "2020-03-14T00:00:00",
          "2020-03-15T00:00:00",
          "2020-03-16T00:00:00",
          "2020-03-17T00:00:00",
          "2020-03-18T00:00:00",
          "2020-03-19T00:00:00",
          "2020-03-20T00:00:00",
          "2020-03-21T00:00:00",
          "2020-03-22T00:00:00",
          "2020-03-23T00:00:00",
          "2020-03-24T00:00:00",
          "2020-03-25T00:00:00",
          "2020-03-26T00:00:00",
          "2020-03-27T00:00:00",
          "2020-03-28T00:00:00",
          "2020-03-29T00:00:00",
          "2020-03-30T00:00:00",
          "2020-03-31T00:00:00",
          "2020-04-01T00:00:00",
          "2020-04-02T00:00:00",
          "2020-04-03T00:00:00",
          "2020-04-04T00:00:00",
          "2020-04-05T00:00:00",
          "2020-04-06T00:00:00",
          "2020-04-07T00:00:00",
          "2020-04-08T00:00:00",
          "2020-04-09T00:00:00",
          "2020-04-10T00:00:00",
          "2020-04-11T00:00:00",
          "2020-04-12T00:00:00",
          "2020-04-13T00:00:00",
          "2020-04-14T00:00:00",
          "2020-04-15T00:00:00",
          "2020-04-16T00:00:00",
          "2020-04-17T00:00:00",
          "2020-04-18T00:00:00",
          "2020-04-19T00:00:00",
          "2020-04-20T00:00:00",
          "2020-04-21T00:00:00",
          "2020-04-22T00:00:00",
          "2020-04-23T00:00:00",
          "2020-04-24T00:00:00",
          "2020-04-25T00:00:00",
          "2020-04-26T00:00:00",
          "2020-04-27T00:00:00",
          "2020-04-28T00:00:00",
          "2020-04-29T00:00:00",
          "2020-04-30T00:00:00",
          "2020-05-01T00:00:00",
          "2020-05-02T00:00:00",
          "2020-05-03T00:00:00",
          "2020-05-04T00:00:00",
          "2020-05-05T00:00:00",
          "2020-05-06T00:00:00",
          "2020-05-07T00:00:00",
          "2020-05-08T00:00:00",
          "2020-05-09T00:00:00",
          "2020-05-10T00:00:00",
          "2020-05-11T00:00:00",
          "2020-05-12T00:00:00",
          "2020-05-13T00:00:00",
          "2020-05-14T00:00:00",
          "2020-05-15T00:00:00",
          "2020-05-16T00:00:00",
          "2020-05-17T00:00:00",
          "2020-05-18T00:00:00",
          "2020-05-19T00:00:00",
          "2020-05-20T00:00:00",
          "2020-05-21T00:00:00",
          "2020-05-22T00:00:00",
          "2020-05-23T00:00:00",
          "2020-05-24T00:00:00",
          "2020-05-25T00:00:00",
          "2020-05-26T00:00:00",
          "2020-05-27T00:00:00",
          "2020-05-28T00:00:00",
          "2020-05-29T00:00:00",
          "2020-05-30T00:00:00",
          "2020-05-31T00:00:00",
          "2020-06-01T00:00:00",
          "2020-06-02T00:00:00",
          "2020-06-03T00:00:00",
          "2020-06-04T00:00:00",
          "2020-06-05T00:00:00",
          "2020-06-06T00:00:00",
          "2020-06-07T00:00:00",
          "2020-06-08T00:00:00",
          "2020-06-09T00:00:00",
          "2020-06-10T00:00:00",
          "2020-06-11T00:00:00",
          "2020-06-12T00:00:00",
          "2020-06-13T00:00:00",
          "2020-06-14T00:00:00",
          "2020-06-15T00:00:00",
          "2020-06-16T00:00:00",
          "2020-06-17T00:00:00",
          "2020-06-18T00:00:00",
          "2020-06-19T00:00:00",
          "2020-06-20T00:00:00",
          "2020-06-21T00:00:00",
          "2020-06-22T00:00:00",
          "2020-06-23T00:00:00",
          "2020-06-24T00:00:00",
          "2020-06-25T00:00:00",
          "2020-06-26T00:00:00",
          "2020-06-27T00:00:00",
          "2020-06-28T00:00:00",
          "2020-06-29T00:00:00",
          "2020-06-30T00:00:00",
          "2020-07-01T00:00:00",
          "2020-07-02T00:00:00",
          "2020-07-03T00:00:00",
          "2020-07-04T00:00:00",
          "2020-07-05T00:00:00",
          "2020-07-06T00:00:00",
          "2020-07-07T00:00:00",
          "2020-07-08T00:00:00",
          "2020-07-09T00:00:00",
          "2020-07-10T00:00:00",
          "2020-07-11T00:00:00",
          "2020-07-12T00:00:00",
          "2020-07-13T00:00:00",
          "2020-07-14T00:00:00",
          "2020-07-15T00:00:00",
          "2020-07-16T00:00:00",
          "2020-07-17T00:00:00",
          "2020-07-18T00:00:00",
          "2020-07-19T00:00:00",
          "2020-07-20T00:00:00",
          "2020-07-21T00:00:00",
          "2020-07-22T00:00:00",
          "2020-07-23T00:00:00",
          "2020-07-24T00:00:00",
          "2020-07-25T00:00:00",
          "2020-07-26T00:00:00",
          "2020-07-27T00:00:00",
          "2020-07-28T00:00:00",
          "2020-07-29T00:00:00",
          "2020-07-30T00:00:00",
          "2020-07-31T00:00:00",
          "2020-08-01T00:00:00",
          "2020-08-02T00:00:00",
          "2020-08-03T00:00:00",
          "2020-08-04T00:00:00",
          "2020-08-05T00:00:00",
          "2020-08-06T00:00:00",
          "2020-08-07T00:00:00",
          "2020-08-08T00:00:00",
          "2020-08-09T00:00:00",
          "2020-08-10T00:00:00",
          "2020-08-11T00:00:00",
          "2020-08-12T00:00:00",
          "2020-08-13T00:00:00",
          "2020-08-14T00:00:00",
          "2020-08-15T00:00:00",
          "2020-08-16T00:00:00",
          "2020-08-17T00:00:00",
          "2020-08-18T00:00:00",
          "2020-08-19T00:00:00",
          "2020-08-20T00:00:00",
          "2020-08-21T00:00:00",
          "2020-08-22T00:00:00",
          "2020-08-23T00:00:00",
          "2020-08-24T00:00:00",
          "2020-08-25T00:00:00",
          "2020-08-26T00:00:00",
          "2020-08-27T00:00:00",
          "2020-08-28T00:00:00",
          "2020-08-29T00:00:00",
          "2020-08-30T00:00:00",
          "2020-08-31T00:00:00",
          "2020-09-01T00:00:00",
          "2020-09-02T00:00:00",
          "2020-09-03T00:00:00",
          "2020-09-04T00:00:00",
          "2020-09-05T00:00:00",
          "2020-09-06T00:00:00",
          "2020-09-07T00:00:00",
          "2020-09-08T00:00:00",
          "2020-09-09T00:00:00",
          "2020-09-10T00:00:00",
          "2020-09-11T00:00:00",
          "2020-09-12T00:00:00",
          "2020-09-13T00:00:00",
          "2020-09-14T00:00:00",
          "2020-09-15T00:00:00",
          "2020-09-16T00:00:00",
          "2020-09-17T00:00:00",
          "2020-09-18T00:00:00",
          "2020-09-19T00:00:00",
          "2020-09-20T00:00:00",
          "2020-09-21T00:00:00",
          "2020-09-22T00:00:00",
          "2020-09-23T00:00:00",
          "2020-09-24T00:00:00",
          "2020-09-25T00:00:00",
          "2020-09-26T00:00:00",
          "2020-09-27T00:00:00",
          "2020-09-28T00:00:00",
          "2020-09-29T00:00:00",
          "2020-09-30T00:00:00",
          "2020-10-01T00:00:00",
          "2020-10-02T00:00:00",
          "2020-10-03T00:00:00",
          "2020-10-04T00:00:00",
          "2020-10-05T00:00:00",
          "2020-10-06T00:00:00",
          "2020-10-07T00:00:00",
          "2020-10-08T00:00:00",
          "2020-10-09T00:00:00",
          "2020-10-10T00:00:00",
          "2020-10-11T00:00:00",
          "2020-10-12T00:00:00",
          "2020-10-13T00:00:00",
          "2020-10-14T00:00:00",
          "2020-10-15T00:00:00",
          "2020-10-16T00:00:00",
          "2020-10-17T00:00:00",
          "2020-10-18T00:00:00",
          "2020-10-19T00:00:00",
          "2020-10-20T00:00:00",
          "2020-10-21T00:00:00",
          "2020-10-22T00:00:00",
          "2020-10-23T00:00:00",
          "2020-10-24T00:00:00",
          "2020-10-25T00:00:00",
          "2020-10-26T00:00:00",
          "2020-10-27T00:00:00",
          "2020-10-28T00:00:00",
          "2020-10-29T00:00:00",
          "2020-10-30T00:00:00",
          "2020-10-31T00:00:00",
          "2020-11-01T00:00:00",
          "2020-11-02T00:00:00",
          "2020-11-03T00:00:00",
          "2020-11-04T00:00:00",
          "2020-11-05T00:00:00",
          "2020-11-06T00:00:00",
          "2020-11-07T00:00:00",
          "2020-11-08T00:00:00",
          "2020-11-09T00:00:00",
          "2020-11-10T00:00:00",
          "2020-11-11T00:00:00",
          "2020-11-12T00:00:00",
          "2020-11-13T00:00:00",
          "2020-11-14T00:00:00",
          "2020-11-15T00:00:00",
          "2020-11-16T00:00:00",
          "2020-11-17T00:00:00",
          "2020-11-18T00:00:00",
          "2020-11-19T00:00:00",
          "2020-11-20T00:00:00",
          "2020-11-21T00:00:00",
          "2020-11-22T00:00:00",
          "2020-11-23T00:00:00",
          "2020-11-24T00:00:00",
          "2020-11-25T00:00:00",
          "2020-11-26T00:00:00",
          "2020-11-27T00:00:00",
          "2020-11-28T00:00:00",
          "2020-11-29T00:00:00",
          "2020-11-30T00:00:00",
          "2020-12-01T00:00:00",
          "2020-12-02T00:00:00",
          "2020-12-03T00:00:00",
          "2020-12-04T00:00:00",
          "2020-12-05T00:00:00",
          "2020-12-06T00:00:00",
          "2020-12-07T00:00:00",
          "2020-12-08T00:00:00",
          "2020-12-09T00:00:00",
          "2020-12-10T00:00:00",
          "2020-12-11T00:00:00",
          "2020-12-12T00:00:00",
          "2020-12-13T00:00:00",
          "2020-12-14T00:00:00",
          "2020-12-15T00:00:00",
          "2020-12-16T00:00:00",
          "2020-12-17T00:00:00",
          "2020-12-18T00:00:00",
          "2020-12-19T00:00:00",
          "2020-12-20T00:00:00",
          "2020-12-21T00:00:00",
          "2020-12-22T00:00:00",
          "2020-12-23T00:00:00",
          "2020-12-24T00:00:00",
          "2020-12-25T00:00:00",
          "2020-12-26T00:00:00",
          "2020-12-27T00:00:00",
          "2020-12-28T00:00:00",
          "2020-12-29T00:00:00",
          "2020-12-30T00:00:00",
          "2020-12-31T00:00:00"
         ],
         "xaxis": "x",
         "y": [
          218,
          525,
          504,
          541,
          367,
          341,
          688,
          748,
          634,
          834,
          643,
          487,
          336,
          967,
          861,
          778,
          666,
          724,
          558,
          283,
          623,
          647,
          535,
          697,
          759,
          368,
          268,
          580,
          488,
          566,
          671,
          563,
          387,
          342,
          589,
          655,
          654,
          553,
          673,
          432,
          220,
          687,
          592,
          712,
          668,
          594,
          594,
          232,
          672,
          904,
          624,
          746,
          879,
          432,
          256,
          660,
          805,
          1050,
          826,
          611,
          439,
          379,
          628,
          699,
          730,
          576,
          831,
          517,
          404,
          740,
          597,
          691,
          699,
          967,
          667,
          375,
          695,
          651,
          699,
          680,
          789,
          497,
          375,
          647,
          769,
          944,
          786,
          838,
          500,
          356,
          956,
          812,
          919,
          928,
          791,
          469,
          273,
          648,
          702,
          675,
          672,
          717,
          618,
          409,
          983,
          986,
          705,
          835,
          732,
          304,
          188,
          222,
          749,
          707,
          688,
          835,
          331,
          224,
          581,
          692,
          230,
          362,
          187,
          306,
          260,
          706,
          638,
          768,
          586,
          655,
          488,
          440,
          748,
          1186,
          890,
          991,
          679,
          602,
          460,
          623,
          745,
          765,
          795,
          684,
          464,
          403,
          747,
          752,
          643,
          753,
          946,
          492,
          320,
          649,
          649,
          717,
          821,
          724,
          435,
          290,
          619,
          827,
          729,
          726,
          686,
          454,
          309,
          700,
          811,
          757,
          239,
          452,
          314,
          295,
          774,
          831,
          597,
          565,
          758,
          444,
          402,
          569,
          733,
          598,
          592,
          700,
          432,
          326,
          565,
          744,
          677,
          622,
          671,
          411,
          297,
          568,
          588,
          617,
          644,
          548,
          284,
          209,
          561,
          412,
          468,
          602,
          718,
          412,
          250,
          698,
          772,
          705,
          516,
          528,
          331,
          258,
          566,
          694,
          390,
          647,
          687,
          335,
          327,
          576,
          660,
          767,
          201,
          367,
          274,
          254,
          628,
          575,
          596,
          546,
          541,
          385,
          271,
          536,
          659,
          673,
          752,
          662,
          438,
          200,
          681,
          702,
          648,
          725,
          723,
          467,
          329,
          641,
          600,
          644,
          762,
          670,
          586,
          280,
          784,
          715,
          987,
          885,
          696,
          428,
          319,
          560,
          645,
          786,
          766,
          636,
          435,
          372,
          1024,
          655,
          1102,
          687,
          567,
          365,
          369,
          708,
          1000,
          848,
          740,
          790,
          529,
          376,
          574,
          778,
          706,
          804,
          725,
          407,
          400,
          800,
          725,
          669,
          868,
          633,
          556,
          656,
          609,
          874,
          817,
          624,
          272,
          327,
          245,
          857,
          710,
          756,
          642,
          806,
          516,
          365,
          339,
          793,
          933,
          835,
          710,
          588,
          362,
          713,
          592,
          667,
          701,
          590,
          525,
          307,
          570,
          678,
          730,
          837,
          1004,
          523,
          335,
          743,
          942,
          941,
          864,
          879,
          690,
          294,
          700,
          790,
          706,
          741,
          890,
          501,
          505,
          623,
          815,
          807,
          881,
          800,
          517,
          575,
          1085,
          362,
          166,
          270,
          273,
          267,
          181,
          352,
          459,
          134,
          410,
          684,
          496,
          261,
          206,
          726,
          819,
          654,
          715,
          449,
          240,
          771,
          702,
          589,
          612,
          685,
          471,
          319,
          698,
          729,
          839,
          675,
          676,
          580,
          330,
          560,
          743,
          723,
          703,
          801,
          512,
          276,
          522,
          609,
          854,
          854,
          900,
          479,
          298,
          586,
          585,
          491,
          467,
          697,
          438,
          372,
          522,
          697,
          601,
          377,
          713,
          476,
          437,
          716,
          621,
          793,
          808,
          717,
          608,
          297,
          686,
          585,
          613,
          650,
          909,
          543,
          310,
          567,
          648,
          749,
          638,
          668,
          224,
          127,
          336,
          303,
          261,
          227,
          345,
          188,
          126,
          350,
          322,
          241,
          302,
          290,
          158,
          123,
          325,
          263,
          219,
          314,
          244,
          112,
          107,
          279,
          319,
          288,
          373,
          358,
          236,
          80,
          108,
          210,
          264,
          379,
          423,
          167,
          110,
          328,
          299,
          304,
          475,
          367,
          210,
          144,
          485,
          416,
          390,
          535,
          197,
          175,
          103,
          361,
          442,
          647,
          366,
          416,
          341,
          194,
          510,
          442,
          416,
          429,
          552,
          254,
          190,
          459,
          441,
          508,
          529,
          523,
          233,
          216,
          549,
          518,
          451,
          652,
          660,
          351,
          207,
          587,
          493,
          604,
          556,
          657,
          395,
          201,
          439,
          590,
          814,
          215,
          212,
          218,
          240,
          605,
          641,
          709,
          582,
          508,
          377,
          243,
          609,
          701,
          817,
          718,
          684,
          328,
          362,
          655,
          606,
          631,
          602,
          629,
          302,
          222,
          394,
          491,
          463,
          563,
          654,
          438,
          258,
          484,
          416,
          588,
          529,
          521,
          413,
          258,
          533,
          511,
          537,
          391,
          672,
          361,
          278,
          626,
          600,
          596,
          475,
          605,
          408,
          245,
          650,
          888,
          514,
          468,
          571,
          409,
          218,
          535,
          688,
          496,
          459,
          641,
          202,
          261,
          594,
          554,
          620,
          473,
          565,
          490,
          216,
          541,
          520,
          605,
          809,
          590,
          414,
          453,
          683,
          615,
          558,
          777,
          719,
          502,
          328,
          580,
          615,
          563,
          670,
          625,
          441,
          269,
          673,
          676,
          662,
          574,
          591,
          388,
          279,
          717,
          841,
          585,
          708,
          668,
          512,
          609,
          663,
          673,
          888,
          506,
          821,
          527,
          296,
          701,
          814,
          716,
          557,
          641,
          360,
          222,
          729,
          783,
          614,
          528,
          649,
          376,
          326,
          605,
          436,
          473,
          523,
          618,
          414,
          256,
          427,
          419,
          242,
          539,
          387,
          242,
          170,
          363,
          432,
          496,
          427,
          539,
          218,
          173,
          367,
          439,
          188,
          243,
          346,
          214,
          171,
          420,
          338,
          338,
          479,
          527,
          233,
          219,
          516,
          410,
          422,
          479,
          510,
          443,
          194,
          362,
          488,
          524,
          451,
          524,
          347,
          227,
          505,
          328,
          434,
          984,
          649,
          422,
          233,
          546,
          469,
          622,
          511,
          686,
          320,
          304,
          644,
          983,
          661,
          377,
          129,
          153,
          169,
          382,
          519,
          598,
          346
         ],
         "yaxis": "y"
        }
       ],
       "layout": {
        "legend": {
         "tracegroupgap": 0
        },
        "margin": {
         "t": 60
        },
        "template": {
         "data": {
          "bar": [
           {
            "error_x": {
             "color": "#2a3f5f"
            },
            "error_y": {
             "color": "#2a3f5f"
            },
            "marker": {
             "line": {
              "color": "#E5ECF6",
              "width": 0.5
             },
             "pattern": {
              "fillmode": "overlay",
              "size": 10,
              "solidity": 0.2
             }
            },
            "type": "bar"
           }
          ],
          "barpolar": [
           {
            "marker": {
             "line": {
              "color": "#E5ECF6",
              "width": 0.5
             },
             "pattern": {
              "fillmode": "overlay",
              "size": 10,
              "solidity": 0.2
             }
            },
            "type": "barpolar"
           }
          ],
          "carpet": [
           {
            "aaxis": {
             "endlinecolor": "#2a3f5f",
             "gridcolor": "white",
             "linecolor": "white",
             "minorgridcolor": "white",
             "startlinecolor": "#2a3f5f"
            },
            "baxis": {
             "endlinecolor": "#2a3f5f",
             "gridcolor": "white",
             "linecolor": "white",
             "minorgridcolor": "white",
             "startlinecolor": "#2a3f5f"
            },
            "type": "carpet"
           }
          ],
          "choropleth": [
           {
            "colorbar": {
             "outlinewidth": 0,
             "ticks": ""
            },
            "type": "choropleth"
           }
          ],
          "contour": [
           {
            "colorbar": {
             "outlinewidth": 0,
             "ticks": ""
            },
            "colorscale": [
             [
              0,
              "#0d0887"
             ],
             [
              0.1111111111111111,
              "#46039f"
             ],
             [
              0.2222222222222222,
              "#7201a8"
             ],
             [
              0.3333333333333333,
              "#9c179e"
             ],
             [
              0.4444444444444444,
              "#bd3786"
             ],
             [
              0.5555555555555556,
              "#d8576b"
             ],
             [
              0.6666666666666666,
              "#ed7953"
             ],
             [
              0.7777777777777778,
              "#fb9f3a"
             ],
             [
              0.8888888888888888,
              "#fdca26"
             ],
             [
              1,
              "#f0f921"
             ]
            ],
            "type": "contour"
           }
          ],
          "contourcarpet": [
           {
            "colorbar": {
             "outlinewidth": 0,
             "ticks": ""
            },
            "type": "contourcarpet"
           }
          ],
          "heatmap": [
           {
            "colorbar": {
             "outlinewidth": 0,
             "ticks": ""
            },
            "colorscale": [
             [
              0,
              "#0d0887"
             ],
             [
              0.1111111111111111,
              "#46039f"
             ],
             [
              0.2222222222222222,
              "#7201a8"
             ],
             [
              0.3333333333333333,
              "#9c179e"
             ],
             [
              0.4444444444444444,
              "#bd3786"
             ],
             [
              0.5555555555555556,
              "#d8576b"
             ],
             [
              0.6666666666666666,
              "#ed7953"
             ],
             [
              0.7777777777777778,
              "#fb9f3a"
             ],
             [
              0.8888888888888888,
              "#fdca26"
             ],
             [
              1,
              "#f0f921"
             ]
            ],
            "type": "heatmap"
           }
          ],
          "heatmapgl": [
           {
            "colorbar": {
             "outlinewidth": 0,
             "ticks": ""
            },
            "colorscale": [
             [
              0,
              "#0d0887"
             ],
             [
              0.1111111111111111,
              "#46039f"
             ],
             [
              0.2222222222222222,
              "#7201a8"
             ],
             [
              0.3333333333333333,
              "#9c179e"
             ],
             [
              0.4444444444444444,
              "#bd3786"
             ],
             [
              0.5555555555555556,
              "#d8576b"
             ],
             [
              0.6666666666666666,
              "#ed7953"
             ],
             [
              0.7777777777777778,
              "#fb9f3a"
             ],
             [
              0.8888888888888888,
              "#fdca26"
             ],
             [
              1,
              "#f0f921"
             ]
            ],
            "type": "heatmapgl"
           }
          ],
          "histogram": [
           {
            "marker": {
             "pattern": {
              "fillmode": "overlay",
              "size": 10,
              "solidity": 0.2
             }
            },
            "type": "histogram"
           }
          ],
          "histogram2d": [
           {
            "colorbar": {
             "outlinewidth": 0,
             "ticks": ""
            },
            "colorscale": [
             [
              0,
              "#0d0887"
             ],
             [
              0.1111111111111111,
              "#46039f"
             ],
             [
              0.2222222222222222,
              "#7201a8"
             ],
             [
              0.3333333333333333,
              "#9c179e"
             ],
             [
              0.4444444444444444,
              "#bd3786"
             ],
             [
              0.5555555555555556,
              "#d8576b"
             ],
             [
              0.6666666666666666,
              "#ed7953"
             ],
             [
              0.7777777777777778,
              "#fb9f3a"
             ],
             [
              0.8888888888888888,
              "#fdca26"
             ],
             [
              1,
              "#f0f921"
             ]
            ],
            "type": "histogram2d"
           }
          ],
          "histogram2dcontour": [
           {
            "colorbar": {
             "outlinewidth": 0,
             "ticks": ""
            },
            "colorscale": [
             [
              0,
              "#0d0887"
             ],
             [
              0.1111111111111111,
              "#46039f"
             ],
             [
              0.2222222222222222,
              "#7201a8"
             ],
             [
              0.3333333333333333,
              "#9c179e"
             ],
             [
              0.4444444444444444,
              "#bd3786"
             ],
             [
              0.5555555555555556,
              "#d8576b"
             ],
             [
              0.6666666666666666,
              "#ed7953"
             ],
             [
              0.7777777777777778,
              "#fb9f3a"
             ],
             [
              0.8888888888888888,
              "#fdca26"
             ],
             [
              1,
              "#f0f921"
             ]
            ],
            "type": "histogram2dcontour"
           }
          ],
          "mesh3d": [
           {
            "colorbar": {
             "outlinewidth": 0,
             "ticks": ""
            },
            "type": "mesh3d"
           }
          ],
          "parcoords": [
           {
            "line": {
             "colorbar": {
              "outlinewidth": 0,
              "ticks": ""
             }
            },
            "type": "parcoords"
           }
          ],
          "pie": [
           {
            "automargin": true,
            "type": "pie"
           }
          ],
          "scatter": [
           {
            "marker": {
             "colorbar": {
              "outlinewidth": 0,
              "ticks": ""
             }
            },
            "type": "scatter"
           }
          ],
          "scatter3d": [
           {
            "line": {
             "colorbar": {
              "outlinewidth": 0,
              "ticks": ""
             }
            },
            "marker": {
             "colorbar": {
              "outlinewidth": 0,
              "ticks": ""
             }
            },
            "type": "scatter3d"
           }
          ],
          "scattercarpet": [
           {
            "marker": {
             "colorbar": {
              "outlinewidth": 0,
              "ticks": ""
             }
            },
            "type": "scattercarpet"
           }
          ],
          "scattergeo": [
           {
            "marker": {
             "colorbar": {
              "outlinewidth": 0,
              "ticks": ""
             }
            },
            "type": "scattergeo"
           }
          ],
          "scattergl": [
           {
            "marker": {
             "colorbar": {
              "outlinewidth": 0,
              "ticks": ""
             }
            },
            "type": "scattergl"
           }
          ],
          "scattermapbox": [
           {
            "marker": {
             "colorbar": {
              "outlinewidth": 0,
              "ticks": ""
             }
            },
            "type": "scattermapbox"
           }
          ],
          "scatterpolar": [
           {
            "marker": {
             "colorbar": {
              "outlinewidth": 0,
              "ticks": ""
             }
            },
            "type": "scatterpolar"
           }
          ],
          "scatterpolargl": [
           {
            "marker": {
             "colorbar": {
              "outlinewidth": 0,
              "ticks": ""
             }
            },
            "type": "scatterpolargl"
           }
          ],
          "scatterternary": [
           {
            "marker": {
             "colorbar": {
              "outlinewidth": 0,
              "ticks": ""
             }
            },
            "type": "scatterternary"
           }
          ],
          "surface": [
           {
            "colorbar": {
             "outlinewidth": 0,
             "ticks": ""
            },
            "colorscale": [
             [
              0,
              "#0d0887"
             ],
             [
              0.1111111111111111,
              "#46039f"
             ],
             [
              0.2222222222222222,
              "#7201a8"
             ],
             [
              0.3333333333333333,
              "#9c179e"
             ],
             [
              0.4444444444444444,
              "#bd3786"
             ],
             [
              0.5555555555555556,
              "#d8576b"
             ],
             [
              0.6666666666666666,
              "#ed7953"
             ],
             [
              0.7777777777777778,
              "#fb9f3a"
             ],
             [
              0.8888888888888888,
              "#fdca26"
             ],
             [
              1,
              "#f0f921"
             ]
            ],
            "type": "surface"
           }
          ],
          "table": [
           {
            "cells": {
             "fill": {
              "color": "#EBF0F8"
             },
             "line": {
              "color": "white"
             }
            },
            "header": {
             "fill": {
              "color": "#C8D4E3"
             },
             "line": {
              "color": "white"
             }
            },
            "type": "table"
           }
          ]
         },
         "layout": {
          "annotationdefaults": {
           "arrowcolor": "#2a3f5f",
           "arrowhead": 0,
           "arrowwidth": 1
          },
          "autotypenumbers": "strict",
          "coloraxis": {
           "colorbar": {
            "outlinewidth": 0,
            "ticks": ""
           }
          },
          "colorscale": {
           "diverging": [
            [
             0,
             "#8e0152"
            ],
            [
             0.1,
             "#c51b7d"
            ],
            [
             0.2,
             "#de77ae"
            ],
            [
             0.3,
             "#f1b6da"
            ],
            [
             0.4,
             "#fde0ef"
            ],
            [
             0.5,
             "#f7f7f7"
            ],
            [
             0.6,
             "#e6f5d0"
            ],
            [
             0.7,
             "#b8e186"
            ],
            [
             0.8,
             "#7fbc41"
            ],
            [
             0.9,
             "#4d9221"
            ],
            [
             1,
             "#276419"
            ]
           ],
           "sequential": [
            [
             0,
             "#0d0887"
            ],
            [
             0.1111111111111111,
             "#46039f"
            ],
            [
             0.2222222222222222,
             "#7201a8"
            ],
            [
             0.3333333333333333,
             "#9c179e"
            ],
            [
             0.4444444444444444,
             "#bd3786"
            ],
            [
             0.5555555555555556,
             "#d8576b"
            ],
            [
             0.6666666666666666,
             "#ed7953"
            ],
            [
             0.7777777777777778,
             "#fb9f3a"
            ],
            [
             0.8888888888888888,
             "#fdca26"
            ],
            [
             1,
             "#f0f921"
            ]
           ],
           "sequentialminus": [
            [
             0,
             "#0d0887"
            ],
            [
             0.1111111111111111,
             "#46039f"
            ],
            [
             0.2222222222222222,
             "#7201a8"
            ],
            [
             0.3333333333333333,
             "#9c179e"
            ],
            [
             0.4444444444444444,
             "#bd3786"
            ],
            [
             0.5555555555555556,
             "#d8576b"
            ],
            [
             0.6666666666666666,
             "#ed7953"
            ],
            [
             0.7777777777777778,
             "#fb9f3a"
            ],
            [
             0.8888888888888888,
             "#fdca26"
            ],
            [
             1,
             "#f0f921"
            ]
           ]
          },
          "colorway": [
           "#636efa",
           "#EF553B",
           "#00cc96",
           "#ab63fa",
           "#FFA15A",
           "#19d3f3",
           "#FF6692",
           "#B6E880",
           "#FF97FF",
           "#FECB52"
          ],
          "font": {
           "color": "#2a3f5f"
          },
          "geo": {
           "bgcolor": "white",
           "lakecolor": "white",
           "landcolor": "#E5ECF6",
           "showlakes": true,
           "showland": true,
           "subunitcolor": "white"
          },
          "hoverlabel": {
           "align": "left"
          },
          "hovermode": "closest",
          "mapbox": {
           "style": "light"
          },
          "paper_bgcolor": "white",
          "plot_bgcolor": "#E5ECF6",
          "polar": {
           "angularaxis": {
            "gridcolor": "white",
            "linecolor": "white",
            "ticks": ""
           },
           "bgcolor": "#E5ECF6",
           "radialaxis": {
            "gridcolor": "white",
            "linecolor": "white",
            "ticks": ""
           }
          },
          "scene": {
           "xaxis": {
            "backgroundcolor": "#E5ECF6",
            "gridcolor": "white",
            "gridwidth": 2,
            "linecolor": "white",
            "showbackground": true,
            "ticks": "",
            "zerolinecolor": "white"
           },
           "yaxis": {
            "backgroundcolor": "#E5ECF6",
            "gridcolor": "white",
            "gridwidth": 2,
            "linecolor": "white",
            "showbackground": true,
            "ticks": "",
            "zerolinecolor": "white"
           },
           "zaxis": {
            "backgroundcolor": "#E5ECF6",
            "gridcolor": "white",
            "gridwidth": 2,
            "linecolor": "white",
            "showbackground": true,
            "ticks": "",
            "zerolinecolor": "white"
           }
          },
          "shapedefaults": {
           "line": {
            "color": "#2a3f5f"
           }
          },
          "ternary": {
           "aaxis": {
            "gridcolor": "white",
            "linecolor": "white",
            "ticks": ""
           },
           "baxis": {
            "gridcolor": "white",
            "linecolor": "white",
            "ticks": ""
           },
           "bgcolor": "#E5ECF6",
           "caxis": {
            "gridcolor": "white",
            "linecolor": "white",
            "ticks": ""
           }
          },
          "title": {
           "x": 0.05
          },
          "xaxis": {
           "automargin": true,
           "gridcolor": "white",
           "linecolor": "white",
           "ticks": "",
           "title": {
            "standoff": 15
           },
           "zerolinecolor": "white",
           "zerolinewidth": 2
          },
          "yaxis": {
           "automargin": true,
           "gridcolor": "white",
           "linecolor": "white",
           "ticks": "",
           "title": {
            "standoff": 15
           },
           "zerolinecolor": "white",
           "zerolinewidth": 2
          }
         }
        },
        "xaxis": {
         "anchor": "y",
         "domain": [
          0,
          1
         ],
         "title": {
          "text": "DATA_ZDARZ"
         }
        },
        "yaxis": {
         "anchor": "x",
         "domain": [
          0,
          1
         ],
         "title": {
          "text": "MIEJSCOWOSC"
         }
        }
       }
      }
     },
     "metadata": {},
     "output_type": "display_data"
    }
   ],
   "source": [
    "import plotly.express as px\n",
    "\n",
    "grouped = warszawa_2019_2020.groupby(['DATA_ZDARZ']).count()\n",
    "grouped = grouped['MIEJSCOWOSC']\n",
    "fig = px.line(grouped,y=\"MIEJSCOWOSC\")\n",
    "fig.show()\n"
   ]
  },
  {
   "cell_type": "code",
   "execution_count": 15,
   "metadata": {},
   "outputs": [
    {
     "data": {
      "text/html": [
       "<div>\n",
       "<style scoped>\n",
       "    .dataframe tbody tr th:only-of-type {\n",
       "        vertical-align: middle;\n",
       "    }\n",
       "\n",
       "    .dataframe tbody tr th {\n",
       "        vertical-align: top;\n",
       "    }\n",
       "\n",
       "    .dataframe thead th {\n",
       "        text-align: right;\n",
       "    }\n",
       "</style>\n",
       "<table border=\"1\" class=\"dataframe\">\n",
       "  <thead>\n",
       "    <tr style=\"text-align: right;\">\n",
       "      <th></th>\n",
       "      <th>nowe_przypadki_warsaw</th>\n",
       "      <th>zgony_warsaw</th>\n",
       "    </tr>\n",
       "    <tr>\n",
       "      <th>data</th>\n",
       "      <th></th>\n",
       "      <th></th>\n",
       "    </tr>\n",
       "  </thead>\n",
       "  <tbody>\n",
       "    <tr>\n",
       "      <th>2020-11-23</th>\n",
       "      <td>437.0</td>\n",
       "      <td>13.0</td>\n",
       "    </tr>\n",
       "    <tr>\n",
       "      <th>2020-11-24</th>\n",
       "      <td>473.0</td>\n",
       "      <td>16.0</td>\n",
       "    </tr>\n",
       "    <tr>\n",
       "      <th>2020-11-25</th>\n",
       "      <td>606.0</td>\n",
       "      <td>20.0</td>\n",
       "    </tr>\n",
       "    <tr>\n",
       "      <th>2020-11-26</th>\n",
       "      <td>663.0</td>\n",
       "      <td>14.0</td>\n",
       "    </tr>\n",
       "    <tr>\n",
       "      <th>2020-11-27</th>\n",
       "      <td>709.0</td>\n",
       "      <td>16.0</td>\n",
       "    </tr>\n",
       "    <tr>\n",
       "      <th>...</th>\n",
       "      <td>...</td>\n",
       "      <td>...</td>\n",
       "    </tr>\n",
       "    <tr>\n",
       "      <th>2021-11-17</th>\n",
       "      <td>2022.0</td>\n",
       "      <td>10.0</td>\n",
       "    </tr>\n",
       "    <tr>\n",
       "      <th>2021-11-18</th>\n",
       "      <td>1726.0</td>\n",
       "      <td>27.0</td>\n",
       "    </tr>\n",
       "    <tr>\n",
       "      <th>2021-11-19</th>\n",
       "      <td>1993.0</td>\n",
       "      <td>26.0</td>\n",
       "    </tr>\n",
       "    <tr>\n",
       "      <th>2021-11-20</th>\n",
       "      <td>1538.0</td>\n",
       "      <td>4.0</td>\n",
       "    </tr>\n",
       "    <tr>\n",
       "      <th>2021-11-21</th>\n",
       "      <td>1152.0</td>\n",
       "      <td>0.0</td>\n",
       "    </tr>\n",
       "  </tbody>\n",
       "</table>\n",
       "<p>364 rows × 2 columns</p>\n",
       "</div>"
      ],
      "text/plain": [
       "            nowe_przypadki_warsaw  zgony_warsaw\n",
       "data                                           \n",
       "2020-11-23                  437.0          13.0\n",
       "2020-11-24                  473.0          16.0\n",
       "2020-11-25                  606.0          20.0\n",
       "2020-11-26                  663.0          14.0\n",
       "2020-11-27                  709.0          16.0\n",
       "...                           ...           ...\n",
       "2021-11-17                 2022.0          10.0\n",
       "2021-11-18                 1726.0          27.0\n",
       "2021-11-19                 1993.0          26.0\n",
       "2021-11-20                 1538.0           4.0\n",
       "2021-11-21                 1152.0           0.0\n",
       "\n",
       "[364 rows x 2 columns]"
      ]
     },
     "execution_count": 15,
     "metadata": {},
     "output_type": "execute_result"
    }
   ],
   "source": [
    "warszawa = pd.read_csv('D:\\Licencjat\\warszawa_zakazenia_covid19.csv')\n",
    "warszawa = warszawa[['liczba_przypadkow', 'zgony', 'stan_rekordu_na']]\n",
    "warszawa = warszawa[[\"stan_rekordu_na\", \"liczba_przypadkow\", \"zgony\"]]\n",
    "warszawa = warszawa.rename(columns={'stan_rekordu_na': 'data', 'liczba_przypadkow': 'nowe_przypadki_warsaw', 'zgony': 'zgony_warsaw'})\n",
    "warszawa= warszawa.set_index('data')\n",
    "warszawa.sort_index()\n",
    " \n",
    "warszawa"
   ]
  },
  {
   "cell_type": "code",
   "execution_count": 16,
   "metadata": {},
   "outputs": [
    {
     "data": {
      "text/plain": [
       "DATA_ZDARZ\n",
       "2019-01-01    218\n",
       "2019-01-02    525\n",
       "2019-01-03    504\n",
       "2019-01-04    541\n",
       "2019-01-05    367\n",
       "             ... \n",
       "2020-12-27    169\n",
       "2020-12-28    382\n",
       "2020-12-29    519\n",
       "2020-12-30    598\n",
       "2020-12-31    346\n",
       "Name: MIEJSCOWOSC, Length: 731, dtype: int64"
      ]
     },
     "execution_count": 16,
     "metadata": {},
     "output_type": "execute_result"
    }
   ],
   "source": [
    "grouped\n"
   ]
  },
  {
   "cell_type": "code",
   "execution_count": 17,
   "metadata": {},
   "outputs": [
    {
     "data": {
      "application/vnd.plotly.v1+json": {
       "config": {
        "plotlyServerURL": "https://plot.ly"
       },
       "data": [
        {
         "hovertemplate": "DATA_ZDARZ=%{x}<br>MIEJSCOWOSC=%{y}<extra></extra>",
         "legendgroup": "",
         "line": {
          "color": "#636efa",
          "dash": "solid"
         },
         "marker": {
          "symbol": "circle"
         },
         "mode": "lines",
         "name": "",
         "orientation": "v",
         "showlegend": false,
         "type": "scatter",
         "x": [
          "2020-11-23T00:00:00",
          "2020-11-24T00:00:00",
          "2020-11-25T00:00:00",
          "2020-11-26T00:00:00",
          "2020-11-27T00:00:00",
          "2020-11-28T00:00:00",
          "2020-11-29T00:00:00",
          "2020-11-30T00:00:00",
          "2020-12-01T00:00:00",
          "2020-12-02T00:00:00",
          "2020-12-03T00:00:00",
          "2020-12-04T00:00:00",
          "2020-12-05T00:00:00",
          "2020-12-06T00:00:00",
          "2020-12-07T00:00:00",
          "2020-12-08T00:00:00",
          "2020-12-09T00:00:00",
          "2020-12-10T00:00:00",
          "2020-12-11T00:00:00",
          "2020-12-12T00:00:00",
          "2020-12-13T00:00:00",
          "2020-12-14T00:00:00",
          "2020-12-15T00:00:00",
          "2020-12-16T00:00:00",
          "2020-12-17T00:00:00",
          "2020-12-18T00:00:00",
          "2020-12-19T00:00:00",
          "2020-12-20T00:00:00",
          "2020-12-21T00:00:00",
          "2020-12-22T00:00:00",
          "2020-12-23T00:00:00",
          "2020-12-24T00:00:00",
          "2020-12-25T00:00:00",
          "2020-12-26T00:00:00",
          "2020-12-27T00:00:00",
          "2020-12-28T00:00:00",
          "2020-12-29T00:00:00",
          "2020-12-30T00:00:00",
          "2020-12-31T00:00:00"
         ],
         "xaxis": "x",
         "y": [
          516,
          410,
          422,
          479,
          510,
          443,
          194,
          362,
          488,
          524,
          451,
          524,
          347,
          227,
          505,
          328,
          434,
          984,
          649,
          422,
          233,
          546,
          469,
          622,
          511,
          686,
          320,
          304,
          644,
          983,
          661,
          377,
          129,
          153,
          169,
          382,
          519,
          598,
          346
         ],
         "yaxis": "y"
        }
       ],
       "layout": {
        "legend": {
         "tracegroupgap": 0
        },
        "margin": {
         "t": 60
        },
        "template": {
         "data": {
          "bar": [
           {
            "error_x": {
             "color": "#2a3f5f"
            },
            "error_y": {
             "color": "#2a3f5f"
            },
            "marker": {
             "line": {
              "color": "#E5ECF6",
              "width": 0.5
             },
             "pattern": {
              "fillmode": "overlay",
              "size": 10,
              "solidity": 0.2
             }
            },
            "type": "bar"
           }
          ],
          "barpolar": [
           {
            "marker": {
             "line": {
              "color": "#E5ECF6",
              "width": 0.5
             },
             "pattern": {
              "fillmode": "overlay",
              "size": 10,
              "solidity": 0.2
             }
            },
            "type": "barpolar"
           }
          ],
          "carpet": [
           {
            "aaxis": {
             "endlinecolor": "#2a3f5f",
             "gridcolor": "white",
             "linecolor": "white",
             "minorgridcolor": "white",
             "startlinecolor": "#2a3f5f"
            },
            "baxis": {
             "endlinecolor": "#2a3f5f",
             "gridcolor": "white",
             "linecolor": "white",
             "minorgridcolor": "white",
             "startlinecolor": "#2a3f5f"
            },
            "type": "carpet"
           }
          ],
          "choropleth": [
           {
            "colorbar": {
             "outlinewidth": 0,
             "ticks": ""
            },
            "type": "choropleth"
           }
          ],
          "contour": [
           {
            "colorbar": {
             "outlinewidth": 0,
             "ticks": ""
            },
            "colorscale": [
             [
              0,
              "#0d0887"
             ],
             [
              0.1111111111111111,
              "#46039f"
             ],
             [
              0.2222222222222222,
              "#7201a8"
             ],
             [
              0.3333333333333333,
              "#9c179e"
             ],
             [
              0.4444444444444444,
              "#bd3786"
             ],
             [
              0.5555555555555556,
              "#d8576b"
             ],
             [
              0.6666666666666666,
              "#ed7953"
             ],
             [
              0.7777777777777778,
              "#fb9f3a"
             ],
             [
              0.8888888888888888,
              "#fdca26"
             ],
             [
              1,
              "#f0f921"
             ]
            ],
            "type": "contour"
           }
          ],
          "contourcarpet": [
           {
            "colorbar": {
             "outlinewidth": 0,
             "ticks": ""
            },
            "type": "contourcarpet"
           }
          ],
          "heatmap": [
           {
            "colorbar": {
             "outlinewidth": 0,
             "ticks": ""
            },
            "colorscale": [
             [
              0,
              "#0d0887"
             ],
             [
              0.1111111111111111,
              "#46039f"
             ],
             [
              0.2222222222222222,
              "#7201a8"
             ],
             [
              0.3333333333333333,
              "#9c179e"
             ],
             [
              0.4444444444444444,
              "#bd3786"
             ],
             [
              0.5555555555555556,
              "#d8576b"
             ],
             [
              0.6666666666666666,
              "#ed7953"
             ],
             [
              0.7777777777777778,
              "#fb9f3a"
             ],
             [
              0.8888888888888888,
              "#fdca26"
             ],
             [
              1,
              "#f0f921"
             ]
            ],
            "type": "heatmap"
           }
          ],
          "heatmapgl": [
           {
            "colorbar": {
             "outlinewidth": 0,
             "ticks": ""
            },
            "colorscale": [
             [
              0,
              "#0d0887"
             ],
             [
              0.1111111111111111,
              "#46039f"
             ],
             [
              0.2222222222222222,
              "#7201a8"
             ],
             [
              0.3333333333333333,
              "#9c179e"
             ],
             [
              0.4444444444444444,
              "#bd3786"
             ],
             [
              0.5555555555555556,
              "#d8576b"
             ],
             [
              0.6666666666666666,
              "#ed7953"
             ],
             [
              0.7777777777777778,
              "#fb9f3a"
             ],
             [
              0.8888888888888888,
              "#fdca26"
             ],
             [
              1,
              "#f0f921"
             ]
            ],
            "type": "heatmapgl"
           }
          ],
          "histogram": [
           {
            "marker": {
             "pattern": {
              "fillmode": "overlay",
              "size": 10,
              "solidity": 0.2
             }
            },
            "type": "histogram"
           }
          ],
          "histogram2d": [
           {
            "colorbar": {
             "outlinewidth": 0,
             "ticks": ""
            },
            "colorscale": [
             [
              0,
              "#0d0887"
             ],
             [
              0.1111111111111111,
              "#46039f"
             ],
             [
              0.2222222222222222,
              "#7201a8"
             ],
             [
              0.3333333333333333,
              "#9c179e"
             ],
             [
              0.4444444444444444,
              "#bd3786"
             ],
             [
              0.5555555555555556,
              "#d8576b"
             ],
             [
              0.6666666666666666,
              "#ed7953"
             ],
             [
              0.7777777777777778,
              "#fb9f3a"
             ],
             [
              0.8888888888888888,
              "#fdca26"
             ],
             [
              1,
              "#f0f921"
             ]
            ],
            "type": "histogram2d"
           }
          ],
          "histogram2dcontour": [
           {
            "colorbar": {
             "outlinewidth": 0,
             "ticks": ""
            },
            "colorscale": [
             [
              0,
              "#0d0887"
             ],
             [
              0.1111111111111111,
              "#46039f"
             ],
             [
              0.2222222222222222,
              "#7201a8"
             ],
             [
              0.3333333333333333,
              "#9c179e"
             ],
             [
              0.4444444444444444,
              "#bd3786"
             ],
             [
              0.5555555555555556,
              "#d8576b"
             ],
             [
              0.6666666666666666,
              "#ed7953"
             ],
             [
              0.7777777777777778,
              "#fb9f3a"
             ],
             [
              0.8888888888888888,
              "#fdca26"
             ],
             [
              1,
              "#f0f921"
             ]
            ],
            "type": "histogram2dcontour"
           }
          ],
          "mesh3d": [
           {
            "colorbar": {
             "outlinewidth": 0,
             "ticks": ""
            },
            "type": "mesh3d"
           }
          ],
          "parcoords": [
           {
            "line": {
             "colorbar": {
              "outlinewidth": 0,
              "ticks": ""
             }
            },
            "type": "parcoords"
           }
          ],
          "pie": [
           {
            "automargin": true,
            "type": "pie"
           }
          ],
          "scatter": [
           {
            "marker": {
             "colorbar": {
              "outlinewidth": 0,
              "ticks": ""
             }
            },
            "type": "scatter"
           }
          ],
          "scatter3d": [
           {
            "line": {
             "colorbar": {
              "outlinewidth": 0,
              "ticks": ""
             }
            },
            "marker": {
             "colorbar": {
              "outlinewidth": 0,
              "ticks": ""
             }
            },
            "type": "scatter3d"
           }
          ],
          "scattercarpet": [
           {
            "marker": {
             "colorbar": {
              "outlinewidth": 0,
              "ticks": ""
             }
            },
            "type": "scattercarpet"
           }
          ],
          "scattergeo": [
           {
            "marker": {
             "colorbar": {
              "outlinewidth": 0,
              "ticks": ""
             }
            },
            "type": "scattergeo"
           }
          ],
          "scattergl": [
           {
            "marker": {
             "colorbar": {
              "outlinewidth": 0,
              "ticks": ""
             }
            },
            "type": "scattergl"
           }
          ],
          "scattermapbox": [
           {
            "marker": {
             "colorbar": {
              "outlinewidth": 0,
              "ticks": ""
             }
            },
            "type": "scattermapbox"
           }
          ],
          "scatterpolar": [
           {
            "marker": {
             "colorbar": {
              "outlinewidth": 0,
              "ticks": ""
             }
            },
            "type": "scatterpolar"
           }
          ],
          "scatterpolargl": [
           {
            "marker": {
             "colorbar": {
              "outlinewidth": 0,
              "ticks": ""
             }
            },
            "type": "scatterpolargl"
           }
          ],
          "scatterternary": [
           {
            "marker": {
             "colorbar": {
              "outlinewidth": 0,
              "ticks": ""
             }
            },
            "type": "scatterternary"
           }
          ],
          "surface": [
           {
            "colorbar": {
             "outlinewidth": 0,
             "ticks": ""
            },
            "colorscale": [
             [
              0,
              "#0d0887"
             ],
             [
              0.1111111111111111,
              "#46039f"
             ],
             [
              0.2222222222222222,
              "#7201a8"
             ],
             [
              0.3333333333333333,
              "#9c179e"
             ],
             [
              0.4444444444444444,
              "#bd3786"
             ],
             [
              0.5555555555555556,
              "#d8576b"
             ],
             [
              0.6666666666666666,
              "#ed7953"
             ],
             [
              0.7777777777777778,
              "#fb9f3a"
             ],
             [
              0.8888888888888888,
              "#fdca26"
             ],
             [
              1,
              "#f0f921"
             ]
            ],
            "type": "surface"
           }
          ],
          "table": [
           {
            "cells": {
             "fill": {
              "color": "#EBF0F8"
             },
             "line": {
              "color": "white"
             }
            },
            "header": {
             "fill": {
              "color": "#C8D4E3"
             },
             "line": {
              "color": "white"
             }
            },
            "type": "table"
           }
          ]
         },
         "layout": {
          "annotationdefaults": {
           "arrowcolor": "#2a3f5f",
           "arrowhead": 0,
           "arrowwidth": 1
          },
          "autotypenumbers": "strict",
          "coloraxis": {
           "colorbar": {
            "outlinewidth": 0,
            "ticks": ""
           }
          },
          "colorscale": {
           "diverging": [
            [
             0,
             "#8e0152"
            ],
            [
             0.1,
             "#c51b7d"
            ],
            [
             0.2,
             "#de77ae"
            ],
            [
             0.3,
             "#f1b6da"
            ],
            [
             0.4,
             "#fde0ef"
            ],
            [
             0.5,
             "#f7f7f7"
            ],
            [
             0.6,
             "#e6f5d0"
            ],
            [
             0.7,
             "#b8e186"
            ],
            [
             0.8,
             "#7fbc41"
            ],
            [
             0.9,
             "#4d9221"
            ],
            [
             1,
             "#276419"
            ]
           ],
           "sequential": [
            [
             0,
             "#0d0887"
            ],
            [
             0.1111111111111111,
             "#46039f"
            ],
            [
             0.2222222222222222,
             "#7201a8"
            ],
            [
             0.3333333333333333,
             "#9c179e"
            ],
            [
             0.4444444444444444,
             "#bd3786"
            ],
            [
             0.5555555555555556,
             "#d8576b"
            ],
            [
             0.6666666666666666,
             "#ed7953"
            ],
            [
             0.7777777777777778,
             "#fb9f3a"
            ],
            [
             0.8888888888888888,
             "#fdca26"
            ],
            [
             1,
             "#f0f921"
            ]
           ],
           "sequentialminus": [
            [
             0,
             "#0d0887"
            ],
            [
             0.1111111111111111,
             "#46039f"
            ],
            [
             0.2222222222222222,
             "#7201a8"
            ],
            [
             0.3333333333333333,
             "#9c179e"
            ],
            [
             0.4444444444444444,
             "#bd3786"
            ],
            [
             0.5555555555555556,
             "#d8576b"
            ],
            [
             0.6666666666666666,
             "#ed7953"
            ],
            [
             0.7777777777777778,
             "#fb9f3a"
            ],
            [
             0.8888888888888888,
             "#fdca26"
            ],
            [
             1,
             "#f0f921"
            ]
           ]
          },
          "colorway": [
           "#636efa",
           "#EF553B",
           "#00cc96",
           "#ab63fa",
           "#FFA15A",
           "#19d3f3",
           "#FF6692",
           "#B6E880",
           "#FF97FF",
           "#FECB52"
          ],
          "font": {
           "color": "#2a3f5f"
          },
          "geo": {
           "bgcolor": "white",
           "lakecolor": "white",
           "landcolor": "#E5ECF6",
           "showlakes": true,
           "showland": true,
           "subunitcolor": "white"
          },
          "hoverlabel": {
           "align": "left"
          },
          "hovermode": "closest",
          "mapbox": {
           "style": "light"
          },
          "paper_bgcolor": "white",
          "plot_bgcolor": "#E5ECF6",
          "polar": {
           "angularaxis": {
            "gridcolor": "white",
            "linecolor": "white",
            "ticks": ""
           },
           "bgcolor": "#E5ECF6",
           "radialaxis": {
            "gridcolor": "white",
            "linecolor": "white",
            "ticks": ""
           }
          },
          "scene": {
           "xaxis": {
            "backgroundcolor": "#E5ECF6",
            "gridcolor": "white",
            "gridwidth": 2,
            "linecolor": "white",
            "showbackground": true,
            "ticks": "",
            "zerolinecolor": "white"
           },
           "yaxis": {
            "backgroundcolor": "#E5ECF6",
            "gridcolor": "white",
            "gridwidth": 2,
            "linecolor": "white",
            "showbackground": true,
            "ticks": "",
            "zerolinecolor": "white"
           },
           "zaxis": {
            "backgroundcolor": "#E5ECF6",
            "gridcolor": "white",
            "gridwidth": 2,
            "linecolor": "white",
            "showbackground": true,
            "ticks": "",
            "zerolinecolor": "white"
           }
          },
          "shapedefaults": {
           "line": {
            "color": "#2a3f5f"
           }
          },
          "ternary": {
           "aaxis": {
            "gridcolor": "white",
            "linecolor": "white",
            "ticks": ""
           },
           "baxis": {
            "gridcolor": "white",
            "linecolor": "white",
            "ticks": ""
           },
           "bgcolor": "#E5ECF6",
           "caxis": {
            "gridcolor": "white",
            "linecolor": "white",
            "ticks": ""
           }
          },
          "title": {
           "x": 0.05
          },
          "xaxis": {
           "automargin": true,
           "gridcolor": "white",
           "linecolor": "white",
           "ticks": "",
           "title": {
            "standoff": 15
           },
           "zerolinecolor": "white",
           "zerolinewidth": 2
          },
          "yaxis": {
           "automargin": true,
           "gridcolor": "white",
           "linecolor": "white",
           "ticks": "",
           "title": {
            "standoff": 15
           },
           "zerolinecolor": "white",
           "zerolinewidth": 2
          }
         }
        },
        "xaxis": {
         "anchor": "y",
         "domain": [
          0,
          1
         ],
         "title": {
          "text": "DATA_ZDARZ"
         }
        },
        "yaxis": {
         "anchor": "x",
         "domain": [
          0,
          1
         ],
         "title": {
          "text": "MIEJSCOWOSC"
         }
        }
       }
      }
     },
     "metadata": {},
     "output_type": "display_data"
    }
   ],
   "source": [
    "new_df = grouped['2020-11-23': '2020-12-31']\n",
    "fig = px.line(new_df,y=\"MIEJSCOWOSC\")\n",
    "fig.show()\n"
   ]
  },
  {
   "cell_type": "code",
   "execution_count": 18,
   "metadata": {},
   "outputs": [
    {
     "data": {
      "text/plain": [
       "DATA_ZDARZ\n",
       "2020-11-23    516\n",
       "2020-11-24    410\n",
       "2020-11-25    422\n",
       "2020-11-26    479\n",
       "2020-11-27    510\n",
       "2020-11-28    443\n",
       "2020-11-29    194\n",
       "2020-11-30    362\n",
       "2020-12-01    488\n",
       "2020-12-02    524\n",
       "2020-12-03    451\n",
       "2020-12-04    524\n",
       "2020-12-05    347\n",
       "2020-12-06    227\n",
       "2020-12-07    505\n",
       "2020-12-08    328\n",
       "2020-12-09    434\n",
       "2020-12-10    984\n",
       "2020-12-11    649\n",
       "2020-12-12    422\n",
       "2020-12-13    233\n",
       "2020-12-14    546\n",
       "2020-12-15    469\n",
       "2020-12-16    622\n",
       "2020-12-17    511\n",
       "2020-12-18    686\n",
       "2020-12-19    320\n",
       "2020-12-20    304\n",
       "2020-12-21    644\n",
       "2020-12-22    983\n",
       "2020-12-23    661\n",
       "2020-12-24    377\n",
       "2020-12-25    129\n",
       "2020-12-26    153\n",
       "2020-12-27    169\n",
       "2020-12-28    382\n",
       "2020-12-29    519\n",
       "2020-12-30    598\n",
       "2020-12-31    346\n",
       "Name: MIEJSCOWOSC, dtype: int64"
      ]
     },
     "execution_count": 18,
     "metadata": {},
     "output_type": "execute_result"
    }
   ],
   "source": [
    "new_df"
   ]
  },
  {
   "cell_type": "code",
   "execution_count": 19,
   "metadata": {},
   "outputs": [
    {
     "data": {
      "text/plain": [
       "data\n",
       "2020-11-23    437.0\n",
       "2020-11-24    473.0\n",
       "2020-11-25    606.0\n",
       "2020-11-26    663.0\n",
       "2020-11-27    709.0\n",
       "2020-11-28    518.0\n",
       "2020-11-29    205.0\n",
       "2020-11-30    209.0\n",
       "2020-12-01    565.0\n",
       "2020-12-02    667.0\n",
       "2020-12-03    524.0\n",
       "2020-12-04    579.0\n",
       "2020-12-05    425.0\n",
       "2020-12-06    217.0\n",
       "2020-12-07    360.0\n",
       "2020-12-08    506.0\n",
       "2020-12-09    696.0\n",
       "2020-12-10    675.0\n",
       "2020-12-11    637.0\n",
       "2020-12-12    482.0\n",
       "2020-12-13    275.0\n",
       "2020-12-14    318.0\n",
       "2020-12-15    568.0\n",
       "2020-12-16    527.0\n",
       "2020-12-17    552.0\n",
       "2020-12-18    576.0\n",
       "2020-12-19    458.0\n",
       "2020-12-20    255.0\n",
       "2020-12-21    385.0\n",
       "2020-12-22    640.0\n",
       "2020-12-23    812.0\n",
       "2020-12-24    506.0\n",
       "2020-12-25    322.0\n",
       "2020-12-26    201.0\n",
       "2020-12-27    172.0\n",
       "2020-12-28    354.0\n",
       "2020-12-29    637.0\n",
       "2020-12-30    706.0\n",
       "2020-12-31    508.0\n",
       "Name: nowe_przypadki_warsaw, dtype: float64"
      ]
     },
     "execution_count": 19,
     "metadata": {},
     "output_type": "execute_result"
    }
   ],
   "source": [
    "new_warszawa = warszawa['2020-11-23': '2020-12-31']\n",
    "new_warszawa = warszawa['nowe_przypadki_warsaw']\n",
    "new_warszawa = new_warszawa['2020-11-23': '2020-12-31']\n",
    "new_warszawa"
   ]
  },
  {
   "cell_type": "code",
   "execution_count": null,
   "metadata": {},
   "outputs": [],
   "source": []
  }
 ],
 "metadata": {
  "interpreter": {
   "hash": "e7c9f80f3618f45ecfef668bfa3a583f5bb597334d77308f2cc3491cc6d9e9d8"
  },
  "kernelspec": {
   "display_name": "Python 3.9.7 64-bit ('base': conda)",
   "language": "python",
   "name": "python3"
  },
  "language_info": {
   "codemirror_mode": {
    "name": "ipython",
    "version": 3
   },
   "file_extension": ".py",
   "mimetype": "text/x-python",
   "name": "python",
   "nbconvert_exporter": "python",
   "pygments_lexer": "ipython3",
   "version": "3.9.7"
  },
  "orig_nbformat": 4
 },
 "nbformat": 4,
 "nbformat_minor": 2
}
